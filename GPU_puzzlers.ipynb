{
  "cells": [
    {
      "cell_type": "markdown",
      "id": "23454034",
      "metadata": {
        "lines_to_next_cell": 2,
        "id": "23454034"
      },
      "source": [
        "# GPU Puzzles\n",
        "- by [Sasha Rush](http://rush-nlp.com) - [srush_nlp](https://twitter.com/srush_nlp)"
      ]
    },
    {
      "cell_type": "markdown",
      "id": "09ffa5eb",
      "metadata": {
        "id": "09ffa5eb"
      },
      "source": [
        "![](https://github.com/srush/GPU-Puzzles/raw/main/cuda.png)"
      ]
    },
    {
      "cell_type": "markdown",
      "id": "c9064f5c",
      "metadata": {
        "id": "c9064f5c"
      },
      "source": [
        "GPU architectures are critical to machine learning, and seem to be\n",
        "becoming even more important every day. However, you can be an expert\n",
        "in machine learning without ever touching GPU code. It is hard to gain\n",
        "intuition working through abstractions."
      ]
    },
    {
      "cell_type": "markdown",
      "id": "d4af993a",
      "metadata": {
        "id": "d4af993a"
      },
      "source": [
        "This notebook is an attempt to teach beginner GPU programming in a\n",
        "completely interactive fashion. Instead of providing text with\n",
        "concepts, it throws you right into coding and building GPU\n",
        "kernels. The exercises use NUMBA which directly maps Python\n",
        "code to CUDA kernels. It looks like Python but is basically\n",
        "identical to writing low-level CUDA code.\n",
        "In a few hours, I think you can go from basics to\n",
        "understanding the real algorithms that power 99% of deep learning\n",
        "today. If you do want to read the manual, it is here:"
      ]
    },
    {
      "cell_type": "markdown",
      "id": "cb974c6b",
      "metadata": {
        "id": "cb974c6b"
      },
      "source": [
        "[NUMBA CUDA Guide](https://numba.readthedocs.io/en/stable/cuda/index.html)"
      ]
    },
    {
      "cell_type": "markdown",
      "id": "783f5a51",
      "metadata": {
        "id": "783f5a51"
      },
      "source": [
        "I recommend doing these in Colab, as it is easy to get started.  Be\n",
        "sure to make your own copy, turn on GPU mode in the settings (`Runtime / Change runtime type`, then set `Hardware accelerator` to `GPU`), and\n",
        "then get to coding."
      ]
    },
    {
      "cell_type": "markdown",
      "id": "743b3805",
      "metadata": {
        "id": "743b3805"
      },
      "source": [
        "[![Open In Colab](https://colab.research.google.com/assets/colab-badge.svg)](https://colab.research.google.com/github/srush/GPU-Puzzles/blob/main/GPU_puzzlers.ipynb)"
      ]
    },
    {
      "cell_type": "markdown",
      "id": "044bd802",
      "metadata": {
        "id": "044bd802"
      },
      "source": [
        "(If you are into this style of puzzle, also check out my [Tensor\n",
        "Puzzles](https://github.com/srush/Tensor-Puzzles) for PyTorch.)"
      ]
    },
    {
      "cell_type": "code",
      "execution_count": 2,
      "id": "4c078331",
      "metadata": {
        "execution": {
          "iopub.execute_input": "2022-08-07T21:24:28.090989Z",
          "iopub.status.busy": "2022-08-07T21:24:28.090509Z",
          "iopub.status.idle": "2022-08-07T21:24:40.218920Z",
          "shell.execute_reply": "2022-08-07T21:24:40.217864Z"
        },
        "lines_to_next_cell": 2,
        "id": "4c078331",
        "outputId": "3f8f71b3-e324-4186-d0ab-6565a20e7197",
        "colab": {
          "base_uri": "https://localhost:8080/"
        }
      },
      "outputs": [
        {
          "output_type": "stream",
          "name": "stdout",
          "text": [
            "  Preparing metadata (setup.py) ... \u001b[?25l\u001b[?25hdone\n",
            "  Installing build dependencies ... \u001b[?25l\u001b[?25hdone\n",
            "  Getting requirements to build wheel ... \u001b[?25l\u001b[?25hdone\n",
            "  Preparing metadata (pyproject.toml) ... \u001b[?25l\u001b[?25hdone\n",
            "\u001b[2K   \u001b[90m━━━━━━━━━━━━━━━━━━━━━━━━━━━━━━━━━━━━━━━━\u001b[0m \u001b[32m61.6/61.6 kB\u001b[0m \u001b[31m3.8 MB/s\u001b[0m eta \u001b[36m0:00:00\u001b[0m\n",
            "\u001b[2K   \u001b[90m━━━━━━━━━━━━━━━━━━━━━━━━━━━━━━━━━━━━━━━━\u001b[0m \u001b[32m67.1/67.1 kB\u001b[0m \u001b[31m4.6 MB/s\u001b[0m eta \u001b[36m0:00:00\u001b[0m\n",
            "\u001b[?25h  Building wheel for chalk-planar (setup.py) ... \u001b[?25l\u001b[?25hdone\n",
            "  Building wheel for chalk-diagrams (pyproject.toml) ... \u001b[?25l\u001b[?25hdone\n"
          ]
        }
      ],
      "source": [
        "!pip install -qqq git+https://github.com/chalk-diagrams/planar git+https://github.com/danoneata/chalk@srush-patch-1\n",
        "!wget -q https://github.com/srush/GPU-Puzzles/raw/main/robot.png https://github.com/srush/GPU-Puzzles/raw/main/lib.py\n",
        "!uv pip install -q --system numba-cuda==0.4.0"
      ]
    },
    {
      "cell_type": "code",
      "execution_count": 3,
      "id": "53cba43c",
      "metadata": {
        "execution": {
          "iopub.execute_input": "2022-08-07T21:24:40.223406Z",
          "iopub.status.busy": "2022-08-07T21:24:40.222945Z",
          "iopub.status.idle": "2022-08-07T21:24:40.697137Z",
          "shell.execute_reply": "2022-08-07T21:24:40.696287Z"
        },
        "id": "53cba43c"
      },
      "outputs": [],
      "source": [
        "import numba\n",
        "import numpy as np\n",
        "import warnings\n",
        "from lib import CudaProblem, Coord\n",
        "from numba import config\n",
        "config.CUDA_ENABLE_PYNVJITLINK = 1"
      ]
    },
    {
      "cell_type": "code",
      "execution_count": 4,
      "id": "76a82629",
      "metadata": {
        "execution": {
          "iopub.execute_input": "2022-08-07T21:24:40.701357Z",
          "iopub.status.busy": "2022-08-07T21:24:40.700827Z",
          "iopub.status.idle": "2022-08-07T21:24:40.705366Z",
          "shell.execute_reply": "2022-08-07T21:24:40.704574Z"
        },
        "lines_to_next_cell": 2,
        "id": "76a82629"
      },
      "outputs": [],
      "source": [
        "warnings.filterwarnings(\n",
        "    action=\"ignore\", category=numba.NumbaPerformanceWarning, module=\"numba\"\n",
        ")"
      ]
    },
    {
      "cell_type": "markdown",
      "id": "d0ad1b7a",
      "metadata": {
        "lines_to_next_cell": 2,
        "id": "d0ad1b7a"
      },
      "source": [
        "## Puzzle 1: Map\n",
        "\n",
        "Implement a \"kernel\" (GPU function) that adds 10 to each position of vector `a`\n",
        "and stores it in vector `out`.  You have 1 thread per position."
      ]
    },
    {
      "cell_type": "markdown",
      "id": "2bcbce0d",
      "metadata": {
        "lines_to_next_cell": 2,
        "id": "2bcbce0d"
      },
      "source": [
        "**Warning** This code looks like Python but it is really CUDA! You cannot use\n",
        "standard python tools like list comprehensions or ask for Numpy properties\n",
        "like shape or size (if you need the size, it is given as an argument).\n",
        "The puzzles only require doing simple operations, basically\n",
        "+, *, simple array indexing, for loops, and if statements.\n",
        "You are allowed to use local variables.\n",
        "If you get an\n",
        "error it is probably because you did something fancy :)."
      ]
    },
    {
      "cell_type": "markdown",
      "id": "cb5e1d85",
      "metadata": {
        "id": "cb5e1d85"
      },
      "source": [
        "*Tip: Think of the function `call` as being run 1 time for each thread.\n",
        "The only difference is that `cuda.threadIdx.x` changes each time.*"
      ]
    },
    {
      "cell_type": "code",
      "execution_count": 5,
      "id": "ab0899de",
      "metadata": {
        "execution": {
          "iopub.execute_input": "2022-08-07T21:24:40.710192Z",
          "iopub.status.busy": "2022-08-07T21:24:40.709745Z",
          "iopub.status.idle": "2022-08-07T21:24:40.779921Z",
          "shell.execute_reply": "2022-08-07T21:24:40.779104Z"
        },
        "id": "ab0899de",
        "outputId": "615c6176-9cd7-48c7-f6ac-e8443462c469",
        "colab": {
          "base_uri": "https://localhost:8080/",
          "height": 770
        }
      },
      "outputs": [
        {
          "output_type": "stream",
          "name": "stdout",
          "text": [
            "# Map\n",
            " \n",
            "   Score (Max Per Thread):\n",
            "   |  Global Reads | Global Writes |  Shared Reads | Shared Writes |\n",
            "   |             0 |             0 |             0 |             0 | \n",
            "\n"
          ]
        },
        {
          "output_type": "execute_result",
          "data": {
            "text/plain": [
              "Compose(envelope=<chalk.envelope.Envelope object at 0x792811e87190>, diagram1=ApplyStyle(style=Style(line_width=None, line_color=None, fill_color=<Color white>, fill_opacity=None, dashing=None, output_size=None), diagram=Primitive(shape=Rectangle(width=11.616000000000001, height=12.936255200000002, radius=None), style=Style(line_width=None, line_color=None, fill_color=None, fill_opacity=None, dashing=None, output_size=None), transform=Affine(1.0, 0.0, 0.0,\n",
              "       0.0, 1.0, 0.0))), diagram2=ApplyTransform(transform=Affine(1.0, 0.0, -0.0,\n",
              "       0.0, 1.0, -5.643127600000001), diagram=Compose(envelope=<chalk.envelope.Envelope object at 0x792811e86e10>, diagram1=Compose(envelope=<chalk.envelope.Envelope object at 0x792811e86d10>, diagram1=Compose(envelope=<chalk.envelope.Envelope object at 0x792811e86b10>, diagram1=Compose(envelope=<chalk.envelope.Envelope object at 0x792811e867d0>, diagram1=Compose(envelope=<chalk.envelope.Envelope object at 0x792811e865d0>, diagram1=Compose(envelope=<chalk.envelope.Envelope object at 0x792811e86310>, diagram1=Primitive(shape=Spacer(width=0, height=1.5), style=Style(line_width=None, line_color=None, fill_color=None, fill_opacity=None, dashing=None, output_size=None), transform=Affine(1.0, 0.0, 0.0,\n",
              "       0.0, 1.0, 0.0)), diagram2=ApplyTransform(transform=Affine(1.0, 0.0, 0.0,\n",
              "       0.0, 1.0, 0.75), diagram=Primitive(shape=Text(text='Map', font_size=1), style=Style(line_width=None, line_color=None, fill_color=None, fill_opacity=None, dashing=None, output_size=None), transform=Affine(1.0, 0.0, 0.0,\n",
              "       0.0, 1.0, 0.0)))), diagram2=ApplyTransform(transform=Affine(1.0, 0.0, 0.0,\n",
              "       0.0, 1.0, 1.2501), diagram=Primitive(shape=Spacer(width=0, height=1), style=Style(line_width=None, line_color=None, fill_color=None, fill_opacity=None, dashing=None, output_size=None), transform=Affine(1.0, 0.0, 0.0,\n",
              "       0.0, 1.0, 0.0)))), diagram2=ApplyTransform(transform=Affine(1.0, 0.0, 0.0,\n",
              "       0.0, 1.0, 2.2500999999999998), diagram=ApplyTransform(transform=Affine(1.0, 0.0, -1.6500000000000001,\n",
              "       0.0, 1.0, -0.0), diagram=Compose(envelope=<chalk.envelope.Envelope object at 0x792811e85ed0>, diagram1=Compose(envelope=<chalk.envelope.Envelope object at 0x792811e85d50>, diagram1=Compose(envelope=<chalk.envelope.Envelope object at 0x792811e85bd0>, diagram1=Compose(envelope=<chalk.envelope.Envelope object at 0x792811e85a90>, diagram1=Empty(), diagram2=ApplyTransform(transform=Affine(1.0, 0.0, 0.0,\n",
              "       0.0, 1.0, 0.0), diagram=Compose(envelope=<chalk.envelope.Envelope object at 0x792811e84c90>, diagram1=ApplyStyle(style=Style(line_width=None, line_color=None, fill_color=None, fill_opacity=0.7, dashing=None, output_size=None), diagram=ApplyStyle(style=Style(line_width=None, line_color=None, fill_color=<Color red>, fill_opacity=None, dashing=None, output_size=None), diagram=Primitive(shape=Circle(radius=0.5), style=Style(line_width=None, line_color=None, fill_color=None, fill_opacity=None, dashing=None, output_size=None), transform=Affine(1.0, 0.0, 0.0,\n",
              "       0.0, 1.0, 0.0)))), diagram2=Primitive(shape=Image(local_path='robot.png', url_path='https://raw.githubusercontent.com/minitorch/diagrams/main/robot.png'), style=Style(line_width=None, line_color=None, fill_color=None, fill_opacity=None, dashing=None, output_size=None), transform=Affine(0.0008333333333333334, 0.0, 0.0,\n",
              "       0.0, 0.0008333333333333334, 0.0))))), diagram2=ApplyTransform(transform=Affine(1.0, 0.0, 1.1,\n",
              "       0.0, 1.0, 0.0), diagram=Compose(envelope=<chalk.envelope.Envelope object at 0x792811e850d0>, diagram1=ApplyStyle(style=Style(line_width=None, line_color=None, fill_color=None, fill_opacity=0.7, dashing=None, output_size=None), diagram=ApplyStyle(style=Style(line_width=None, line_color=None, fill_color=<Color #ff7100>, fill_opacity=None, dashing=None, output_size=None), diagram=Primitive(shape=Circle(radius=0.5), style=Style(line_width=None, line_color=None, fill_color=None, fill_opacity=None, dashing=None, output_size=None), transform=Affine(1.0, 0.0, 0.0,\n",
              "       0.0, 1.0, 0.0)))), diagram2=Primitive(shape=Image(local_path='robot.png', url_path='https://raw.githubusercontent.com/minitorch/diagrams/main/robot.png'), style=Style(line_width=None, line_color=None, fill_color=None, fill_opacity=None, dashing=None, output_size=None), transform=Affine(0.0008333333333333334, 0.0, 0.0,\n",
              "       0.0, 0.0008333333333333334, 0.0))))), diagram2=ApplyTransform(transform=Affine(1.0, 0.0, 2.2,\n",
              "       0.0, 1.0, 0.0), diagram=Compose(envelope=<chalk.envelope.Envelope object at 0x792811e85510>, diagram1=ApplyStyle(style=Style(line_width=None, line_color=None, fill_color=None, fill_opacity=0.7, dashing=None, output_size=None), diagram=ApplyStyle(style=Style(line_width=None, line_color=None, fill_color=<Color #ffe300>, fill_opacity=None, dashing=None, output_size=None), diagram=Primitive(shape=Circle(radius=0.5), style=Style(line_width=None, line_color=None, fill_color=None, fill_opacity=None, dashing=None, output_size=None), transform=Affine(1.0, 0.0, 0.0,\n",
              "       0.0, 1.0, 0.0)))), diagram2=Primitive(shape=Image(local_path='robot.png', url_path='https://raw.githubusercontent.com/minitorch/diagrams/main/robot.png'), style=Style(line_width=None, line_color=None, fill_color=None, fill_opacity=None, dashing=None, output_size=None), transform=Affine(0.0008333333333333334, 0.0, 0.0,\n",
              "       0.0, 0.0008333333333333334, 0.0))))), diagram2=ApplyTransform(transform=Affine(1.0, 0.0, 3.3000000000000003,\n",
              "       0.0, 1.0, 0.0), diagram=Compose(envelope=<chalk.envelope.Envelope object at 0x792811e85950>, diagram1=ApplyStyle(style=Style(line_width=None, line_color=None, fill_color=None, fill_opacity=0.7, dashing=None, output_size=None), diagram=ApplyStyle(style=Style(line_width=None, line_color=None, fill_color=<Color #af0>, fill_opacity=None, dashing=None, output_size=None), diagram=Primitive(shape=Circle(radius=0.5), style=Style(line_width=None, line_color=None, fill_color=None, fill_opacity=None, dashing=None, output_size=None), transform=Affine(1.0, 0.0, 0.0,\n",
              "       0.0, 1.0, 0.0)))), diagram2=Primitive(shape=Image(local_path='robot.png', url_path='https://raw.githubusercontent.com/minitorch/diagrams/main/robot.png'), style=Style(line_width=None, line_color=None, fill_color=None, fill_opacity=None, dashing=None, output_size=None), transform=Affine(0.0008333333333333334, 0.0, 0.0,\n",
              "       0.0, 0.0008333333333333334, 0.0)))))))), diagram2=ApplyTransform(transform=Affine(1.0, 0.0, 0.0,\n",
              "       0.0, 1.0, 3.2500999999999998), diagram=Primitive(shape=Spacer(width=0, height=1), style=Style(line_width=None, line_color=None, fill_color=None, fill_opacity=None, dashing=None, output_size=None), transform=Affine(1.0, 0.0, 0.0,\n",
              "       0.0, 1.0, 0.0)))), diagram2=ApplyTransform(transform=Affine(1.0, 0.0, 0.0,\n",
              "       0.0, 1.0, 7.380166), diagram=ApplyTransform(transform=Affine(1.0, 0.0, -0.0,\n",
              "       0.0, 1.0, -0.0), diagram=Compose(envelope=<chalk.envelope.Envelope object at 0x792811e84910>, diagram1=Empty(), diagram2=ApplyTransform(transform=Affine(1.0, 0.0, 0.0,\n",
              "       0.0, 1.0, 0.0), diagram=Compose(envelope=<chalk.envelope.Envelope object at 0x792811e84710>, diagram1=Compose(envelope=<chalk.envelope.Envelope object at 0x792811e84610>, diagram1=Compose(envelope=<chalk.envelope.Envelope object at 0x792811ecbfd0>, diagram1=ApplyTransform(transform=Affine(1.0, 0.0, -3.5,\n",
              "       0.0, 1.0, -0.0), diagram=Compose(envelope=<chalk.envelope.Envelope object at 0x792811ecbe50>, diagram1=Compose(envelope=<chalk.envelope.Envelope object at 0x792811ecbb90>, diagram1=Primitive(shape=Spacer(width=1, height=0), style=Style(line_width=None, line_color=None, fill_color=None, fill_opacity=None, dashing=None, output_size=None), transform=Affine(1.0, 0.0, 0.0,\n",
              "       0.0, 1.0, 0.0)), diagram2=ApplyTransform(transform=Affine(1.0, 0.0, 3.5,\n",
              "       0.0, 1.0, 0.0), diagram=ApplyTransform(transform=Affine(1.0, 0.0, -0.0,\n",
              "       0.0, 1.0, 0.5000499999999999), diagram=Compose(envelope=<chalk.envelope.Envelope object at 0x792811ecb8d0>, diagram1=ApplyTransform(transform=Affine(1.0, 0.0, -2.5,\n",
              "       0.0, 1.0, -0.0), diagram=Compose(envelope=<chalk.envelope.Envelope object at 0x792811ecae10>, diagram1=Compose(envelope=<chalk.envelope.Envelope object at 0x792811ecab90>, diagram1=Compose(envelope=<chalk.envelope.Envelope object at 0x792811eca8d0>, diagram1=Compose(envelope=<chalk.envelope.Envelope object at 0x792811eca650>, diagram1=Compose(envelope=<chalk.envelope.Envelope object at 0x792811eca3d0>, diagram1=Compose(envelope=<chalk.envelope.Envelope object at 0x792811eca250>, diagram1=Compose(envelope=<chalk.envelope.Envelope object at 0x792811ec9f50>, diagram1=Compose(envelope=<chalk.envelope.Envelope object at 0x792811ec9e10>, diagram1=ApplyTransform(transform=Affine(1.0, 0.0, -0.0,\n",
              "       0.0, 1.0, 0.25), diagram=Compose(envelope=<chalk.envelope.Envelope object at 0x792811ec8910>, diagram1=ApplyStyle(style=Style(line_width=(<WidthType.NORMALIZED: 2>, 0.05), line_color=None, fill_color=None, fill_opacity=None, dashing=None, output_size=None), diagram=ApplyTransform(transform=Affine(1.0, 0.0, -0.0,\n",
              "       0.0, 1.0, -1.5), diagram=Compose(envelope=<chalk.envelope.Envelope object at 0x792811ec8550>, diagram1=Compose(envelope=<chalk.envelope.Envelope object at 0x792811ec83d0>, diagram1=Compose(envelope=<chalk.envelope.Envelope object at 0x792811ec8250>, diagram1=Compose(envelope=<chalk.envelope.Envelope object at 0x792811eaacd0>, diagram1=Empty(), diagram2=ApplyName(dname=('a', 0), diagram=Primitive(shape=Rectangle(width=1, height=1, radius=None), style=Style(line_width=None, line_color=None, fill_color=None, fill_opacity=None, dashing=None, output_size=None), transform=Affine(1.0, 0.0, 0.0,\n",
              "       0.0, 1.0, 0.0)))), diagram2=ApplyName(dname=('a', 1), diagram=Primitive(shape=Rectangle(width=1, height=1, radius=None), style=Style(line_width=None, line_color=None, fill_color=None, fill_opacity=None, dashing=None, output_size=None), transform=Affine(1.0, 0.0, 0.0,\n",
              "       0.0, 1.0, 1.0)))), diagram2=ApplyName(dname=('a', 2), diagram=Primitive(shape=Rectangle(width=1, height=1, radius=None), style=Style(line_width=None, line_color=None, fill_color=None, fill_opacity=None, dashing=None, output_size=None), transform=Affine(1.0, 0.0, 0.0,\n",
              "       0.0, 1.0, 2.0)))), diagram2=ApplyName(dname=('a', 3), diagram=Primitive(shape=Rectangle(width=1, height=1, radius=None), style=Style(line_width=None, line_color=None, fill_color=None, fill_opacity=None, dashing=None, output_size=None), transform=Affine(1.0, 0.0, 0.0,\n",
              "       0.0, 1.0, 3.0)))))), diagram2=ApplyTransform(transform=Affine(1.0, 0.0, -0.0,\n",
              "       0.0, 1.0, -2.25), diagram=Compose(envelope=<chalk.envelope.Envelope object at 0x792811ec8850>, diagram1=ApplyStyle(style=Style(line_width=(<WidthType.NORMALIZED: 2>, 0.0), line_color=None, fill_color=None, fill_opacity=None, dashing=None, output_size=None), diagram=ApplyStyle(style=Style(line_width=None, line_color=None, fill_color=<Color black>, fill_opacity=None, dashing=None, output_size=None), diagram=Primitive(shape=Text(text='a', font_size=0.5), style=Style(line_width=None, line_color=None, fill_color=None, fill_opacity=None, dashing=None, output_size=None), transform=Affine(1.0, 0.0, 0.0,\n",
              "       0.0, 1.0, 0.0)))), diagram2=Primitive(shape=Spacer(width=0, height=0.5), style=Style(line_width=None, line_color=None, fill_color=None, fill_opacity=None, dashing=None, output_size=None), transform=Affine(1.0, 0.0, 0.0,\n",
              "       0.0, 1.0, 0.0)))))), diagram2=ApplyTransform(transform=Affine(1.0, 0.0, 1.5,\n",
              "       0.0, 1.0, 0.0), diagram=Primitive(shape=Spacer(width=2.0, height=0), style=Style(line_width=None, line_color=None, fill_color=None, fill_opacity=None, dashing=None, output_size=None), transform=Affine(1.0, 0.0, 0.0,\n",
              "       0.0, 1.0, 0.0)))), diagram2=ApplyTransform(transform=Affine(1.0, 0.0, 2.5,\n",
              "       0.0, 1.0, 0.0), diagram=Empty())), diagram2=ApplyTransform(transform=Affine(1.0, 0.0, 3.5,\n",
              "       0.0, 1.0, 0.0), diagram=Primitive(shape=Spacer(width=2.0, height=0), style=Style(line_width=None, line_color=None, fill_color=None, fill_opacity=None, dashing=None, output_size=None), transform=Affine(1.0, 0.0, 0.0,\n",
              "       0.0, 1.0, 0.0)))), diagram2=ApplyTransform(transform=Affine(1.0, 0.0, 5.0,\n",
              "       0.0, 1.0, 0.0), diagram=ApplyTransform(transform=Affine(1.0, 0.0, -0.0,\n",
              "       0.0, 1.0, 0.25), diagram=Compose(envelope=<chalk.envelope.Envelope object at 0x792811ec9ad0>, diagram1=ApplyStyle(style=Style(line_width=(<WidthType.NORMALIZED: 2>, 0.05), line_color=None, fill_color=None, fill_opacity=None, dashing=None, output_size=None), diagram=ApplyTransform(transform=Affine(1.0, 0.0, -0.0,\n",
              "       0.0, 1.0, -1.5), diagram=Compose(envelope=<chalk.envelope.Envelope object at 0x792811ec9590>, diagram1=Compose(envelope=<chalk.envelope.Envelope object at 0x792811ec93d0>, diagram1=Compose(envelope=<chalk.envelope.Envelope object at 0x792811ec9250>, diagram1=Compose(envelope=<chalk.envelope.Envelope object at 0x792811ec9110>, diagram1=Empty(), diagram2=ApplyName(dname=('out', 0), diagram=Primitive(shape=Rectangle(width=1, height=1, radius=None), style=Style(line_width=None, line_color=None, fill_color=None, fill_opacity=None, dashing=None, output_size=None), transform=Affine(1.0, 0.0, 0.0,\n",
              "       0.0, 1.0, 0.0)))), diagram2=ApplyName(dname=('out', 1), diagram=Primitive(shape=Rectangle(width=1, height=1, radius=None), style=Style(line_width=None, line_color=None, fill_color=None, fill_opacity=None, dashing=None, output_size=None), transform=Affine(1.0, 0.0, 0.0,\n",
              "       0.0, 1.0, 1.0)))), diagram2=ApplyName(dname=('out', 2), diagram=Primitive(shape=Rectangle(width=1, height=1, radius=None), style=Style(line_width=None, line_color=None, fill_color=None, fill_opacity=None, dashing=None, output_size=None), transform=Affine(1.0, 0.0, 0.0,\n",
              "       0.0, 1.0, 2.0)))), diagram2=ApplyName(dname=('out', 3), diagram=Primitive(shape=Rectangle(width=1, height=1, radius=None), style=Style(line_width=None, line_color=None, fill_color=None, fill_opacity=None, dashing=None, output_size=None), transform=Affine(1.0, 0.0, 0.0,\n",
              "       0.0, 1.0, 3.0)))))), diagram2=ApplyTransform(transform=Affine(1.0, 0.0, -0.0,\n",
              "       0.0, 1.0, -2.25), diagram=Compose(envelope=<chalk.envelope.Envelope object at 0x792811ec9950>, diagram1=ApplyStyle(style=Style(line_width=(<WidthType.NORMALIZED: 2>, 0.0), line_color=None, fill_color=None, fill_opacity=None, dashing=None, output_size=None), diagram=ApplyStyle(style=Style(line_width=None, line_color=None, fill_color=<Color black>, fill_opacity=None, dashing=None, output_size=None), diagram=Primitive(shape=Text(text='out', font_size=0.5), style=Style(line_width=None, line_color=None, fill_color=None, fill_opacity=None, dashing=None, output_size=None), transform=Affine(1.0, 0.0, 0.0,\n",
              "       0.0, 1.0, 0.0)))), diagram2=Primitive(shape=Spacer(width=0, height=0.5), style=Style(line_width=None, line_color=None, fill_color=None, fill_opacity=None, dashing=None, output_size=None), transform=Affine(1.0, 0.0, 0.0,\n",
              "       0.0, 1.0, 0.0)))))))), diagram2=Compose(envelope=<chalk.envelope.Envelope object at 0x792811eca5d0>, diagram1=Compose(envelope=<chalk.envelope.Envelope object at 0x792811eca550>, diagram1=Empty(), diagram2=Empty()), diagram2=Empty())), diagram2=Compose(envelope=<chalk.envelope.Envelope object at 0x792811eca850>, diagram1=Compose(envelope=<chalk.envelope.Envelope object at 0x792811eca7d0>, diagram1=Empty(), diagram2=Empty()), diagram2=Empty())), diagram2=Compose(envelope=<chalk.envelope.Envelope object at 0x792811ecaad0>, diagram1=Compose(envelope=<chalk.envelope.Envelope object at 0x792811ecaa50>, diagram1=Empty(), diagram2=Empty()), diagram2=Empty())), diagram2=Compose(envelope=<chalk.envelope.Envelope object at 0x792811ecad90>, diagram1=Compose(envelope=<chalk.envelope.Envelope object at 0x792811ecad10>, diagram1=Empty(), diagram2=Empty()), diagram2=Empty()))), diagram2=ApplyTransform(transform=Affine(1.0, 0.0, -0.0,\n",
              "       0.0, 1.0, -3.0000999999999998), diagram=Compose(envelope=<chalk.envelope.Envelope object at 0x792811ecb6d0>, diagram1=Compose(envelope=<chalk.envelope.Envelope object at 0x792811ecb410>, diagram1=Primitive(shape=Spacer(width=0, height=0.5), style=Style(line_width=None, line_color=None, fill_color=None, fill_opacity=None, dashing=None, output_size=None), transform=Affine(1.0, 0.0, 0.0,\n",
              "       0.0, 1.0, 0.0)), diagram2=ApplyTransform(transform=Affine(1.0, 0.0, 0.0,\n",
              "       0.0, 1.0, 0.25), diagram=ApplyStyle(style=Style(line_width=(<WidthType.NORMALIZED: 2>, 0), line_color=None, fill_color=None, fill_opacity=None, dashing=None, output_size=None), diagram=ApplyStyle(style=Style(line_width=None, line_color=None, fill_color=<Color black>, fill_opacity=None, dashing=None, output_size=None), diagram=Primitive(shape=Text(text='Block 0 0', font_size=0.5), style=Style(line_width=None, line_color=None, fill_color=None, fill_opacity=None, dashing=None, output_size=None), transform=Affine(1.0, 0.0, 0.0,\n",
              "       0.0, 1.0, 0.0)))))), diagram2=ApplyTransform(transform=Affine(1.0, 0.0, 0.0,\n",
              "       0.0, 1.0, 0.5001), diagram=Primitive(shape=Spacer(width=0, height=0.5), style=Style(line_width=None, line_color=None, fill_color=None, fill_opacity=None, dashing=None, output_size=None), transform=Affine(1.0, 0.0, 0.0,\n",
              "       0.0, 1.0, 0.0))))))))), diagram2=ApplyTransform(transform=Affine(1.0, 0.0, 7.0,\n",
              "       0.0, 1.0, 0.0), diagram=Primitive(shape=Spacer(width=1, height=0), style=Style(line_width=None, line_color=None, fill_color=None, fill_opacity=None, dashing=None, output_size=None), transform=Affine(1.0, 0.0, 0.0,\n",
              "       0.0, 1.0, 0.0))))), diagram2=Empty()), diagram2=ApplyStyle(style=Style(line_width=None, line_color=None, fill_color=None, fill_opacity=0.0, dashing=None, output_size=None), diagram=ApplyStyle(style=Style(line_width=None, line_color=<Color gray>, fill_color=None, fill_opacity=None, dashing=None, output_size=None), diagram=Primitive(shape=Rectangle(width=9.6, height=6.6001199999999995, radius=0.5), style=Style(line_width=None, line_color=None, fill_color=None, fill_opacity=None, dashing=None, output_size=None), transform=Affine(1.0, 0.0, 0.0,\n",
              "       0.0, 1.0, 0.0))))), diagram2=Empty())))))), diagram2=Empty())))"
            ],
            "image/svg+xml": "<?xml version=\"1.0\" encoding=\"utf-8\" ?>\n<svg baseProfile=\"full\" height=\"646.81276\" version=\"1.1\" width=\"580\" xmlns=\"http://www.w3.org/2000/svg\" xmlns:ev=\"http://www.w3.org/2001/xml-events\" xmlns:xlink=\"http://www.w3.org/1999/xlink\"><defs><marker id=\"arrow\" markerHeight=\"3.5\" markerWidth=\"5\" orient=\"auto\" refX=\"5.0\" refY=\"1.7\"><polygon points=\"0,0 5,1.75 0,3.5\" /></marker></defs><g style=\"fill:white;\"><g transform=\"matrix(1.0, 0.0, 0.0, 1.0, 290.0, 322.9609166666667)\"><g transform=\"matrix(47.55345664436573, 0.0, 0.0, 47.55345664436573, 0.0, 0.0)\"><g><g transform=\"matrix(1.0, 0.0, 0.0, 1.0, -0.0, -0.0)\"><g><g style=\"fill: #ffffff;stroke: black;stroke-width: 1.5;\" transform=\"matrix(1.0, 0.0, 0.0, 1.0, 0.0, 0.0)\"><rect height=\"12.936255200000002\" style=\"vector-effect: non-scaling-stroke;\" width=\"11.616000000000001\" x=\"-5.808000000000001\" y=\"-6.468127600000001\" /></g><g transform=\"matrix(1.0, 0.0, 0.0, 1.0, -0.0, -5.643127600000001)\"><g><g><g><g><g><g><g style=\"stroke: black;stroke-width: 1.5;\" transform=\"matrix(1.0, 0.0, 0.0, 1.0, 0.0, 0.0)\"><g /></g><g transform=\"matrix(1.0, 0.0, 0.0, 1.0, 0.0, 0.75)\"><g style=\"stroke: black;stroke-width: 1.5;\" transform=\"matrix(1.0, 0.0, 0.0, 1.0, 0.0, 0.0)\"><text style=\"text-align:center; text-anchor:middle; dominant-baseline:middle;font-family:sans-serif; font-weight: bold;font-size:1px;vector-effect: non-scaling-stroke;\" transform=\"translate(-5e-05, 0)\">Map</text></g></g></g><g transform=\"matrix(1.0, 0.0, 0.0, 1.0, 0.0, 1.2501)\"><g style=\"stroke: black;stroke-width: 1.5;\" transform=\"matrix(1.0, 0.0, 0.0, 1.0, 0.0, 0.0)\"><g /></g></g></g><g transform=\"matrix(1.0, 0.0, 0.0, 1.0, 0.0, 2.2500999999999998)\"><g transform=\"matrix(1.0, 0.0, 0.0, 1.0, -1.6500000000000001, -0.0)\"><g><g><g><g><g /><g transform=\"matrix(1.0, 0.0, 0.0, 1.0, 0.0, 0.0)\"><g><g style=\"fill: #ff0000;stroke: black;stroke-width: 1.5;fill-opacity: 0.7;\" transform=\"matrix(1.0, 0.0, 0.0, 1.0, 0.0, 0.0)\"><circle cx=\"0.0\" cy=\"0.0\" r=\"0.5\" style=\"vector-effect: non-scaling-stroke\" /></g><g style=\"stroke: black;stroke-width: 1.5;\" transform=\"matrix(0.0008333333333333334, 0.0, 0.0, 0.0008333333333333334, 0.0, 0.0)\"><image transform=\"translate(-600.0, -600.0)\" xlink:href=\"https://raw.githubusercontent.com/minitorch/diagrams/main/robot.png\" /></g></g></g></g><g transform=\"matrix(1.0, 0.0, 0.0, 1.0, 1.1, 0.0)\"><g><g style=\"fill: #ff7100;stroke: black;stroke-width: 1.5;fill-opacity: 0.7;\" transform=\"matrix(1.0, 0.0, 0.0, 1.0, 0.0, 0.0)\"><circle cx=\"0.0\" cy=\"0.0\" r=\"0.5\" style=\"vector-effect: non-scaling-stroke\" /></g><g style=\"stroke: black;stroke-width: 1.5;\" transform=\"matrix(0.0008333333333333334, 0.0, 0.0, 0.0008333333333333334, 0.0, 0.0)\"><image transform=\"translate(-600.0, -600.0)\" xlink:href=\"https://raw.githubusercontent.com/minitorch/diagrams/main/robot.png\" /></g></g></g></g><g transform=\"matrix(1.0, 0.0, 0.0, 1.0, 2.2, 0.0)\"><g><g style=\"fill: #ffe300;stroke: black;stroke-width: 1.5;fill-opacity: 0.7;\" transform=\"matrix(1.0, 0.0, 0.0, 1.0, 0.0, 0.0)\"><circle cx=\"0.0\" cy=\"0.0\" r=\"0.5\" style=\"vector-effect: non-scaling-stroke\" /></g><g style=\"stroke: black;stroke-width: 1.5;\" transform=\"matrix(0.0008333333333333334, 0.0, 0.0, 0.0008333333333333334, 0.0, 0.0)\"><image transform=\"translate(-600.0, -600.0)\" xlink:href=\"https://raw.githubusercontent.com/minitorch/diagrams/main/robot.png\" /></g></g></g></g><g transform=\"matrix(1.0, 0.0, 0.0, 1.0, 3.3000000000000003, 0.0)\"><g><g style=\"fill: #aaff00;stroke: black;stroke-width: 1.5;fill-opacity: 0.7;\" transform=\"matrix(1.0, 0.0, 0.0, 1.0, 0.0, 0.0)\"><circle cx=\"0.0\" cy=\"0.0\" r=\"0.5\" style=\"vector-effect: non-scaling-stroke\" /></g><g style=\"stroke: black;stroke-width: 1.5;\" transform=\"matrix(0.0008333333333333334, 0.0, 0.0, 0.0008333333333333334, 0.0, 0.0)\"><image transform=\"translate(-600.0, -600.0)\" xlink:href=\"https://raw.githubusercontent.com/minitorch/diagrams/main/robot.png\" /></g></g></g></g></g></g></g><g transform=\"matrix(1.0, 0.0, 0.0, 1.0, 0.0, 3.2500999999999998)\"><g style=\"stroke: black;stroke-width: 1.5;\" transform=\"matrix(1.0, 0.0, 0.0, 1.0, 0.0, 0.0)\"><g /></g></g></g><g transform=\"matrix(1.0, 0.0, 0.0, 1.0, 0.0, 7.380166)\"><g transform=\"matrix(1.0, 0.0, 0.0, 1.0, -0.0, -0.0)\"><g><g /><g transform=\"matrix(1.0, 0.0, 0.0, 1.0, 0.0, 0.0)\"><g><g><g><g transform=\"matrix(1.0, 0.0, 0.0, 1.0, -3.5, -0.0)\"><g><g><g style=\"stroke: black;stroke-width: 1.5;\" transform=\"matrix(1.0, 0.0, 0.0, 1.0, 0.0, 0.0)\"><g /></g><g transform=\"matrix(1.0, 0.0, 0.0, 1.0, 3.5, 0.0)\"><g transform=\"matrix(1.0, 0.0, 0.0, 1.0, -0.0, 0.5000499999999999)\"><g><g transform=\"matrix(1.0, 0.0, 0.0, 1.0, -2.5, -0.0)\"><g><g><g><g><g><g><g><g><g transform=\"matrix(1.0, 0.0, 0.0, 1.0, -0.0, 0.25)\"><g><g transform=\"matrix(1.0, 0.0, 0.0, 1.0, -0.0, -1.5)\"><g><g><g><g><g /><g><g style=\"stroke: black;stroke-width: 0.75;\" transform=\"matrix(1.0, 0.0, 0.0, 1.0, 0.0, 0.0)\"><rect height=\"1\" style=\"vector-effect: non-scaling-stroke;\" width=\"1\" x=\"-0.5\" y=\"-0.5\" /></g></g></g><g><g style=\"stroke: black;stroke-width: 0.75;\" transform=\"matrix(1.0, 0.0, 0.0, 1.0, 0.0, 1.0)\"><rect height=\"1\" style=\"vector-effect: non-scaling-stroke;\" width=\"1\" x=\"-0.5\" y=\"-0.5\" /></g></g></g><g><g style=\"stroke: black;stroke-width: 0.75;\" transform=\"matrix(1.0, 0.0, 0.0, 1.0, 0.0, 2.0)\"><rect height=\"1\" style=\"vector-effect: non-scaling-stroke;\" width=\"1\" x=\"-0.5\" y=\"-0.5\" /></g></g></g><g><g style=\"stroke: black;stroke-width: 0.75;\" transform=\"matrix(1.0, 0.0, 0.0, 1.0, 0.0, 3.0)\"><rect height=\"1\" style=\"vector-effect: non-scaling-stroke;\" width=\"1\" x=\"-0.5\" y=\"-0.5\" /></g></g></g></g><g transform=\"matrix(1.0, 0.0, 0.0, 1.0, -0.0, -2.25)\"><g><g style=\"fill: #000000;stroke: black;stroke-width: 0.0;\" transform=\"matrix(1.0, 0.0, 0.0, 1.0, 0.0, 0.0)\"><text style=\"text-align:center; text-anchor:middle; dominant-baseline:middle;font-family:sans-serif; font-weight: bold;font-size:0.5px;vector-effect: non-scaling-stroke;\" transform=\"translate(-5e-05, 0)\">a</text></g><g style=\"stroke: black;stroke-width: 1.5;\" transform=\"matrix(1.0, 0.0, 0.0, 1.0, 0.0, 0.0)\"><g /></g></g></g></g></g><g transform=\"matrix(1.0, 0.0, 0.0, 1.0, 1.5, 0.0)\"><g style=\"stroke: black;stroke-width: 1.5;\" transform=\"matrix(1.0, 0.0, 0.0, 1.0, 0.0, 0.0)\"><g /></g></g></g><g transform=\"matrix(1.0, 0.0, 0.0, 1.0, 2.5, 0.0)\"><g /></g></g><g transform=\"matrix(1.0, 0.0, 0.0, 1.0, 3.5, 0.0)\"><g style=\"stroke: black;stroke-width: 1.5;\" transform=\"matrix(1.0, 0.0, 0.0, 1.0, 0.0, 0.0)\"><g /></g></g></g><g transform=\"matrix(1.0, 0.0, 0.0, 1.0, 5.0, 0.0)\"><g transform=\"matrix(1.0, 0.0, 0.0, 1.0, -0.0, 0.25)\"><g><g transform=\"matrix(1.0, 0.0, 0.0, 1.0, -0.0, -1.5)\"><g><g><g><g><g /><g><g style=\"stroke: black;stroke-width: 0.75;\" transform=\"matrix(1.0, 0.0, 0.0, 1.0, 0.0, 0.0)\"><rect height=\"1\" style=\"vector-effect: non-scaling-stroke;\" width=\"1\" x=\"-0.5\" y=\"-0.5\" /></g></g></g><g><g style=\"stroke: black;stroke-width: 0.75;\" transform=\"matrix(1.0, 0.0, 0.0, 1.0, 0.0, 1.0)\"><rect height=\"1\" style=\"vector-effect: non-scaling-stroke;\" width=\"1\" x=\"-0.5\" y=\"-0.5\" /></g></g></g><g><g style=\"stroke: black;stroke-width: 0.75;\" transform=\"matrix(1.0, 0.0, 0.0, 1.0, 0.0, 2.0)\"><rect height=\"1\" style=\"vector-effect: non-scaling-stroke;\" width=\"1\" x=\"-0.5\" y=\"-0.5\" /></g></g></g><g><g style=\"stroke: black;stroke-width: 0.75;\" transform=\"matrix(1.0, 0.0, 0.0, 1.0, 0.0, 3.0)\"><rect height=\"1\" style=\"vector-effect: non-scaling-stroke;\" width=\"1\" x=\"-0.5\" y=\"-0.5\" /></g></g></g></g><g transform=\"matrix(1.0, 0.0, 0.0, 1.0, -0.0, -2.25)\"><g><g style=\"fill: #000000;stroke: black;stroke-width: 0.0;\" transform=\"matrix(1.0, 0.0, 0.0, 1.0, 0.0, 0.0)\"><text style=\"text-align:center; text-anchor:middle; dominant-baseline:middle;font-family:sans-serif; font-weight: bold;font-size:0.5px;vector-effect: non-scaling-stroke;\" transform=\"translate(-5e-05, 0)\">out</text></g><g style=\"stroke: black;stroke-width: 1.5;\" transform=\"matrix(1.0, 0.0, 0.0, 1.0, 0.0, 0.0)\"><g /></g></g></g></g></g></g></g><g><g><g /><g /></g><g /></g></g><g><g><g /><g /></g><g /></g></g><g><g><g /><g /></g><g /></g></g><g><g><g /><g /></g><g /></g></g></g><g transform=\"matrix(1.0, 0.0, 0.0, 1.0, -0.0, -3.0000999999999998)\"><g><g><g style=\"stroke: black;stroke-width: 1.5;\" transform=\"matrix(1.0, 0.0, 0.0, 1.0, 0.0, 0.0)\"><g /></g><g transform=\"matrix(1.0, 0.0, 0.0, 1.0, 0.0, 0.25)\"><g style=\"fill: #000000;stroke: black;stroke-width: 0.0;\" transform=\"matrix(1.0, 0.0, 0.0, 1.0, 0.0, 0.0)\"><text style=\"text-align:center; text-anchor:middle; dominant-baseline:middle;font-family:sans-serif; font-weight: bold;font-size:0.5px;vector-effect: non-scaling-stroke;\" transform=\"translate(-5e-05, 0)\">Block 0 0</text></g></g></g><g transform=\"matrix(1.0, 0.0, 0.0, 1.0, 0.0, 0.5001)\"><g style=\"stroke: black;stroke-width: 1.5;\" transform=\"matrix(1.0, 0.0, 0.0, 1.0, 0.0, 0.0)\"><g /></g></g></g></g></g></g></g></g><g transform=\"matrix(1.0, 0.0, 0.0, 1.0, 7.0, 0.0)\"><g style=\"stroke: black;stroke-width: 1.5;\" transform=\"matrix(1.0, 0.0, 0.0, 1.0, 0.0, 0.0)\"><g /></g></g></g></g><g /></g><g style=\"stroke: #808080;stroke-width: 1.5;fill-opacity: 0.0;\" transform=\"matrix(1.0, 0.0, 0.0, 1.0, 0.0, 0.0)\"><rect height=\"6.6001199999999995\" rx=\"0.5\" ry=\"0.5\" style=\"vector-effect: non-scaling-stroke;\" width=\"9.6\" x=\"-4.8\" y=\"-3.3000599999999998\" /></g></g><g /></g></g></g></g></g></g><g /></g></g></g></g><g /></g></g></g></g></svg>"
          },
          "metadata": {},
          "execution_count": 5
        }
      ],
      "source": [
        "def map_spec(a):\n",
        "    return a + 10\n",
        "\n",
        "\n",
        "def map_test(cuda):\n",
        "    def call(out, a) -> None:\n",
        "        local_i = cuda.threadIdx.x\n",
        "        # FILL ME IN (roughly 1 lines)\n",
        "\n",
        "    return call\n",
        "\n",
        "\n",
        "SIZE = 4\n",
        "out = np.zeros((SIZE,))\n",
        "a = np.arange(SIZE)\n",
        "problem = CudaProblem(\n",
        "    \"Map\", map_test, [a], out, threadsperblock=Coord(SIZE, 1), spec=map_spec\n",
        ")\n",
        "problem.show()"
      ]
    },
    {
      "cell_type": "code",
      "execution_count": 6,
      "id": "0a5520a6",
      "metadata": {
        "execution": {
          "iopub.execute_input": "2022-08-07T21:24:40.783843Z",
          "iopub.status.busy": "2022-08-07T21:24:40.783394Z",
          "iopub.status.idle": "2022-08-07T21:24:41.318965Z",
          "shell.execute_reply": "2022-08-07T21:24:41.318117Z"
        },
        "lines_to_end_of_cell_marker": 0,
        "lines_to_next_cell": 1,
        "id": "0a5520a6",
        "outputId": "6855aa7b-ccfc-4962-8008-d06ae33cfc38",
        "colab": {
          "base_uri": "https://localhost:8080/",
          "height": 657
        }
      },
      "outputs": [
        {
          "output_type": "error",
          "ename": "CudaSupportError",
          "evalue": "Error at driver init: \n\nCUDA driver library cannot be found.\nIf you are sure that a CUDA driver is installed,\ntry setting environment variable NUMBA_CUDA_DRIVER\nwith the file path of the CUDA driver shared library.\n:",
          "traceback": [
            "\u001b[0;31m---------------------------------------------------------------------------\u001b[0m",
            "\u001b[0;31mCudaSupportError\u001b[0m                          Traceback (most recent call last)",
            "\u001b[0;32m/tmp/ipython-input-6-1697992962.py\u001b[0m in \u001b[0;36m<cell line: 0>\u001b[0;34m()\u001b[0m\n\u001b[0;32m----> 1\u001b[0;31m \u001b[0mproblem\u001b[0m\u001b[0;34m.\u001b[0m\u001b[0mcheck\u001b[0m\u001b[0;34m(\u001b[0m\u001b[0;34m)\u001b[0m\u001b[0;34m\u001b[0m\u001b[0;34m\u001b[0m\u001b[0m\n\u001b[0m",
            "\u001b[0;32m/content/lib.py\u001b[0m in \u001b[0;36mcheck\u001b[0;34m(self)\u001b[0m\n\u001b[1;32m    398\u001b[0m \u001b[0;34m\u001b[0m\u001b[0m\n\u001b[1;32m    399\u001b[0m     \u001b[0;32mdef\u001b[0m \u001b[0mcheck\u001b[0m\u001b[0;34m(\u001b[0m\u001b[0mself\u001b[0m\u001b[0;34m)\u001b[0m\u001b[0;34m:\u001b[0m\u001b[0;34m\u001b[0m\u001b[0;34m\u001b[0m\u001b[0m\n\u001b[0;32m--> 400\u001b[0;31m         \u001b[0mx\u001b[0m \u001b[0;34m=\u001b[0m \u001b[0mself\u001b[0m\u001b[0;34m.\u001b[0m\u001b[0mrun_cuda\u001b[0m\u001b[0;34m(\u001b[0m\u001b[0;34m)\u001b[0m\u001b[0;34m\u001b[0m\u001b[0;34m\u001b[0m\u001b[0m\n\u001b[0m\u001b[1;32m    401\u001b[0m         \u001b[0my\u001b[0m \u001b[0;34m=\u001b[0m \u001b[0mself\u001b[0m\u001b[0;34m.\u001b[0m\u001b[0mspec\u001b[0m\u001b[0;34m(\u001b[0m\u001b[0;34m*\u001b[0m\u001b[0mself\u001b[0m\u001b[0;34m.\u001b[0m\u001b[0minputs\u001b[0m\u001b[0;34m)\u001b[0m\u001b[0;34m\u001b[0m\u001b[0;34m\u001b[0m\u001b[0m\n\u001b[1;32m    402\u001b[0m         \u001b[0;32mtry\u001b[0m\u001b[0;34m:\u001b[0m\u001b[0;34m\u001b[0m\u001b[0;34m\u001b[0m\u001b[0m\n",
            "\u001b[0;32m/content/lib.py\u001b[0m in \u001b[0;36mrun_cuda\u001b[0;34m(self)\u001b[0m\n\u001b[1;32m    340\u001b[0m         \u001b[0mfn\u001b[0m \u001b[0;34m=\u001b[0m \u001b[0mfn\u001b[0m\u001b[0;34m(\u001b[0m\u001b[0mnumba\u001b[0m\u001b[0;34m.\u001b[0m\u001b[0mcuda\u001b[0m\u001b[0;34m)\u001b[0m\u001b[0;34m\u001b[0m\u001b[0;34m\u001b[0m\u001b[0m\n\u001b[1;32m    341\u001b[0m         \u001b[0mjitfn\u001b[0m \u001b[0;34m=\u001b[0m \u001b[0mnumba\u001b[0m\u001b[0;34m.\u001b[0m\u001b[0mcuda\u001b[0m\u001b[0;34m.\u001b[0m\u001b[0mjit\u001b[0m\u001b[0;34m(\u001b[0m\u001b[0mfn\u001b[0m\u001b[0;34m)\u001b[0m\u001b[0;34m\u001b[0m\u001b[0;34m\u001b[0m\u001b[0m\n\u001b[0;32m--> 342\u001b[0;31m         jitfn[self.blockspergrid.tuple(), self.threadsperblock.tuple()](\n\u001b[0m\u001b[1;32m    343\u001b[0m             \u001b[0mself\u001b[0m\u001b[0;34m.\u001b[0m\u001b[0mout\u001b[0m\u001b[0;34m,\u001b[0m \u001b[0;34m*\u001b[0m\u001b[0mself\u001b[0m\u001b[0;34m.\u001b[0m\u001b[0minputs\u001b[0m\u001b[0;34m,\u001b[0m \u001b[0;34m*\u001b[0m\u001b[0mself\u001b[0m\u001b[0;34m.\u001b[0m\u001b[0margs\u001b[0m\u001b[0;34m\u001b[0m\u001b[0;34m\u001b[0m\u001b[0m\n\u001b[1;32m    344\u001b[0m         )\n",
            "\u001b[0;32m/usr/local/lib/python3.11/dist-packages/numba_cuda/numba/cuda/dispatcher.py\u001b[0m in \u001b[0;36m__call__\u001b[0;34m(self, *args)\u001b[0m\n\u001b[1;32m    606\u001b[0m \u001b[0;34m\u001b[0m\u001b[0m\n\u001b[1;32m    607\u001b[0m     \u001b[0;32mdef\u001b[0m \u001b[0m__call__\u001b[0m\u001b[0;34m(\u001b[0m\u001b[0mself\u001b[0m\u001b[0;34m,\u001b[0m \u001b[0;34m*\u001b[0m\u001b[0margs\u001b[0m\u001b[0;34m)\u001b[0m\u001b[0;34m:\u001b[0m\u001b[0;34m\u001b[0m\u001b[0;34m\u001b[0m\u001b[0m\n\u001b[0;32m--> 608\u001b[0;31m         return self.dispatcher.call(args, self.griddim, self.blockdim,\n\u001b[0m\u001b[1;32m    609\u001b[0m                                     self.stream, self.sharedmem)\n\u001b[1;32m    610\u001b[0m \u001b[0;34m\u001b[0m\u001b[0m\n",
            "\u001b[0;32m/usr/local/lib/python3.11/dist-packages/numba_cuda/numba/cuda/dispatcher.py\u001b[0m in \u001b[0;36mcall\u001b[0;34m(self, args, griddim, blockdim, stream, sharedmem)\u001b[0m\n\u001b[1;32m    748\u001b[0m             \u001b[0mkernel\u001b[0m \u001b[0;34m=\u001b[0m \u001b[0mnext\u001b[0m\u001b[0;34m(\u001b[0m\u001b[0miter\u001b[0m\u001b[0;34m(\u001b[0m\u001b[0mself\u001b[0m\u001b[0;34m.\u001b[0m\u001b[0moverloads\u001b[0m\u001b[0;34m.\u001b[0m\u001b[0mvalues\u001b[0m\u001b[0;34m(\u001b[0m\u001b[0;34m)\u001b[0m\u001b[0;34m)\u001b[0m\u001b[0;34m)\u001b[0m\u001b[0;34m\u001b[0m\u001b[0;34m\u001b[0m\u001b[0m\n\u001b[1;32m    749\u001b[0m         \u001b[0;32melse\u001b[0m\u001b[0;34m:\u001b[0m\u001b[0;34m\u001b[0m\u001b[0;34m\u001b[0m\u001b[0m\n\u001b[0;32m--> 750\u001b[0;31m             \u001b[0mkernel\u001b[0m \u001b[0;34m=\u001b[0m \u001b[0m_dispatcher\u001b[0m\u001b[0;34m.\u001b[0m\u001b[0mDispatcher\u001b[0m\u001b[0;34m.\u001b[0m\u001b[0m_cuda_call\u001b[0m\u001b[0;34m(\u001b[0m\u001b[0mself\u001b[0m\u001b[0;34m,\u001b[0m \u001b[0;34m*\u001b[0m\u001b[0margs\u001b[0m\u001b[0;34m)\u001b[0m\u001b[0;34m\u001b[0m\u001b[0;34m\u001b[0m\u001b[0m\n\u001b[0m\u001b[1;32m    751\u001b[0m \u001b[0;34m\u001b[0m\u001b[0m\n\u001b[1;32m    752\u001b[0m         \u001b[0mkernel\u001b[0m\u001b[0;34m.\u001b[0m\u001b[0mlaunch\u001b[0m\u001b[0;34m(\u001b[0m\u001b[0margs\u001b[0m\u001b[0;34m,\u001b[0m \u001b[0mgriddim\u001b[0m\u001b[0;34m,\u001b[0m \u001b[0mblockdim\u001b[0m\u001b[0;34m,\u001b[0m \u001b[0mstream\u001b[0m\u001b[0;34m,\u001b[0m \u001b[0msharedmem\u001b[0m\u001b[0;34m)\u001b[0m\u001b[0;34m\u001b[0m\u001b[0;34m\u001b[0m\u001b[0m\n",
            "\u001b[0;32m/usr/local/lib/python3.11/dist-packages/numba_cuda/numba/cuda/dispatcher.py\u001b[0m in \u001b[0;36m_compile_for_args\u001b[0;34m(self, *args, **kws)\u001b[0m\n\u001b[1;32m    756\u001b[0m         \u001b[0;32massert\u001b[0m \u001b[0;32mnot\u001b[0m \u001b[0mkws\u001b[0m\u001b[0;34m\u001b[0m\u001b[0;34m\u001b[0m\u001b[0m\n\u001b[1;32m    757\u001b[0m         \u001b[0margtypes\u001b[0m \u001b[0;34m=\u001b[0m \u001b[0;34m[\u001b[0m\u001b[0mself\u001b[0m\u001b[0;34m.\u001b[0m\u001b[0mtypeof_pyval\u001b[0m\u001b[0;34m(\u001b[0m\u001b[0ma\u001b[0m\u001b[0;34m)\u001b[0m \u001b[0;32mfor\u001b[0m \u001b[0ma\u001b[0m \u001b[0;32min\u001b[0m \u001b[0margs\u001b[0m\u001b[0;34m]\u001b[0m\u001b[0;34m\u001b[0m\u001b[0;34m\u001b[0m\u001b[0m\n\u001b[0;32m--> 758\u001b[0;31m         \u001b[0;32mreturn\u001b[0m \u001b[0mself\u001b[0m\u001b[0;34m.\u001b[0m\u001b[0mcompile\u001b[0m\u001b[0;34m(\u001b[0m\u001b[0mtuple\u001b[0m\u001b[0;34m(\u001b[0m\u001b[0margtypes\u001b[0m\u001b[0;34m)\u001b[0m\u001b[0;34m)\u001b[0m\u001b[0;34m\u001b[0m\u001b[0;34m\u001b[0m\u001b[0m\n\u001b[0m\u001b[1;32m    759\u001b[0m \u001b[0;34m\u001b[0m\u001b[0m\n\u001b[1;32m    760\u001b[0m     \u001b[0;32mdef\u001b[0m \u001b[0mtypeof_pyval\u001b[0m\u001b[0;34m(\u001b[0m\u001b[0mself\u001b[0m\u001b[0;34m,\u001b[0m \u001b[0mval\u001b[0m\u001b[0;34m)\u001b[0m\u001b[0;34m:\u001b[0m\u001b[0;34m\u001b[0m\u001b[0;34m\u001b[0m\u001b[0m\n",
            "\u001b[0;32m/usr/local/lib/python3.11/dist-packages/numba_cuda/numba/cuda/dispatcher.py\u001b[0m in \u001b[0;36mcompile\u001b[0;34m(self, sig)\u001b[0m\n\u001b[1;32m   1001\u001b[0m                 \u001b[0;32mraise\u001b[0m \u001b[0mRuntimeError\u001b[0m\u001b[0;34m(\u001b[0m\u001b[0;34m\"Compilation disabled\"\u001b[0m\u001b[0;34m)\u001b[0m\u001b[0;34m\u001b[0m\u001b[0;34m\u001b[0m\u001b[0m\n\u001b[1;32m   1002\u001b[0m \u001b[0;34m\u001b[0m\u001b[0m\n\u001b[0;32m-> 1003\u001b[0;31m             \u001b[0mkernel\u001b[0m \u001b[0;34m=\u001b[0m \u001b[0m_Kernel\u001b[0m\u001b[0;34m(\u001b[0m\u001b[0mself\u001b[0m\u001b[0;34m.\u001b[0m\u001b[0mpy_func\u001b[0m\u001b[0;34m,\u001b[0m \u001b[0margtypes\u001b[0m\u001b[0;34m,\u001b[0m \u001b[0;34m**\u001b[0m\u001b[0mself\u001b[0m\u001b[0;34m.\u001b[0m\u001b[0mtargetoptions\u001b[0m\u001b[0;34m)\u001b[0m\u001b[0;34m\u001b[0m\u001b[0;34m\u001b[0m\u001b[0m\n\u001b[0m\u001b[1;32m   1004\u001b[0m             \u001b[0;31m# We call bind to force codegen, so that there is a cubin to cache\u001b[0m\u001b[0;34m\u001b[0m\u001b[0;34m\u001b[0m\u001b[0m\n\u001b[1;32m   1005\u001b[0m             \u001b[0mkernel\u001b[0m\u001b[0;34m.\u001b[0m\u001b[0mbind\u001b[0m\u001b[0;34m(\u001b[0m\u001b[0;34m)\u001b[0m\u001b[0;34m\u001b[0m\u001b[0;34m\u001b[0m\u001b[0m\n",
            "\u001b[0;32m/usr/local/lib/python3.11/dist-packages/numba/core/compiler_lock.py\u001b[0m in \u001b[0;36m_acquire_compile_lock\u001b[0;34m(*args, **kwargs)\u001b[0m\n\u001b[1;32m     33\u001b[0m         \u001b[0;32mdef\u001b[0m \u001b[0m_acquire_compile_lock\u001b[0m\u001b[0;34m(\u001b[0m\u001b[0;34m*\u001b[0m\u001b[0margs\u001b[0m\u001b[0;34m,\u001b[0m \u001b[0;34m**\u001b[0m\u001b[0mkwargs\u001b[0m\u001b[0;34m)\u001b[0m\u001b[0;34m:\u001b[0m\u001b[0;34m\u001b[0m\u001b[0;34m\u001b[0m\u001b[0m\n\u001b[1;32m     34\u001b[0m             \u001b[0;32mwith\u001b[0m \u001b[0mself\u001b[0m\u001b[0;34m:\u001b[0m\u001b[0;34m\u001b[0m\u001b[0;34m\u001b[0m\u001b[0m\n\u001b[0;32m---> 35\u001b[0;31m                 \u001b[0;32mreturn\u001b[0m \u001b[0mfunc\u001b[0m\u001b[0;34m(\u001b[0m\u001b[0;34m*\u001b[0m\u001b[0margs\u001b[0m\u001b[0;34m,\u001b[0m \u001b[0;34m**\u001b[0m\u001b[0mkwargs\u001b[0m\u001b[0;34m)\u001b[0m\u001b[0;34m\u001b[0m\u001b[0;34m\u001b[0m\u001b[0m\n\u001b[0m\u001b[1;32m     36\u001b[0m         \u001b[0;32mreturn\u001b[0m \u001b[0m_acquire_compile_lock\u001b[0m\u001b[0;34m\u001b[0m\u001b[0;34m\u001b[0m\u001b[0m\n\u001b[1;32m     37\u001b[0m \u001b[0;34m\u001b[0m\u001b[0m\n",
            "\u001b[0;32m/usr/local/lib/python3.11/dist-packages/numba_cuda/numba/cuda/dispatcher.py\u001b[0m in \u001b[0;36m__init__\u001b[0;34m(self, py_func, argtypes, link, debug, lineinfo, inline, fastmath, extensions, max_registers, lto, opt, device)\u001b[0m\n\u001b[1;32m    102\u001b[0m             \u001b[0mnvvm_options\u001b[0m\u001b[0;34m[\u001b[0m\u001b[0;34m'g'\u001b[0m\u001b[0;34m]\u001b[0m \u001b[0;34m=\u001b[0m \u001b[0;32mNone\u001b[0m\u001b[0;34m\u001b[0m\u001b[0;34m\u001b[0m\u001b[0m\n\u001b[1;32m    103\u001b[0m \u001b[0;34m\u001b[0m\u001b[0m\n\u001b[0;32m--> 104\u001b[0;31m         \u001b[0mcc\u001b[0m \u001b[0;34m=\u001b[0m \u001b[0mget_current_device\u001b[0m\u001b[0;34m(\u001b[0m\u001b[0;34m)\u001b[0m\u001b[0;34m.\u001b[0m\u001b[0mcompute_capability\u001b[0m\u001b[0;34m\u001b[0m\u001b[0;34m\u001b[0m\u001b[0m\n\u001b[0m\u001b[1;32m    105\u001b[0m         cres = compile_cuda(self.py_func, types.void, self.argtypes,\n\u001b[1;32m    106\u001b[0m                             \u001b[0mdebug\u001b[0m\u001b[0;34m=\u001b[0m\u001b[0mself\u001b[0m\u001b[0;34m.\u001b[0m\u001b[0mdebug\u001b[0m\u001b[0;34m,\u001b[0m\u001b[0;34m\u001b[0m\u001b[0;34m\u001b[0m\u001b[0m\n",
            "\u001b[0;32m/usr/local/lib/python3.11/dist-packages/numba_cuda/numba/cuda/api.py\u001b[0m in \u001b[0;36mget_current_device\u001b[0;34m()\u001b[0m\n\u001b[1;32m    442\u001b[0m \u001b[0;32mdef\u001b[0m \u001b[0mget_current_device\u001b[0m\u001b[0;34m(\u001b[0m\u001b[0;34m)\u001b[0m\u001b[0;34m:\u001b[0m\u001b[0;34m\u001b[0m\u001b[0;34m\u001b[0m\u001b[0m\n\u001b[1;32m    443\u001b[0m     \u001b[0;34m\"Get current device associated with the current thread\"\u001b[0m\u001b[0;34m\u001b[0m\u001b[0;34m\u001b[0m\u001b[0m\n\u001b[0;32m--> 444\u001b[0;31m     \u001b[0;32mreturn\u001b[0m \u001b[0mcurrent_context\u001b[0m\u001b[0;34m(\u001b[0m\u001b[0;34m)\u001b[0m\u001b[0;34m.\u001b[0m\u001b[0mdevice\u001b[0m\u001b[0;34m\u001b[0m\u001b[0;34m\u001b[0m\u001b[0m\n\u001b[0m\u001b[1;32m    445\u001b[0m \u001b[0;34m\u001b[0m\u001b[0m\n\u001b[1;32m    446\u001b[0m \u001b[0;34m\u001b[0m\u001b[0m\n",
            "\u001b[0;32m/usr/local/lib/python3.11/dist-packages/numba_cuda/numba/cuda/cudadrv/devices.py\u001b[0m in \u001b[0;36mget_context\u001b[0;34m(devnum)\u001b[0m\n\u001b[1;32m    218\u001b[0m     \u001b[0;32mreturn\u001b[0m \u001b[0mthe\u001b[0m \u001b[0mCUDA\u001b[0m \u001b[0mcontext\u001b[0m\u001b[0;34m.\u001b[0m\u001b[0;34m\u001b[0m\u001b[0;34m\u001b[0m\u001b[0m\n\u001b[1;32m    219\u001b[0m     \"\"\"\n\u001b[0;32m--> 220\u001b[0;31m     \u001b[0;32mreturn\u001b[0m \u001b[0m_runtime\u001b[0m\u001b[0;34m.\u001b[0m\u001b[0mget_or_create_context\u001b[0m\u001b[0;34m(\u001b[0m\u001b[0mdevnum\u001b[0m\u001b[0;34m)\u001b[0m\u001b[0;34m\u001b[0m\u001b[0;34m\u001b[0m\u001b[0m\n\u001b[0m\u001b[1;32m    221\u001b[0m \u001b[0;34m\u001b[0m\u001b[0m\n\u001b[1;32m    222\u001b[0m \u001b[0;34m\u001b[0m\u001b[0m\n",
            "\u001b[0;32m/usr/local/lib/python3.11/dist-packages/numba_cuda/numba/cuda/cudadrv/devices.py\u001b[0m in \u001b[0;36mget_or_create_context\u001b[0;34m(self, devnum)\u001b[0m\n\u001b[1;32m    136\u001b[0m             \u001b[0mattached_ctx\u001b[0m \u001b[0;34m=\u001b[0m \u001b[0mself\u001b[0m\u001b[0;34m.\u001b[0m\u001b[0m_get_attached_context\u001b[0m\u001b[0;34m(\u001b[0m\u001b[0;34m)\u001b[0m\u001b[0;34m\u001b[0m\u001b[0;34m\u001b[0m\u001b[0m\n\u001b[1;32m    137\u001b[0m             \u001b[0;32mif\u001b[0m \u001b[0mattached_ctx\u001b[0m \u001b[0;32mis\u001b[0m \u001b[0;32mNone\u001b[0m\u001b[0;34m:\u001b[0m\u001b[0;34m\u001b[0m\u001b[0;34m\u001b[0m\u001b[0m\n\u001b[0;32m--> 138\u001b[0;31m                 \u001b[0;32mreturn\u001b[0m \u001b[0mself\u001b[0m\u001b[0;34m.\u001b[0m\u001b[0m_get_or_create_context_uncached\u001b[0m\u001b[0;34m(\u001b[0m\u001b[0mdevnum\u001b[0m\u001b[0;34m)\u001b[0m\u001b[0;34m\u001b[0m\u001b[0;34m\u001b[0m\u001b[0m\n\u001b[0m\u001b[1;32m    139\u001b[0m             \u001b[0;32melse\u001b[0m\u001b[0;34m:\u001b[0m\u001b[0;34m\u001b[0m\u001b[0;34m\u001b[0m\u001b[0m\n\u001b[1;32m    140\u001b[0m                 \u001b[0;32mreturn\u001b[0m \u001b[0mattached_ctx\u001b[0m\u001b[0;34m\u001b[0m\u001b[0;34m\u001b[0m\u001b[0m\n",
            "\u001b[0;32m/usr/local/lib/python3.11/dist-packages/numba_cuda/numba/cuda/cudadrv/devices.py\u001b[0m in \u001b[0;36m_get_or_create_context_uncached\u001b[0;34m(self, devnum)\u001b[0m\n\u001b[1;32m    151\u001b[0m             \u001b[0;31m# Try to get the active context in the CUDA stack or\u001b[0m\u001b[0;34m\u001b[0m\u001b[0;34m\u001b[0m\u001b[0m\n\u001b[1;32m    152\u001b[0m             \u001b[0;31m# activate GPU-0 with the primary context\u001b[0m\u001b[0;34m\u001b[0m\u001b[0;34m\u001b[0m\u001b[0m\n\u001b[0;32m--> 153\u001b[0;31m             \u001b[0;32mwith\u001b[0m \u001b[0mdriver\u001b[0m\u001b[0;34m.\u001b[0m\u001b[0mget_active_context\u001b[0m\u001b[0;34m(\u001b[0m\u001b[0;34m)\u001b[0m \u001b[0;32mas\u001b[0m \u001b[0mac\u001b[0m\u001b[0;34m:\u001b[0m\u001b[0;34m\u001b[0m\u001b[0;34m\u001b[0m\u001b[0m\n\u001b[0m\u001b[1;32m    154\u001b[0m                 \u001b[0;32mif\u001b[0m \u001b[0;32mnot\u001b[0m \u001b[0mac\u001b[0m\u001b[0;34m:\u001b[0m\u001b[0;34m\u001b[0m\u001b[0;34m\u001b[0m\u001b[0m\n\u001b[1;32m    155\u001b[0m                     \u001b[0;32mreturn\u001b[0m \u001b[0mself\u001b[0m\u001b[0;34m.\u001b[0m\u001b[0m_activate_context_for\u001b[0m\u001b[0;34m(\u001b[0m\u001b[0;36m0\u001b[0m\u001b[0;34m)\u001b[0m\u001b[0;34m\u001b[0m\u001b[0;34m\u001b[0m\u001b[0m\n",
            "\u001b[0;32m/usr/local/lib/python3.11/dist-packages/numba_cuda/numba/cuda/cudadrv/driver.py\u001b[0m in \u001b[0;36m__enter__\u001b[0;34m(self)\u001b[0m\n\u001b[1;32m    493\u001b[0m             \u001b[0;32melse\u001b[0m\u001b[0;34m:\u001b[0m\u001b[0;34m\u001b[0m\u001b[0;34m\u001b[0m\u001b[0m\n\u001b[1;32m    494\u001b[0m                 \u001b[0mhctx\u001b[0m \u001b[0;34m=\u001b[0m \u001b[0mdrvapi\u001b[0m\u001b[0;34m.\u001b[0m\u001b[0mcu_context\u001b[0m\u001b[0;34m(\u001b[0m\u001b[0;36m0\u001b[0m\u001b[0;34m)\u001b[0m\u001b[0;34m\u001b[0m\u001b[0;34m\u001b[0m\u001b[0m\n\u001b[0;32m--> 495\u001b[0;31m                 \u001b[0mdriver\u001b[0m\u001b[0;34m.\u001b[0m\u001b[0mcuCtxGetCurrent\u001b[0m\u001b[0;34m(\u001b[0m\u001b[0mbyref\u001b[0m\u001b[0;34m(\u001b[0m\u001b[0mhctx\u001b[0m\u001b[0;34m)\u001b[0m\u001b[0;34m)\u001b[0m\u001b[0;34m\u001b[0m\u001b[0;34m\u001b[0m\u001b[0m\n\u001b[0m\u001b[1;32m    496\u001b[0m                 \u001b[0mhctx\u001b[0m \u001b[0;34m=\u001b[0m \u001b[0mhctx\u001b[0m \u001b[0;32mif\u001b[0m \u001b[0mhctx\u001b[0m\u001b[0;34m.\u001b[0m\u001b[0mvalue\u001b[0m \u001b[0;32melse\u001b[0m \u001b[0;32mNone\u001b[0m\u001b[0;34m\u001b[0m\u001b[0;34m\u001b[0m\u001b[0m\n\u001b[1;32m    497\u001b[0m \u001b[0;34m\u001b[0m\u001b[0m\n",
            "\u001b[0;32m/usr/local/lib/python3.11/dist-packages/numba_cuda/numba/cuda/cudadrv/driver.py\u001b[0m in \u001b[0;36m__getattr__\u001b[0;34m(self, fname)\u001b[0m\n\u001b[1;32m    293\u001b[0m \u001b[0;34m\u001b[0m\u001b[0m\n\u001b[1;32m    294\u001b[0m         \u001b[0;32mif\u001b[0m \u001b[0mself\u001b[0m\u001b[0;34m.\u001b[0m\u001b[0minitialization_error\u001b[0m \u001b[0;32mis\u001b[0m \u001b[0;32mnot\u001b[0m \u001b[0;32mNone\u001b[0m\u001b[0;34m:\u001b[0m\u001b[0;34m\u001b[0m\u001b[0;34m\u001b[0m\u001b[0m\n\u001b[0;32m--> 295\u001b[0;31m             raise CudaSupportError(\"Error at driver init: \\n%s:\" %\n\u001b[0m\u001b[1;32m    296\u001b[0m                                    self.initialization_error)\n\u001b[1;32m    297\u001b[0m \u001b[0;34m\u001b[0m\u001b[0m\n",
            "\u001b[0;31mCudaSupportError\u001b[0m: Error at driver init: \n\nCUDA driver library cannot be found.\nIf you are sure that a CUDA driver is installed,\ntry setting environment variable NUMBA_CUDA_DRIVER\nwith the file path of the CUDA driver shared library.\n:",
            "",
            "\u001b[0;31m---------------------------------------------------------------------------\u001b[0;32m\nNOTE: If your import is failing due to a missing package, you can\nmanually install dependencies using either !pip or !apt.\n\nTo view examples of installing some common dependencies, click the\n\"Open Examples\" button below.\n\u001b[0;31m---------------------------------------------------------------------------\u001b[0m\n"
          ],
          "errorDetails": {
            "actions": [
              {
                "action": "open_url",
                "actionText": "Open Examples",
                "url": "/notebooks/snippets/importing_libraries.ipynb"
              }
            ]
          }
        }
      ],
      "source": [
        "problem.check()"
      ]
    },
    {
      "cell_type": "markdown",
      "id": "59aecc28",
      "metadata": {
        "id": "59aecc28"
      },
      "source": [
        "## Puzzle 2 - Zip\n",
        "\n",
        "Implement a kernel that adds together each position of `a` and `b` and stores it in `out`.\n",
        "You have 1 thread per position."
      ]
    },
    {
      "cell_type": "code",
      "execution_count": null,
      "id": "619b4208",
      "metadata": {
        "execution": {
          "iopub.execute_input": "2022-08-07T21:24:41.322974Z",
          "iopub.status.busy": "2022-08-07T21:24:41.322540Z",
          "iopub.status.idle": "2022-08-07T21:24:41.408046Z",
          "shell.execute_reply": "2022-08-07T21:24:41.407300Z"
        },
        "lines_to_next_cell": 0,
        "id": "619b4208"
      },
      "outputs": [],
      "source": [
        "def zip_spec(a, b):\n",
        "    return a + b\n",
        "\n",
        "\n",
        "def zip_test(cuda):\n",
        "    def call(out, a, b) -> None:\n",
        "        local_i = cuda.threadIdx.x\n",
        "        # FILL ME IN (roughly 1 lines)\n",
        "\n",
        "    return call\n",
        "\n",
        "\n",
        "SIZE = 4\n",
        "out = np.zeros((SIZE,))\n",
        "a = np.arange(SIZE)\n",
        "b = np.arange(SIZE)\n",
        "problem = CudaProblem(\n",
        "    \"Zip\", zip_test, [a, b], out, threadsperblock=Coord(SIZE, 1), spec=zip_spec\n",
        ")\n",
        "problem.show()"
      ]
    },
    {
      "cell_type": "code",
      "execution_count": null,
      "id": "93ddda39",
      "metadata": {
        "id": "93ddda39"
      },
      "outputs": [],
      "source": []
    },
    {
      "cell_type": "code",
      "execution_count": null,
      "id": "f5037564",
      "metadata": {
        "execution": {
          "iopub.execute_input": "2022-08-07T21:24:41.411997Z",
          "iopub.status.busy": "2022-08-07T21:24:41.411569Z",
          "iopub.status.idle": "2022-08-07T21:24:41.450428Z",
          "shell.execute_reply": "2022-08-07T21:24:41.449609Z"
        },
        "lines_to_end_of_cell_marker": 0,
        "lines_to_next_cell": 1,
        "id": "f5037564"
      },
      "outputs": [],
      "source": [
        "problem.check()"
      ]
    },
    {
      "cell_type": "markdown",
      "id": "bb90ab5b",
      "metadata": {
        "id": "bb90ab5b"
      },
      "source": [
        "## Puzzle 3 - Guards\n",
        "\n",
        "Implement a kernel that adds 10 to each position of `a` and stores it in `out`.\n",
        "You have more threads than positions."
      ]
    },
    {
      "cell_type": "code",
      "execution_count": null,
      "id": "f5c83704",
      "metadata": {
        "execution": {
          "iopub.execute_input": "2022-08-07T21:24:41.454648Z",
          "iopub.status.busy": "2022-08-07T21:24:41.454179Z",
          "iopub.status.idle": "2022-08-07T21:24:41.527083Z",
          "shell.execute_reply": "2022-08-07T21:24:41.526268Z"
        },
        "id": "f5c83704"
      },
      "outputs": [],
      "source": [
        "def map_guard_test(cuda):\n",
        "    def call(out, a, size) -> None:\n",
        "        local_i = cuda.threadIdx.x\n",
        "        # FILL ME IN (roughly 2 lines)\n",
        "\n",
        "    return call\n",
        "\n",
        "\n",
        "SIZE = 4\n",
        "out = np.zeros((SIZE,))\n",
        "a = np.arange(SIZE)\n",
        "problem = CudaProblem(\n",
        "    \"Guard\",\n",
        "    map_guard_test,\n",
        "    [a],\n",
        "    out,\n",
        "    [SIZE],\n",
        "    threadsperblock=Coord(8, 1),\n",
        "    spec=map_spec,\n",
        ")\n",
        "problem.show()"
      ]
    },
    {
      "cell_type": "code",
      "execution_count": null,
      "id": "2e34629f",
      "metadata": {
        "execution": {
          "iopub.execute_input": "2022-08-07T21:24:41.530990Z",
          "iopub.status.busy": "2022-08-07T21:24:41.530541Z",
          "iopub.status.idle": "2022-08-07T21:24:41.561067Z",
          "shell.execute_reply": "2022-08-07T21:24:41.560144Z"
        },
        "lines_to_end_of_cell_marker": 0,
        "lines_to_next_cell": 1,
        "id": "2e34629f"
      },
      "outputs": [],
      "source": [
        "problem.check()"
      ]
    },
    {
      "cell_type": "markdown",
      "id": "ec33ed08",
      "metadata": {
        "id": "ec33ed08"
      },
      "source": [
        "## Puzzle 4 - Map 2D\n",
        "\n",
        "Implement a kernel that adds 10 to each position of `a` and stores it in `out`.\n",
        "Input `a` is 2D and square. You have more threads than positions."
      ]
    },
    {
      "cell_type": "code",
      "execution_count": null,
      "id": "75d5eff5",
      "metadata": {
        "execution": {
          "iopub.execute_input": "2022-08-07T21:24:41.565190Z",
          "iopub.status.busy": "2022-08-07T21:24:41.564731Z",
          "iopub.status.idle": "2022-08-07T21:24:41.639943Z",
          "shell.execute_reply": "2022-08-07T21:24:41.639094Z"
        },
        "id": "75d5eff5"
      },
      "outputs": [],
      "source": [
        "def map_2D_test(cuda):\n",
        "    def call(out, a, size) -> None:\n",
        "        local_i = cuda.threadIdx.x\n",
        "        local_j = cuda.threadIdx.y\n",
        "        # FILL ME IN (roughly 2 lines)\n",
        "\n",
        "    return call\n",
        "\n",
        "\n",
        "SIZE = 2\n",
        "out = np.zeros((SIZE, SIZE))\n",
        "a = np.arange(SIZE * SIZE).reshape((SIZE, SIZE))\n",
        "problem = CudaProblem(\n",
        "    \"Map 2D\", map_2D_test, [a], out, [SIZE], threadsperblock=Coord(3, 3), spec=map_spec\n",
        ")\n",
        "problem.show()"
      ]
    },
    {
      "cell_type": "code",
      "execution_count": null,
      "id": "ed777631",
      "metadata": {
        "execution": {
          "iopub.execute_input": "2022-08-07T21:24:41.643707Z",
          "iopub.status.busy": "2022-08-07T21:24:41.643280Z",
          "iopub.status.idle": "2022-08-07T21:24:41.675212Z",
          "shell.execute_reply": "2022-08-07T21:24:41.674350Z"
        },
        "lines_to_end_of_cell_marker": 0,
        "lines_to_next_cell": 1,
        "id": "ed777631"
      },
      "outputs": [],
      "source": [
        "problem.check()"
      ]
    },
    {
      "cell_type": "markdown",
      "id": "bdcfd649",
      "metadata": {
        "id": "bdcfd649"
      },
      "source": [
        "## Puzzle 5 - Broadcast\n",
        "\n",
        "Implement a kernel that adds `a` and `b` and stores it in `out`.\n",
        "Inputs `a` and `b` are vectors. You have more threads than positions."
      ]
    },
    {
      "cell_type": "code",
      "execution_count": null,
      "id": "123e664b",
      "metadata": {
        "execution": {
          "iopub.execute_input": "2022-08-07T21:24:41.679242Z",
          "iopub.status.busy": "2022-08-07T21:24:41.678801Z",
          "iopub.status.idle": "2022-08-07T21:24:41.759781Z",
          "shell.execute_reply": "2022-08-07T21:24:41.758930Z"
        },
        "id": "123e664b"
      },
      "outputs": [],
      "source": [
        "def broadcast_test(cuda):\n",
        "    def call(out, a, b, size) -> None:\n",
        "        local_i = cuda.threadIdx.x\n",
        "        local_j = cuda.threadIdx.y\n",
        "        # FILL ME IN (roughly 2 lines)\n",
        "\n",
        "    return call\n",
        "\n",
        "\n",
        "SIZE = 2\n",
        "out = np.zeros((SIZE, SIZE))\n",
        "a = np.arange(SIZE).reshape(SIZE, 1)\n",
        "b = np.arange(SIZE).reshape(1, SIZE)\n",
        "problem = CudaProblem(\n",
        "    \"Broadcast\",\n",
        "    broadcast_test,\n",
        "    [a, b],\n",
        "    out,\n",
        "    [SIZE],\n",
        "    threadsperblock=Coord(3, 3),\n",
        "    spec=zip_spec,\n",
        ")\n",
        "problem.show()"
      ]
    },
    {
      "cell_type": "code",
      "execution_count": null,
      "id": "f25686b3",
      "metadata": {
        "execution": {
          "iopub.execute_input": "2022-08-07T21:24:41.763601Z",
          "iopub.status.busy": "2022-08-07T21:24:41.763153Z",
          "iopub.status.idle": "2022-08-07T21:24:41.798938Z",
          "shell.execute_reply": "2022-08-07T21:24:41.798139Z"
        },
        "lines_to_end_of_cell_marker": 0,
        "lines_to_next_cell": 1,
        "id": "f25686b3"
      },
      "outputs": [],
      "source": [
        "problem.check()"
      ]
    },
    {
      "cell_type": "markdown",
      "id": "e9c3173e",
      "metadata": {
        "id": "e9c3173e"
      },
      "source": [
        "## Puzzle 6 - Blocks\n",
        "\n",
        "Implement a kernel that adds 10 to each position of `a` and stores it in `out`.\n",
        "You have fewer threads per block than the size of `a`."
      ]
    },
    {
      "cell_type": "markdown",
      "id": "9dd3affc",
      "metadata": {
        "id": "9dd3affc"
      },
      "source": [
        "*Tip: A block is a group of threads. The number of threads per block is limited, but we can\n",
        "have many different blocks. Variable `cuda.blockIdx` tells us what block we are in.*"
      ]
    },
    {
      "cell_type": "code",
      "execution_count": null,
      "id": "6e0a6755",
      "metadata": {
        "execution": {
          "iopub.execute_input": "2022-08-07T21:24:41.803000Z",
          "iopub.status.busy": "2022-08-07T21:24:41.802566Z",
          "iopub.status.idle": "2022-08-07T21:24:41.980798Z",
          "shell.execute_reply": "2022-08-07T21:24:41.979932Z"
        },
        "id": "6e0a6755"
      },
      "outputs": [],
      "source": [
        "def map_block_test(cuda):\n",
        "    def call(out, a, size) -> None:\n",
        "        i = cuda.blockIdx.x * cuda.blockDim.x + cuda.threadIdx.x\n",
        "        # FILL ME IN (roughly 2 lines)\n",
        "\n",
        "    return call\n",
        "\n",
        "\n",
        "SIZE = 9\n",
        "out = np.zeros((SIZE,))\n",
        "a = np.arange(SIZE)\n",
        "problem = CudaProblem(\n",
        "    \"Blocks\",\n",
        "    map_block_test,\n",
        "    [a],\n",
        "    out,\n",
        "    [SIZE],\n",
        "    threadsperblock=Coord(4, 1),\n",
        "    blockspergrid=Coord(3, 1),\n",
        "    spec=map_spec,\n",
        ")\n",
        "problem.show()"
      ]
    },
    {
      "cell_type": "code",
      "execution_count": null,
      "id": "6c02498f",
      "metadata": {
        "execution": {
          "iopub.execute_input": "2022-08-07T21:24:41.985202Z",
          "iopub.status.busy": "2022-08-07T21:24:41.984759Z",
          "iopub.status.idle": "2022-08-07T21:24:42.023573Z",
          "shell.execute_reply": "2022-08-07T21:24:42.022706Z"
        },
        "lines_to_end_of_cell_marker": 0,
        "lines_to_next_cell": 1,
        "id": "6c02498f"
      },
      "outputs": [],
      "source": [
        "problem.check()"
      ]
    },
    {
      "cell_type": "markdown",
      "id": "e1871a41",
      "metadata": {
        "id": "e1871a41"
      },
      "source": [
        "## Puzzle 7 - Blocks 2D\n",
        "\n",
        "Implement the same kernel in 2D.  You have fewer threads per block\n",
        "than the size of `a` in both directions."
      ]
    },
    {
      "cell_type": "code",
      "execution_count": null,
      "id": "8ff4f1b6",
      "metadata": {
        "execution": {
          "iopub.execute_input": "2022-08-07T21:24:42.027634Z",
          "iopub.status.busy": "2022-08-07T21:24:42.027201Z",
          "iopub.status.idle": "2022-08-07T21:24:42.601813Z",
          "shell.execute_reply": "2022-08-07T21:24:42.600919Z"
        },
        "id": "8ff4f1b6"
      },
      "outputs": [],
      "source": [
        "def map_block2D_test(cuda):\n",
        "    def call(out, a, size) -> None:\n",
        "        i = cuda.blockIdx.x * cuda.blockDim.x + cuda.threadIdx.x\n",
        "        # FILL ME IN (roughly 4 lines)\n",
        "\n",
        "    return call\n",
        "\n",
        "\n",
        "SIZE = 5\n",
        "out = np.zeros((SIZE, SIZE))\n",
        "a = np.ones((SIZE, SIZE))\n",
        "\n",
        "problem = CudaProblem(\n",
        "    \"Blocks 2D\",\n",
        "    map_block2D_test,\n",
        "    [a],\n",
        "    out,\n",
        "    [SIZE],\n",
        "    threadsperblock=Coord(3, 3),\n",
        "    blockspergrid=Coord(2, 2),\n",
        "    spec=map_spec,\n",
        ")\n",
        "problem.show()"
      ]
    },
    {
      "cell_type": "code",
      "execution_count": null,
      "id": "e485a106",
      "metadata": {
        "execution": {
          "iopub.execute_input": "2022-08-07T21:24:42.608019Z",
          "iopub.status.busy": "2022-08-07T21:24:42.607554Z",
          "iopub.status.idle": "2022-08-07T21:24:42.645410Z",
          "shell.execute_reply": "2022-08-07T21:24:42.644607Z"
        },
        "id": "e485a106"
      },
      "outputs": [],
      "source": [
        "problem.check()"
      ]
    },
    {
      "cell_type": "markdown",
      "id": "4031ed95",
      "metadata": {
        "id": "4031ed95"
      },
      "source": [
        "## Puzzle 8 - Shared\n",
        "\n",
        "Implement a kernel that adds 10 to each position of `a` and stores it in `out`.\n",
        "You have fewer threads per block than the size of `a`."
      ]
    },
    {
      "cell_type": "markdown",
      "id": "2df50159",
      "metadata": {
        "id": "2df50159"
      },
      "source": [
        "**Warning**: Each block can only have a *constant* amount of shared\n",
        " memory that threads in that block can read and write to. This needs\n",
        " to be a literal python constant not a variable. After writing to\n",
        " shared memory you need to call `cuda.syncthreads` to ensure that\n",
        " threads do not cross."
      ]
    },
    {
      "cell_type": "markdown",
      "id": "9b4a21b0",
      "metadata": {
        "id": "9b4a21b0"
      },
      "source": [
        "(This example does not really need shared memory or syncthreads, but it is a demo.)"
      ]
    },
    {
      "cell_type": "code",
      "execution_count": null,
      "id": "62213ea0",
      "metadata": {
        "execution": {
          "iopub.execute_input": "2022-08-07T21:24:42.649928Z",
          "iopub.status.busy": "2022-08-07T21:24:42.649199Z",
          "iopub.status.idle": "2022-08-07T21:24:42.854066Z",
          "shell.execute_reply": "2022-08-07T21:24:42.853252Z"
        },
        "id": "62213ea0"
      },
      "outputs": [],
      "source": [
        "TPB = 4\n",
        "def shared_test(cuda):\n",
        "    def call(out, a, size) -> None:\n",
        "        shared = cuda.shared.array(TPB, numba.float32)\n",
        "        i = cuda.blockIdx.x * cuda.blockDim.x + cuda.threadIdx.x\n",
        "        local_i = cuda.threadIdx.x\n",
        "\n",
        "        if i < size:\n",
        "            shared[local_i] = a[i]\n",
        "            cuda.syncthreads()\n",
        "\n",
        "        # FILL ME IN (roughly 2 lines)\n",
        "\n",
        "    return call\n",
        "\n",
        "\n",
        "SIZE = 8\n",
        "out = np.zeros(SIZE)\n",
        "a = np.ones(SIZE)\n",
        "problem = CudaProblem(\n",
        "    \"Shared\",\n",
        "    shared_test,\n",
        "    [a],\n",
        "    out,\n",
        "    [SIZE],\n",
        "    threadsperblock=Coord(TPB, 1),\n",
        "    blockspergrid=Coord(2, 1),\n",
        "    spec=map_spec,\n",
        ")\n",
        "problem.show()"
      ]
    },
    {
      "cell_type": "code",
      "execution_count": null,
      "id": "6193e0ea",
      "metadata": {
        "execution": {
          "iopub.execute_input": "2022-08-07T21:24:42.858447Z",
          "iopub.status.busy": "2022-08-07T21:24:42.858006Z",
          "iopub.status.idle": "2022-08-07T21:24:42.926443Z",
          "shell.execute_reply": "2022-08-07T21:24:42.925655Z"
        },
        "lines_to_end_of_cell_marker": 0,
        "lines_to_next_cell": 1,
        "id": "6193e0ea"
      },
      "outputs": [],
      "source": [
        "problem.check()"
      ]
    },
    {
      "cell_type": "markdown",
      "id": "815ee2ee",
      "metadata": {
        "id": "815ee2ee"
      },
      "source": [
        "## Puzzle 9 - Pooling\n",
        "\n",
        "Implement a kernel that sums together the last 3 position of `a` and stores it in `out`.\n",
        "You have 1 thread per position. You only need 1 global read and 1 global write per thread."
      ]
    },
    {
      "cell_type": "markdown",
      "id": "9947cff1",
      "metadata": {
        "id": "9947cff1"
      },
      "source": [
        "*Tip: Remember to be careful about syncing.*"
      ]
    },
    {
      "cell_type": "code",
      "execution_count": null,
      "id": "f35e5fdb",
      "metadata": {
        "execution": {
          "iopub.execute_input": "2022-08-07T21:24:42.930415Z",
          "iopub.status.busy": "2022-08-07T21:24:42.929976Z",
          "iopub.status.idle": "2022-08-07T21:24:43.020899Z",
          "shell.execute_reply": "2022-08-07T21:24:43.020143Z"
        },
        "id": "f35e5fdb"
      },
      "outputs": [],
      "source": [
        "def pool_spec(a):\n",
        "    out = np.zeros(*a.shape)\n",
        "    for i in range(a.shape[0]):\n",
        "        out[i] = a[max(i - 2, 0) : i + 1].sum()\n",
        "    return out\n",
        "\n",
        "\n",
        "TPB = 8\n",
        "def pool_test(cuda):\n",
        "    def call(out, a, size) -> None:\n",
        "        shared = cuda.shared.array(TPB, numba.float32)\n",
        "        i = cuda.blockIdx.x * cuda.blockDim.x + cuda.threadIdx.x\n",
        "        local_i = cuda.threadIdx.x\n",
        "        # FILL ME IN (roughly 8 lines)\n",
        "        shared[local_i] = a[local_i]\n",
        "        cuda.syncthreads()\n",
        "        acc = 0.0\n",
        "        #for j in range(max(0, i-2), i+1):\n",
        "        #  acc += shared[j]\n",
        "        out[i] = acc\n",
        "\n",
        "\n",
        "\n",
        "    return call\n",
        "\n",
        "\n",
        "SIZE = 8\n",
        "out = np.zeros(SIZE)\n",
        "a = np.arange(SIZE)\n",
        "problem = CudaProblem(\n",
        "    \"Pooling\",\n",
        "    pool_test,\n",
        "    [a],\n",
        "    out,\n",
        "    [SIZE],\n",
        "    threadsperblock=Coord(TPB, 1),\n",
        "    blockspergrid=Coord(1, 1),\n",
        "    spec=pool_spec,\n",
        ")\n",
        "problem.show()"
      ]
    },
    {
      "cell_type": "code",
      "execution_count": null,
      "id": "b9ac503e",
      "metadata": {
        "execution": {
          "iopub.execute_input": "2022-08-07T21:24:43.024701Z",
          "iopub.status.busy": "2022-08-07T21:24:43.024250Z",
          "iopub.status.idle": "2022-08-07T21:24:43.069099Z",
          "shell.execute_reply": "2022-08-07T21:24:43.068252Z"
        },
        "lines_to_end_of_cell_marker": 0,
        "lines_to_next_cell": 1,
        "id": "b9ac503e"
      },
      "outputs": [],
      "source": [
        "problem.check()"
      ]
    },
    {
      "cell_type": "markdown",
      "id": "04727aa4",
      "metadata": {
        "id": "04727aa4"
      },
      "source": [
        "## Puzzle 10 - Dot Product\n",
        "\n",
        "Implement a kernel that computes the dot-product of `a` and `b` and stores it in `out`.\n",
        "You have 1 thread per position. You only need 2 global reads and 1 global write per thread."
      ]
    },
    {
      "cell_type": "markdown",
      "id": "1a63a4c2",
      "metadata": {
        "id": "1a63a4c2"
      },
      "source": [
        "*Note: For this problem you don't need to worry about number of shared reads. We will\n",
        " handle that challenge later.*"
      ]
    },
    {
      "cell_type": "code",
      "execution_count": null,
      "id": "e5d84c0f",
      "metadata": {
        "execution": {
          "iopub.execute_input": "2022-08-07T21:24:43.073281Z",
          "iopub.status.busy": "2022-08-07T21:24:43.072839Z",
          "iopub.status.idle": "2022-08-07T21:24:43.174688Z",
          "shell.execute_reply": "2022-08-07T21:24:43.173818Z"
        },
        "id": "e5d84c0f"
      },
      "outputs": [],
      "source": [
        "def dot_spec(a, b):\n",
        "    return a @ b\n",
        "\n",
        "TPB = 8\n",
        "def dot_test(cuda):\n",
        "    def call(out, a, b, size) -> None:\n",
        "        shared = cuda.shared.array(TPB, numba.float32)\n",
        "\n",
        "        i = cuda.blockIdx.x * cuda.blockDim.x + cuda.threadIdx.x\n",
        "        local_i = cuda.threadIdx.x\n",
        "        # FILL ME IN (roughly 9 lines)\n",
        "        shared[local_i] = a[local_i] * b[local_i]\n",
        "        cuda.syncthreads()\n",
        "        if i > 0: return\n",
        "        acc = 0.0\n",
        "        for j in range(0, TPB):\n",
        "          acc += shared[j]\n",
        "        out[0] = acc\n",
        "\n",
        "    return call\n",
        "\n",
        "\n",
        "SIZE = 8\n",
        "out = np.zeros(1)\n",
        "a = np.arange(SIZE)\n",
        "b = np.arange(SIZE)\n",
        "problem = CudaProblem(\n",
        "    \"Dot\",\n",
        "    dot_test,\n",
        "    [a, b],\n",
        "    out,\n",
        "    [SIZE],\n",
        "    threadsperblock=Coord(SIZE, 1),\n",
        "    blockspergrid=Coord(1, 1),\n",
        "    spec=dot_spec,\n",
        ")\n",
        "problem.show()"
      ]
    },
    {
      "cell_type": "code",
      "execution_count": null,
      "id": "1452858a",
      "metadata": {
        "execution": {
          "iopub.execute_input": "2022-08-07T21:24:43.178517Z",
          "iopub.status.busy": "2022-08-07T21:24:43.178082Z",
          "iopub.status.idle": "2022-08-07T21:24:43.224369Z",
          "shell.execute_reply": "2022-08-07T21:24:43.223563Z"
        },
        "id": "1452858a"
      },
      "outputs": [],
      "source": [
        "problem.check()"
      ]
    },
    {
      "cell_type": "markdown",
      "id": "060685a2",
      "metadata": {
        "lines_to_next_cell": 2,
        "id": "060685a2"
      },
      "source": [
        "## Puzzle 11 - 1D Convolution\n",
        "\n",
        "Implement a kernel that computes a 1D convolution between `a` and `b` and stores it in `out`.\n",
        "You need to handle the general case. You only need 2 global reads and 1 global write per thread."
      ]
    },
    {
      "cell_type": "code",
      "execution_count": 7,
      "id": "d311eeeb",
      "metadata": {
        "execution": {
          "iopub.execute_input": "2022-08-07T21:24:43.228540Z",
          "iopub.status.busy": "2022-08-07T21:24:43.228045Z",
          "iopub.status.idle": "2022-08-07T21:24:43.325332Z",
          "shell.execute_reply": "2022-08-07T21:24:43.324481Z"
        },
        "id": "d311eeeb",
        "outputId": "0f0c18be-3333-404f-fffd-0c8fdae94be4",
        "colab": {
          "base_uri": "https://localhost:8080/",
          "height": 1000
        }
      },
      "outputs": [
        {
          "output_type": "stream",
          "name": "stdout",
          "text": [
            "# 1D Conv (Simple)\n",
            " \n",
            "   Score (Max Per Thread):\n",
            "   |  Global Reads | Global Writes |  Shared Reads | Shared Writes |\n",
            "   |             2 |             1 |             6 |             2 | \n",
            "\n"
          ]
        },
        {
          "output_type": "execute_result",
          "data": {
            "text/plain": [
              "Compose(envelope=<chalk.envelope.Envelope object at 0x792811c53890>, diagram1=ApplyStyle(style=Style(line_width=None, line_color=None, fill_color=<Color white>, fill_opacity=None, dashing=None, output_size=None), diagram=Primitive(shape=Rectangle(width=13.068, height=24.5522552, radius=None), style=Style(line_width=None, line_color=None, fill_color=None, fill_opacity=None, dashing=None, output_size=None), transform=Affine(1.0, 0.0, 0.0,\n",
              "       0.0, 1.0, 0.0))), diagram2=ApplyTransform(transform=Affine(1.0, 0.0, -0.0,\n",
              "       0.0, 1.0, -11.451127600000001), diagram=Compose(envelope=<chalk.envelope.Envelope object at 0x792811c53910>, diagram1=Compose(envelope=<chalk.envelope.Envelope object at 0x792811c53550>, diagram1=Compose(envelope=<chalk.envelope.Envelope object at 0x792811c53450>, diagram1=Compose(envelope=<chalk.envelope.Envelope object at 0x792811c53110>, diagram1=Compose(envelope=<chalk.envelope.Envelope object at 0x792811c52f10>, diagram1=Compose(envelope=<chalk.envelope.Envelope object at 0x792811c52c50>, diagram1=Primitive(shape=Spacer(width=0, height=1.5), style=Style(line_width=None, line_color=None, fill_color=None, fill_opacity=None, dashing=None, output_size=None), transform=Affine(1.0, 0.0, 0.0,\n",
              "       0.0, 1.0, 0.0)), diagram2=ApplyTransform(transform=Affine(1.0, 0.0, 0.0,\n",
              "       0.0, 1.0, 0.75), diagram=Primitive(shape=Text(text='1D Conv (Simple)', font_size=1), style=Style(line_width=None, line_color=None, fill_color=None, fill_opacity=None, dashing=None, output_size=None), transform=Affine(1.0, 0.0, 0.0,\n",
              "       0.0, 1.0, 0.0)))), diagram2=ApplyTransform(transform=Affine(1.0, 0.0, 0.0,\n",
              "       0.0, 1.0, 1.2501), diagram=Primitive(shape=Spacer(width=0, height=1), style=Style(line_width=None, line_color=None, fill_color=None, fill_opacity=None, dashing=None, output_size=None), transform=Affine(1.0, 0.0, 0.0,\n",
              "       0.0, 1.0, 0.0)))), diagram2=ApplyTransform(transform=Affine(1.0, 0.0, 0.0,\n",
              "       0.0, 1.0, 2.2500999999999998), diagram=ApplyTransform(transform=Affine(1.0, 0.0, -3.8500000000000005,\n",
              "       0.0, 1.0, -0.0), diagram=Compose(envelope=<chalk.envelope.Envelope object at 0x792811c52890>, diagram1=Compose(envelope=<chalk.envelope.Envelope object at 0x792811c52710>, diagram1=Compose(envelope=<chalk.envelope.Envelope object at 0x792811c52590>, diagram1=Compose(envelope=<chalk.envelope.Envelope object at 0x792811c52410>, diagram1=Compose(envelope=<chalk.envelope.Envelope object at 0x792811c52290>, diagram1=Compose(envelope=<chalk.envelope.Envelope object at 0x792811c52110>, diagram1=Compose(envelope=<chalk.envelope.Envelope object at 0x792811c51f90>, diagram1=Compose(envelope=<chalk.envelope.Envelope object at 0x792811c51e50>, diagram1=Empty(), diagram2=ApplyTransform(transform=Affine(1.0, 0.0, 0.0,\n",
              "       0.0, 1.0, 0.0), diagram=Compose(envelope=<chalk.envelope.Envelope object at 0x792811c47ed0>, diagram1=ApplyStyle(style=Style(line_width=None, line_color=None, fill_color=None, fill_opacity=0.7, dashing=None, output_size=None), diagram=ApplyStyle(style=Style(line_width=None, line_color=None, fill_color=<Color red>, fill_opacity=None, dashing=None, output_size=None), diagram=Primitive(shape=Circle(radius=0.5), style=Style(line_width=None, line_color=None, fill_color=None, fill_opacity=None, dashing=None, output_size=None), transform=Affine(1.0, 0.0, 0.0,\n",
              "       0.0, 1.0, 0.0)))), diagram2=Primitive(shape=Image(local_path='robot.png', url_path='https://raw.githubusercontent.com/minitorch/diagrams/main/robot.png'), style=Style(line_width=None, line_color=None, fill_color=None, fill_opacity=None, dashing=None, output_size=None), transform=Affine(0.0008333333333333334, 0.0, 0.0,\n",
              "       0.0, 0.0008333333333333334, 0.0))))), diagram2=ApplyTransform(transform=Affine(1.0, 0.0, 1.1,\n",
              "       0.0, 1.0, 0.0), diagram=Compose(envelope=<chalk.envelope.Envelope object at 0x792811c50350>, diagram1=ApplyStyle(style=Style(line_width=None, line_color=None, fill_color=None, fill_opacity=0.7, dashing=None, output_size=None), diagram=ApplyStyle(style=Style(line_width=None, line_color=None, fill_color=<Color #ff7100>, fill_opacity=None, dashing=None, output_size=None), diagram=Primitive(shape=Circle(radius=0.5), style=Style(line_width=None, line_color=None, fill_color=None, fill_opacity=None, dashing=None, output_size=None), transform=Affine(1.0, 0.0, 0.0,\n",
              "       0.0, 1.0, 0.0)))), diagram2=Primitive(shape=Image(local_path='robot.png', url_path='https://raw.githubusercontent.com/minitorch/diagrams/main/robot.png'), style=Style(line_width=None, line_color=None, fill_color=None, fill_opacity=None, dashing=None, output_size=None), transform=Affine(0.0008333333333333334, 0.0, 0.0,\n",
              "       0.0, 0.0008333333333333334, 0.0))))), diagram2=ApplyTransform(transform=Affine(1.0, 0.0, 2.2,\n",
              "       0.0, 1.0, 0.0), diagram=Compose(envelope=<chalk.envelope.Envelope object at 0x792811c50790>, diagram1=ApplyStyle(style=Style(line_width=None, line_color=None, fill_color=None, fill_opacity=0.7, dashing=None, output_size=None), diagram=ApplyStyle(style=Style(line_width=None, line_color=None, fill_color=<Color #ffe300>, fill_opacity=None, dashing=None, output_size=None), diagram=Primitive(shape=Circle(radius=0.5), style=Style(line_width=None, line_color=None, fill_color=None, fill_opacity=None, dashing=None, output_size=None), transform=Affine(1.0, 0.0, 0.0,\n",
              "       0.0, 1.0, 0.0)))), diagram2=Primitive(shape=Image(local_path='robot.png', url_path='https://raw.githubusercontent.com/minitorch/diagrams/main/robot.png'), style=Style(line_width=None, line_color=None, fill_color=None, fill_opacity=None, dashing=None, output_size=None), transform=Affine(0.0008333333333333334, 0.0, 0.0,\n",
              "       0.0, 0.0008333333333333334, 0.0))))), diagram2=ApplyTransform(transform=Affine(1.0, 0.0, 3.3000000000000003,\n",
              "       0.0, 1.0, 0.0), diagram=Compose(envelope=<chalk.envelope.Envelope object at 0x792811c50bd0>, diagram1=ApplyStyle(style=Style(line_width=None, line_color=None, fill_color=None, fill_opacity=0.7, dashing=None, output_size=None), diagram=ApplyStyle(style=Style(line_width=None, line_color=None, fill_color=<Color #af0>, fill_opacity=None, dashing=None, output_size=None), diagram=Primitive(shape=Circle(radius=0.5), style=Style(line_width=None, line_color=None, fill_color=None, fill_opacity=None, dashing=None, output_size=None), transform=Affine(1.0, 0.0, 0.0,\n",
              "       0.0, 1.0, 0.0)))), diagram2=Primitive(shape=Image(local_path='robot.png', url_path='https://raw.githubusercontent.com/minitorch/diagrams/main/robot.png'), style=Style(line_width=None, line_color=None, fill_color=None, fill_opacity=None, dashing=None, output_size=None), transform=Affine(0.0008333333333333334, 0.0, 0.0,\n",
              "       0.0, 0.0008333333333333334, 0.0))))), diagram2=ApplyTransform(transform=Affine(1.0, 0.0, 4.4,\n",
              "       0.0, 1.0, 0.0), diagram=Compose(envelope=<chalk.envelope.Envelope object at 0x792811c51010>, diagram1=ApplyStyle(style=Style(line_width=None, line_color=None, fill_color=None, fill_opacity=0.7, dashing=None, output_size=None), diagram=ApplyStyle(style=Style(line_width=None, line_color=None, fill_color=<Color #39ff00>, fill_opacity=None, dashing=None, output_size=None), diagram=Primitive(shape=Circle(radius=0.5), style=Style(line_width=None, line_color=None, fill_color=None, fill_opacity=None, dashing=None, output_size=None), transform=Affine(1.0, 0.0, 0.0,\n",
              "       0.0, 1.0, 0.0)))), diagram2=Primitive(shape=Image(local_path='robot.png', url_path='https://raw.githubusercontent.com/minitorch/diagrams/main/robot.png'), style=Style(line_width=None, line_color=None, fill_color=None, fill_opacity=None, dashing=None, output_size=None), transform=Affine(0.0008333333333333334, 0.0, 0.0,\n",
              "       0.0, 0.0008333333333333334, 0.0))))), diagram2=ApplyTransform(transform=Affine(1.0, 0.0, 5.5,\n",
              "       0.0, 1.0, 0.0), diagram=Compose(envelope=<chalk.envelope.Envelope object at 0x792811c51490>, diagram1=ApplyStyle(style=Style(line_width=None, line_color=None, fill_color=None, fill_opacity=0.7, dashing=None, output_size=None), diagram=ApplyStyle(style=Style(line_width=None, line_color=None, fill_color=<Color #00ff39>, fill_opacity=None, dashing=None, output_size=None), diagram=Primitive(shape=Circle(radius=0.5), style=Style(line_width=None, line_color=None, fill_color=None, fill_opacity=None, dashing=None, output_size=None), transform=Affine(1.0, 0.0, 0.0,\n",
              "       0.0, 1.0, 0.0)))), diagram2=Primitive(shape=Image(local_path='robot.png', url_path='https://raw.githubusercontent.com/minitorch/diagrams/main/robot.png'), style=Style(line_width=None, line_color=None, fill_color=None, fill_opacity=None, dashing=None, output_size=None), transform=Affine(0.0008333333333333334, 0.0, 0.0,\n",
              "       0.0, 0.0008333333333333334, 0.0))))), diagram2=ApplyTransform(transform=Affine(1.0, 0.0, 6.6000000000000005,\n",
              "       0.0, 1.0, 0.0), diagram=Compose(envelope=<chalk.envelope.Envelope object at 0x792811c518d0>, diagram1=ApplyStyle(style=Style(line_width=None, line_color=None, fill_color=None, fill_opacity=0.7, dashing=None, output_size=None), diagram=ApplyStyle(style=Style(line_width=None, line_color=None, fill_color=<Color #0fa>, fill_opacity=None, dashing=None, output_size=None), diagram=Primitive(shape=Circle(radius=0.5), style=Style(line_width=None, line_color=None, fill_color=None, fill_opacity=None, dashing=None, output_size=None), transform=Affine(1.0, 0.0, 0.0,\n",
              "       0.0, 1.0, 0.0)))), diagram2=Primitive(shape=Image(local_path='robot.png', url_path='https://raw.githubusercontent.com/minitorch/diagrams/main/robot.png'), style=Style(line_width=None, line_color=None, fill_color=None, fill_opacity=None, dashing=None, output_size=None), transform=Affine(0.0008333333333333334, 0.0, 0.0,\n",
              "       0.0, 0.0008333333333333334, 0.0))))), diagram2=ApplyTransform(transform=Affine(1.0, 0.0, 7.700000000000001,\n",
              "       0.0, 1.0, 0.0), diagram=Compose(envelope=<chalk.envelope.Envelope object at 0x792811c51d10>, diagram1=ApplyStyle(style=Style(line_width=None, line_color=None, fill_color=None, fill_opacity=0.7, dashing=None, output_size=None), diagram=ApplyStyle(style=Style(line_width=None, line_color=None, fill_color=<Color #00e3ff>, fill_opacity=None, dashing=None, output_size=None), diagram=Primitive(shape=Circle(radius=0.5), style=Style(line_width=None, line_color=None, fill_color=None, fill_opacity=None, dashing=None, output_size=None), transform=Affine(1.0, 0.0, 0.0,\n",
              "       0.0, 1.0, 0.0)))), diagram2=Primitive(shape=Image(local_path='robot.png', url_path='https://raw.githubusercontent.com/minitorch/diagrams/main/robot.png'), style=Style(line_width=None, line_color=None, fill_color=None, fill_opacity=None, dashing=None, output_size=None), transform=Affine(0.0008333333333333334, 0.0, 0.0,\n",
              "       0.0, 0.0008333333333333334, 0.0)))))))), diagram2=ApplyTransform(transform=Affine(1.0, 0.0, 0.0,\n",
              "       0.0, 1.0, 3.2500999999999998), diagram=Primitive(shape=Spacer(width=0, height=1), style=Style(line_width=None, line_color=None, fill_color=None, fill_opacity=None, dashing=None, output_size=None), transform=Affine(1.0, 0.0, 0.0,\n",
              "       0.0, 1.0, 0.0)))), diagram2=ApplyTransform(transform=Affine(1.0, 0.0, 0.0,\n",
              "       0.0, 1.0, 12.660166), diagram=ApplyTransform(transform=Affine(1.0, 0.0, -0.0,\n",
              "       0.0, 1.0, -0.0), diagram=Compose(envelope=<chalk.envelope.Envelope object at 0x792811c47b50>, diagram1=Empty(), diagram2=ApplyTransform(transform=Affine(1.0, 0.0, 0.0,\n",
              "       0.0, 1.0, 0.0), diagram=Compose(envelope=<chalk.envelope.Envelope object at 0x792811c47990>, diagram1=Compose(envelope=<chalk.envelope.Envelope object at 0x792811c47890>, diagram1=Compose(envelope=<chalk.envelope.Envelope object at 0x792811d15490>, diagram1=ApplyTransform(transform=Affine(1.0, 0.0, -4.0,\n",
              "       0.0, 1.0, -0.0), diagram=Compose(envelope=<chalk.envelope.Envelope object at 0x792811c472d0>, diagram1=Compose(envelope=<chalk.envelope.Envelope object at 0x792811c46f10>, diagram1=Primitive(shape=Spacer(width=1, height=0), style=Style(line_width=None, line_color=None, fill_color=None, fill_opacity=None, dashing=None, output_size=None), transform=Affine(1.0, 0.0, 0.0,\n",
              "       0.0, 1.0, 0.0)), diagram2=ApplyTransform(transform=Affine(1.0, 0.0, 4.0,\n",
              "       0.0, 1.0, 0.0), diagram=ApplyTransform(transform=Affine(1.0, 0.0, -0.0,\n",
              "       0.0, 1.0, 0.5000499999999999), diagram=Compose(envelope=<chalk.envelope.Envelope object at 0x792811c46c90>, diagram1=ApplyTransform(transform=Affine(1.0, 0.0, -3.0,\n",
              "       0.0, 1.0, -0.0), diagram=Compose(envelope=<chalk.envelope.Envelope object at 0x792811c46190>, diagram1=Compose(envelope=<chalk.envelope.Envelope object at 0x792811c44d90>, diagram1=Compose(envelope=<chalk.envelope.Envelope object at 0x792811c37950>, diagram1=Compose(envelope=<chalk.envelope.Envelope object at 0x792811c34650>, diagram1=Compose(envelope=<chalk.envelope.Envelope object at 0x792811c1b3d0>, diagram1=Compose(envelope=<chalk.envelope.Envelope object at 0x792811c08250>, diagram1=Compose(envelope=<chalk.envelope.Envelope object at 0x792811de90d0>, diagram1=Compose(envelope=<chalk.envelope.Envelope object at 0x792811dce0d0>, diagram1=Compose(envelope=<chalk.envelope.Envelope object at 0x792811db60d0>, diagram1=Compose(envelope=<chalk.envelope.Envelope object at 0x792811db5f10>, diagram1=Compose(envelope=<chalk.envelope.Envelope object at 0x792811db5c90>, diagram1=Compose(envelope=<chalk.envelope.Envelope object at 0x792811db5ad0>, diagram1=ApplyTransform(transform=Affine(1.0, 0.0, -0.0,\n",
              "       0.0, 1.0, -2.5), diagram=Compose(envelope=<chalk.envelope.Envelope object at 0x792811da9350>, diagram1=Compose(envelope=<chalk.envelope.Envelope object at 0x792811da9150>, diagram1=Compose(envelope=<chalk.envelope.Envelope object at 0x792811d9ff10>, diagram1=ApplyStyle(style=Style(line_width=(<WidthType.NORMALIZED: 2>, 0.05), line_color=None, fill_color=None, fill_opacity=None, dashing=None, output_size=None), diagram=ApplyTransform(transform=Affine(1.0, 0.0, -0.0,\n",
              "       0.0, 1.0, -2.5), diagram=Compose(envelope=<chalk.envelope.Envelope object at 0x792811d9fbd0>, diagram1=Compose(envelope=<chalk.envelope.Envelope object at 0x792811d9fa50>, diagram1=Compose(envelope=<chalk.envelope.Envelope object at 0x792811d9f8d0>, diagram1=Compose(envelope=<chalk.envelope.Envelope object at 0x792811d9f750>, diagram1=Compose(envelope=<chalk.envelope.Envelope object at 0x792811d9f5d0>, diagram1=Compose(envelope=<chalk.envelope.Envelope object at 0x792811d9f410>, diagram1=Empty(), diagram2=ApplyName(dname=('a', 0), diagram=Primitive(shape=Rectangle(width=1, height=1, radius=None), style=Style(line_width=None, line_color=None, fill_color=None, fill_opacity=None, dashing=None, output_size=None), transform=Affine(1.0, 0.0, 0.0,\n",
              "       0.0, 1.0, 0.0)))), diagram2=ApplyName(dname=('a', 1), diagram=Primitive(shape=Rectangle(width=1, height=1, radius=None), style=Style(line_width=None, line_color=None, fill_color=None, fill_opacity=None, dashing=None, output_size=None), transform=Affine(1.0, 0.0, 0.0,\n",
              "       0.0, 1.0, 1.0)))), diagram2=ApplyName(dname=('a', 2), diagram=Primitive(shape=Rectangle(width=1, height=1, radius=None), style=Style(line_width=None, line_color=None, fill_color=None, fill_opacity=None, dashing=None, output_size=None), transform=Affine(1.0, 0.0, 0.0,\n",
              "       0.0, 1.0, 2.0)))), diagram2=ApplyName(dname=('a', 3), diagram=Primitive(shape=Rectangle(width=1, height=1, radius=None), style=Style(line_width=None, line_color=None, fill_color=None, fill_opacity=None, dashing=None, output_size=None), transform=Affine(1.0, 0.0, 0.0,\n",
              "       0.0, 1.0, 3.0)))), diagram2=ApplyName(dname=('a', 4), diagram=Primitive(shape=Rectangle(width=1, height=1, radius=None), style=Style(line_width=None, line_color=None, fill_color=None, fill_opacity=None, dashing=None, output_size=None), transform=Affine(1.0, 0.0, 0.0,\n",
              "       0.0, 1.0, 4.0)))), diagram2=ApplyName(dname=('a', 5), diagram=Primitive(shape=Rectangle(width=1, height=1, radius=None), style=Style(line_width=None, line_color=None, fill_color=None, fill_opacity=None, dashing=None, output_size=None), transform=Affine(1.0, 0.0, 0.0,\n",
              "       0.0, 1.0, 5.0)))))), diagram2=ApplyTransform(transform=Affine(1.0, 0.0, -0.0,\n",
              "       0.0, 1.0, -3.25), diagram=Compose(envelope=<chalk.envelope.Envelope object at 0x792811d9fe10>, diagram1=ApplyStyle(style=Style(line_width=(<WidthType.NORMALIZED: 2>, 0.0), line_color=None, fill_color=None, fill_opacity=None, dashing=None, output_size=None), diagram=ApplyStyle(style=Style(line_width=None, line_color=None, fill_color=<Color black>, fill_opacity=None, dashing=None, output_size=None), diagram=Primitive(shape=Text(text='a', font_size=0.5), style=Style(line_width=None, line_color=None, fill_color=None, fill_opacity=None, dashing=None, output_size=None), transform=Affine(1.0, 0.0, 0.0,\n",
              "       0.0, 1.0, 0.0)))), diagram2=Primitive(shape=Spacer(width=0, height=0.5), style=Style(line_width=None, line_color=None, fill_color=None, fill_opacity=None, dashing=None, output_size=None), transform=Affine(1.0, 0.0, 0.0,\n",
              "       0.0, 1.0, 0.0))))), diagram2=ApplyTransform(transform=Affine(1.0, 0.0, 0.0,\n",
              "       0.0, 1.0, 4.0), diagram=Primitive(shape=Spacer(width=2.0, height=0), style=Style(line_width=None, line_color=None, fill_color=None, fill_opacity=None, dashing=None, output_size=None), transform=Affine(0.0, 1.0, 0.0,\n",
              "       -1.0, 0.0, 0.0)))), diagram2=ApplyTransform(transform=Affine(1.0, 0.0, 0.0,\n",
              "       0.0, 1.0, 7.0), diagram=Compose(envelope=<chalk.envelope.Envelope object at 0x792811da8e10>, diagram1=ApplyStyle(style=Style(line_width=(<WidthType.NORMALIZED: 2>, 0.05), line_color=None, fill_color=None, fill_opacity=None, dashing=None, output_size=None), diagram=ApplyTransform(transform=Affine(1.0, 0.0, -0.0,\n",
              "       0.0, 1.0, -1.0), diagram=Compose(envelope=<chalk.envelope.Envelope object at 0x792811da8910>, diagram1=Compose(envelope=<chalk.envelope.Envelope object at 0x792811da8710>, diagram1=Compose(envelope=<chalk.envelope.Envelope object at 0x792811da85d0>, diagram1=Empty(), diagram2=ApplyName(dname=('b', 0), diagram=Primitive(shape=Rectangle(width=1, height=1, radius=None), style=Style(line_width=None, line_color=None, fill_color=None, fill_opacity=None, dashing=None, output_size=None), transform=Affine(1.0, 0.0, 0.0,\n",
              "       0.0, 1.0, 0.0)))), diagram2=ApplyName(dname=('b', 1), diagram=Primitive(shape=Rectangle(width=1, height=1, radius=None), style=Style(line_width=None, line_color=None, fill_color=None, fill_opacity=None, dashing=None, output_size=None), transform=Affine(1.0, 0.0, 0.0,\n",
              "       0.0, 1.0, 1.0)))), diagram2=ApplyName(dname=('b', 2), diagram=Primitive(shape=Rectangle(width=1, height=1, radius=None), style=Style(line_width=None, line_color=None, fill_color=None, fill_opacity=None, dashing=None, output_size=None), transform=Affine(1.0, 0.0, 0.0,\n",
              "       0.0, 1.0, 2.0)))))), diagram2=ApplyTransform(transform=Affine(1.0, 0.0, -0.0,\n",
              "       0.0, 1.0, -1.75), diagram=Compose(envelope=<chalk.envelope.Envelope object at 0x792811da8cd0>, diagram1=ApplyStyle(style=Style(line_width=(<WidthType.NORMALIZED: 2>, 0.0), line_color=None, fill_color=None, fill_opacity=None, dashing=None, output_size=None), diagram=ApplyStyle(style=Style(line_width=None, line_color=None, fill_color=<Color black>, fill_opacity=None, dashing=None, output_size=None), diagram=Primitive(shape=Text(text='b', font_size=0.5), style=Style(line_width=None, line_color=None, fill_color=None, fill_opacity=None, dashing=None, output_size=None), transform=Affine(1.0, 0.0, 0.0,\n",
              "       0.0, 1.0, 0.0)))), diagram2=Primitive(shape=Spacer(width=0, height=0.5), style=Style(line_width=None, line_color=None, fill_color=None, fill_opacity=None, dashing=None, output_size=None), transform=Affine(1.0, 0.0, 0.0,\n",
              "       0.0, 1.0, 0.0)))))))), diagram2=ApplyTransform(transform=Affine(1.0, 0.0, 1.5,\n",
              "       0.0, 1.0, 0.0), diagram=Primitive(shape=Spacer(width=2.0, height=0), style=Style(line_width=None, line_color=None, fill_color=None, fill_opacity=None, dashing=None, output_size=None), transform=Affine(1.0, 0.0, 0.0,\n",
              "       0.0, 1.0, 0.0)))), diagram2=ApplyTransform(transform=Affine(1.0, 0.0, 3.0,\n",
              "       0.0, 1.0, 0.0), diagram=ApplyTransform(transform=Affine(1.0, 0.0, -0.0,\n",
              "       0.0, 1.0, 0.25), diagram=Compose(envelope=<chalk.envelope.Envelope object at 0x792811dabf10>, diagram1=ApplyStyle(style=Style(line_width=(<WidthType.NORMALIZED: 2>, 0.05), line_color=None, fill_color=None, fill_opacity=None, dashing=None, output_size=None), diagram=ApplyTransform(transform=Affine(1.0, 0.0, -0.0,\n",
              "       0.0, 1.0, -5.5), diagram=Compose(envelope=<chalk.envelope.Envelope object at 0x792811dab9d0>, diagram1=Compose(envelope=<chalk.envelope.Envelope object at 0x792811dab7d0>, diagram1=Compose(envelope=<chalk.envelope.Envelope object at 0x792811dab5d0>, diagram1=Compose(envelope=<chalk.envelope.Envelope object at 0x792811dab3d0>, diagram1=Compose(envelope=<chalk.envelope.Envelope object at 0x792811dab1d0>, diagram1=Compose(envelope=<chalk.envelope.Envelope object at 0x792811daafd0>, diagram1=Compose(envelope=<chalk.envelope.Envelope object at 0x792811daadd0>, diagram1=Compose(envelope=<chalk.envelope.Envelope object at 0x792811daabd0>, diagram1=Compose(envelope=<chalk.envelope.Envelope object at 0x792811daa9d0>, diagram1=Compose(envelope=<chalk.envelope.Envelope object at 0x792811daa7d0>, diagram1=Compose(envelope=<chalk.envelope.Envelope object at 0x792811daa5d0>, diagram1=Compose(envelope=<chalk.envelope.Envelope object at 0x792811daa3d0>, diagram1=Empty(), diagram2=ApplyName(dname=(\"S0'\", 0), diagram=Primitive(shape=Rectangle(width=1, height=1, radius=None), style=Style(line_width=None, line_color=None, fill_color=None, fill_opacity=None, dashing=None, output_size=None), transform=Affine(1.0, 0.0, 0.0,\n",
              "       0.0, 1.0, 0.0)))), diagram2=ApplyName(dname=(\"S0'\", 1), diagram=Primitive(shape=Rectangle(width=1, height=1, radius=None), style=Style(line_width=None, line_color=None, fill_color=None, fill_opacity=None, dashing=None, output_size=None), transform=Affine(1.0, 0.0, 0.0,\n",
              "       0.0, 1.0, 1.0)))), diagram2=ApplyName(dname=(\"S0'\", 2), diagram=Primitive(shape=Rectangle(width=1, height=1, radius=None), style=Style(line_width=None, line_color=None, fill_color=None, fill_opacity=None, dashing=None, output_size=None), transform=Affine(1.0, 0.0, 0.0,\n",
              "       0.0, 1.0, 2.0)))), diagram2=ApplyName(dname=(\"S0'\", 3), diagram=Primitive(shape=Rectangle(width=1, height=1, radius=None), style=Style(line_width=None, line_color=None, fill_color=None, fill_opacity=None, dashing=None, output_size=None), transform=Affine(1.0, 0.0, 0.0,\n",
              "       0.0, 1.0, 3.0)))), diagram2=ApplyName(dname=(\"S0'\", 4), diagram=Primitive(shape=Rectangle(width=1, height=1, radius=None), style=Style(line_width=None, line_color=None, fill_color=None, fill_opacity=None, dashing=None, output_size=None), transform=Affine(1.0, 0.0, 0.0,\n",
              "       0.0, 1.0, 4.0)))), diagram2=ApplyName(dname=(\"S0'\", 5), diagram=Primitive(shape=Rectangle(width=1, height=1, radius=None), style=Style(line_width=None, line_color=None, fill_color=None, fill_opacity=None, dashing=None, output_size=None), transform=Affine(1.0, 0.0, 0.0,\n",
              "       0.0, 1.0, 5.0)))), diagram2=ApplyName(dname=(\"S0'\", 6), diagram=Primitive(shape=Rectangle(width=1, height=1, radius=None), style=Style(line_width=None, line_color=None, fill_color=None, fill_opacity=None, dashing=None, output_size=None), transform=Affine(1.0, 0.0, 0.0,\n",
              "       0.0, 1.0, 6.0)))), diagram2=ApplyName(dname=(\"S0'\", 7), diagram=Primitive(shape=Rectangle(width=1, height=1, radius=None), style=Style(line_width=None, line_color=None, fill_color=None, fill_opacity=None, dashing=None, output_size=None), transform=Affine(1.0, 0.0, 0.0,\n",
              "       0.0, 1.0, 7.0)))), diagram2=ApplyName(dname=(\"S0'\", 8), diagram=Primitive(shape=Rectangle(width=1, height=1, radius=None), style=Style(line_width=None, line_color=None, fill_color=None, fill_opacity=None, dashing=None, output_size=None), transform=Affine(1.0, 0.0, 0.0,\n",
              "       0.0, 1.0, 8.0)))), diagram2=ApplyName(dname=(\"S0'\", 9), diagram=Primitive(shape=Rectangle(width=1, height=1, radius=None), style=Style(line_width=None, line_color=None, fill_color=None, fill_opacity=None, dashing=None, output_size=None), transform=Affine(1.0, 0.0, 0.0,\n",
              "       0.0, 1.0, 9.0)))), diagram2=ApplyName(dname=(\"S0'\", 10), diagram=Primitive(shape=Rectangle(width=1, height=1, radius=None), style=Style(line_width=None, line_color=None, fill_color=None, fill_opacity=None, dashing=None, output_size=None), transform=Affine(1.0, 0.0, 0.0,\n",
              "       0.0, 1.0, 10.0)))), diagram2=ApplyName(dname=(\"S0'\", 11), diagram=Primitive(shape=Rectangle(width=1, height=1, radius=None), style=Style(line_width=None, line_color=None, fill_color=None, fill_opacity=None, dashing=None, output_size=None), transform=Affine(1.0, 0.0, 0.0,\n",
              "       0.0, 1.0, 11.0)))))), diagram2=ApplyTransform(transform=Affine(1.0, 0.0, -0.0,\n",
              "       0.0, 1.0, -6.25), diagram=Compose(envelope=<chalk.envelope.Envelope object at 0x792811dabd90>, diagram1=ApplyStyle(style=Style(line_width=(<WidthType.NORMALIZED: 2>, 0.0), line_color=None, fill_color=None, fill_opacity=None, dashing=None, output_size=None), diagram=ApplyStyle(style=Style(line_width=None, line_color=None, fill_color=<Color black>, fill_opacity=None, dashing=None, output_size=None), diagram=Primitive(shape=Text(text=\"S0'\", font_size=0.5), style=Style(line_width=None, line_color=None, fill_color=None, fill_opacity=None, dashing=None, output_size=None), transform=Affine(1.0, 0.0, 0.0,\n",
              "       0.0, 1.0, 0.0)))), diagram2=Primitive(shape=Spacer(width=0, height=0.5), style=Style(line_width=None, line_color=None, fill_color=None, fill_opacity=None, dashing=None, output_size=None), transform=Affine(1.0, 0.0, 0.0,\n",
              "       0.0, 1.0, 0.0)))))))), diagram2=ApplyTransform(transform=Affine(1.0, 0.0, 4.5,\n",
              "       0.0, 1.0, 0.0), diagram=Primitive(shape=Spacer(width=2.0, height=0), style=Style(line_width=None, line_color=None, fill_color=None, fill_opacity=None, dashing=None, output_size=None), transform=Affine(1.0, 0.0, 0.0,\n",
              "       0.0, 1.0, 0.0)))), diagram2=ApplyTransform(transform=Affine(1.0, 0.0, 6.0,\n",
              "       0.0, 1.0, 0.0), diagram=ApplyTransform(transform=Affine(1.0, 0.0, -0.0,\n",
              "       0.0, 1.0, 0.25), diagram=Compose(envelope=<chalk.envelope.Envelope object at 0x792811db5810>, diagram1=ApplyStyle(style=Style(line_width=(<WidthType.NORMALIZED: 2>, 0.05), line_color=None, fill_color=None, fill_opacity=None, dashing=None, output_size=None), diagram=ApplyTransform(transform=Affine(1.0, 0.0, -0.0,\n",
              "       0.0, 1.0, -2.5), diagram=Compose(envelope=<chalk.envelope.Envelope object at 0x792811db5310>, diagram1=Compose(envelope=<chalk.envelope.Envelope object at 0x792811db5110>, diagram1=Compose(envelope=<chalk.envelope.Envelope object at 0x792811db4f10>, diagram1=Compose(envelope=<chalk.envelope.Envelope object at 0x792811db4d10>, diagram1=Compose(envelope=<chalk.envelope.Envelope object at 0x792811db4b10>, diagram1=Compose(envelope=<chalk.envelope.Envelope object at 0x792811db4950>, diagram1=Empty(), diagram2=ApplyName(dname=('out', 0), diagram=Primitive(shape=Rectangle(width=1, height=1, radius=None), style=Style(line_width=None, line_color=None, fill_color=None, fill_opacity=None, dashing=None, output_size=None), transform=Affine(1.0, 0.0, 0.0,\n",
              "       0.0, 1.0, 0.0)))), diagram2=ApplyName(dname=('out', 1), diagram=Primitive(shape=Rectangle(width=1, height=1, radius=None), style=Style(line_width=None, line_color=None, fill_color=None, fill_opacity=None, dashing=None, output_size=None), transform=Affine(1.0, 0.0, 0.0,\n",
              "       0.0, 1.0, 1.0)))), diagram2=ApplyName(dname=('out', 2), diagram=Primitive(shape=Rectangle(width=1, height=1, radius=None), style=Style(line_width=None, line_color=None, fill_color=None, fill_opacity=None, dashing=None, output_size=None), transform=Affine(1.0, 0.0, 0.0,\n",
              "       0.0, 1.0, 2.0)))), diagram2=ApplyName(dname=('out', 3), diagram=Primitive(shape=Rectangle(width=1, height=1, radius=None), style=Style(line_width=None, line_color=None, fill_color=None, fill_opacity=None, dashing=None, output_size=None), transform=Affine(1.0, 0.0, 0.0,\n",
              "       0.0, 1.0, 3.0)))), diagram2=ApplyName(dname=('out', 4), diagram=Primitive(shape=Rectangle(width=1, height=1, radius=None), style=Style(line_width=None, line_color=None, fill_color=None, fill_opacity=None, dashing=None, output_size=None), transform=Affine(1.0, 0.0, 0.0,\n",
              "       0.0, 1.0, 4.0)))), diagram2=ApplyName(dname=('out', 5), diagram=Primitive(shape=Rectangle(width=1, height=1, radius=None), style=Style(line_width=None, line_color=None, fill_color=None, fill_opacity=None, dashing=None, output_size=None), transform=Affine(1.0, 0.0, 0.0,\n",
              "       0.0, 1.0, 5.0)))))), diagram2=ApplyTransform(transform=Affine(1.0, 0.0, -0.0,\n",
              "       0.0, 1.0, -3.25), diagram=Compose(envelope=<chalk.envelope.Envelope object at 0x792811db5690>, diagram1=ApplyStyle(style=Style(line_width=(<WidthType.NORMALIZED: 2>, 0.0), line_color=None, fill_color=None, fill_opacity=None, dashing=None, output_size=None), diagram=ApplyStyle(style=Style(line_width=None, line_color=None, fill_color=<Color black>, fill_opacity=None, dashing=None, output_size=None), diagram=Primitive(shape=Text(text='out', font_size=0.5), style=Style(line_width=None, line_color=None, fill_color=None, fill_opacity=None, dashing=None, output_size=None), transform=Affine(1.0, 0.0, 0.0,\n",
              "       0.0, 1.0, 0.0)))), diagram2=Primitive(shape=Spacer(width=0, height=0.5), style=Style(line_width=None, line_color=None, fill_color=None, fill_opacity=None, dashing=None, output_size=None), transform=Affine(1.0, 0.0, 0.0,\n",
              "       0.0, 1.0, 0.0)))))))), diagram2=Compose(envelope=<chalk.envelope.Envelope object at 0x792811dcdf90>, diagram1=Compose(envelope=<chalk.envelope.Envelope object at 0x792811dc0190>, diagram1=Compose(envelope=<chalk.envelope.Envelope object at 0x792811db62d0>, diagram1=Compose(envelope=<chalk.envelope.Envelope object at 0x792811db6250>, diagram1=Empty(), diagram2=Empty()), diagram2=Empty()), diagram2=Compose(envelope=<chalk.envelope.Envelope object at 0x792811dc00d0>, diagram1=Compose(envelope=<chalk.envelope.Envelope object at 0x792811db63d0>, diagram1=Empty(), diagram2=Compose(envelope=<chalk.envelope.Envelope object at 0x792811db71d0>, diagram1=Compose(envelope=<chalk.envelope.Envelope object at 0x792811db6d50>, diagram1=Compose(envelope=<chalk.envelope.Envelope object at 0x792811db67d0>, diagram1=Empty(), diagram2=ApplyStyle(style=Style(line_width=None, line_color=<Color red>, fill_color=None, fill_opacity=None, dashing=None, output_size=None), diagram=ApplyStyle(style=Style(line_width=(<WidthType.NORMALIZED: 2>, 0.04), line_color=None, fill_color=None, fill_opacity=None, dashing=None, output_size=None), diagram=Primitive(shape=Path(points=Vec2Array([(0.0, 0.0), (2.882735856027222, 0.0)]), arrow=False), style=Style(line_width=None, line_color=None, fill_color=None, fill_opacity=None, dashing=None, output_size=None), transform=Affine(-0.9962324484206508, -0.08672317287666127, 2.5,\n",
              "       0.08672317287666127, -0.9962324484206508, -5.25))))), diagram2=Compose(envelope=<chalk.envelope.Envelope object at 0x792811db6c10>, diagram1=Empty(), diagram2=ApplyTransform(transform=Affine(1.0, 0.0, 3.0,\n",
              "       0.0, 1.0, -5.25), diagram=ApplyStyle(style=Style(line_width=(<WidthType.NORMALIZED: 2>, 0.15), line_color=None, fill_color=None, fill_opacity=None, dashing=None, output_size=None), diagram=ApplyStyle(style=Style(line_width=None, line_color=<Color red>, fill_color=None, fill_opacity=None, dashing=None, output_size=None), diagram=ApplyStyle(style=Style(line_width=None, line_color=None, fill_color=None, fill_opacity=0, dashing=None, output_size=None), diagram=Primitive(shape=Rectangle(width=0.95, height=0.95, radius=None), style=Style(line_width=None, line_color=None, fill_color=None, fill_opacity=None, dashing=None, output_size=None), transform=Affine(1.0, 0.0, 0.0,\n",
              "       0.0, 1.0, 0.0)))))))), diagram2=Compose(envelope=<chalk.envelope.Envelope object at 0x792811db7110>, diagram1=Empty(), diagram2=ApplyTransform(transform=Affine(1.0, 0.0, -0.371875,\n",
              "       0.0, 1.0, -5.0), diagram=ApplyStyle(style=Style(line_width=None, line_color=None, fill_color=<Color red>, fill_opacity=None, dashing=None, output_size=None), diagram=ApplyStyle(style=Style(line_width=(<WidthType.NORMALIZED: 2>, 0.04), line_color=None, fill_color=None, fill_opacity=None, dashing=None, output_size=None), diagram=Primitive(shape=Circle(radius=0.1), style=Style(line_width=None, line_color=None, fill_color=None, fill_opacity=None, dashing=None, output_size=None), transform=Affine(1.0, 0.0, 0.0,\n",
              "       0.0, 1.0, 0.0)))))))), diagram2=Compose(envelope=<chalk.envelope.Envelope object at 0x792811db7fd0>, diagram1=Compose(envelope=<chalk.envelope.Envelope object at 0x792811db7b10>, diagram1=Compose(envelope=<chalk.envelope.Envelope object at 0x792811db7590>, diagram1=Empty(), diagram2=ApplyStyle(style=Style(line_width=None, line_color=<Color red>, fill_color=None, fill_opacity=None, dashing=None, output_size=None), diagram=ApplyStyle(style=Style(line_width=(<WidthType.NORMALIZED: 2>, 0.04), line_color=None, fill_color=None, fill_opacity=None, dashing=None, output_size=None), diagram=Primitive(shape=Path(points=Vec2Array([(0.0, 0.0), (3.9761999466356066, 0.0)]), arrow=False), style=Style(line_width=None, line_color=None, fill_color=None, fill_opacity=None, dashing=None, output_size=None), transform=Affine(-0.722266243786354, -0.6916151191860622, 2.5,\n",
              "       0.6916151191860622, -0.722266243786354, 2.75))))), diagram2=Compose(envelope=<chalk.envelope.Envelope object at 0x792811db7a10>, diagram1=Empty(), diagram2=ApplyTransform(transform=Affine(1.0, 0.0, 3.0,\n",
              "       0.0, 1.0, 2.75), diagram=ApplyStyle(style=Style(line_width=(<WidthType.NORMALIZED: 2>, 0.15), line_color=None, fill_color=None, fill_opacity=None, dashing=None, output_size=None), diagram=ApplyStyle(style=Style(line_width=None, line_color=<Color red>, fill_color=None, fill_opacity=None, dashing=None, output_size=None), diagram=ApplyStyle(style=Style(line_width=None, line_color=None, fill_color=None, fill_opacity=0, dashing=None, output_size=None), diagram=Primitive(shape=Rectangle(width=0.95, height=0.95, radius=None), style=Style(line_width=None, line_color=None, fill_color=None, fill_opacity=None, dashing=None, output_size=None), transform=Affine(1.0, 0.0, 0.0,\n",
              "       0.0, 1.0, 0.0)))))))), diagram2=Compose(envelope=<chalk.envelope.Envelope object at 0x792811db7f10>, diagram1=Empty(), diagram2=ApplyTransform(transform=Affine(1.0, 0.0, -0.371875,\n",
              "       0.0, 1.0, 5.5), diagram=ApplyStyle(style=Style(line_width=None, line_color=None, fill_color=<Color red>, fill_opacity=None, dashing=None, output_size=None), diagram=ApplyStyle(style=Style(line_width=(<WidthType.NORMALIZED: 2>, 0.04), line_color=None, fill_color=None, fill_opacity=None, dashing=None, output_size=None), diagram=Primitive(shape=Circle(radius=0.1), style=Style(line_width=None, line_color=None, fill_color=None, fill_opacity=None, dashing=None, output_size=None), transform=Affine(1.0, 0.0, 0.0,\n",
              "       0.0, 1.0, 0.0))))))))), diagram2=Compose(envelope=<chalk.envelope.Envelope object at 0x792811dcde90>, diagram1=Compose(envelope=<chalk.envelope.Envelope object at 0x792811dcdd10>, diagram1=Compose(envelope=<chalk.envelope.Envelope object at 0x792811dcdb90>, diagram1=Compose(envelope=<chalk.envelope.Envelope object at 0x792811dcda10>, diagram1=Compose(envelope=<chalk.envelope.Envelope object at 0x792811dcd890>, diagram1=Compose(envelope=<chalk.envelope.Envelope object at 0x792811dc0290>, diagram1=Empty(), diagram2=Compose(envelope=<chalk.envelope.Envelope object at 0x792811dc1150>, diagram1=Compose(envelope=<chalk.envelope.Envelope object at 0x792811dc0c90>, diagram1=Compose(envelope=<chalk.envelope.Envelope object at 0x792811dc0710>, diagram1=Empty(), diagram2=ApplyStyle(style=Style(line_width=None, line_color=<Color red>, fill_color=None, fill_opacity=None, dashing=None, output_size=None), diagram=ApplyStyle(style=Style(line_width=(<WidthType.NORMALIZED: 2>, 0.04), line_color=None, fill_color=None, fill_opacity=None, dashing=None, output_size=None), diagram=Primitive(shape=Path(points=Vec2Array([(0.0, 0.0), (4.153030943253975, 0.0)]), arrow=False), style=Style(line_width=None, line_color=None, fill_color=None, fill_opacity=None, dashing=None, output_size=None), transform=Affine(-0.6915130272903371, 0.7223639893348459, 5.5,\n",
              "       -0.7223639893348459, -0.6915130272903371, -2.25))))), diagram2=Compose(envelope=<chalk.envelope.Envelope object at 0x792811dc0b90>, diagram1=Empty(), diagram2=ApplyTransform(transform=Affine(1.0, 0.0, 6.0,\n",
              "       0.0, 1.0, -2.25), diagram=ApplyStyle(style=Style(line_width=(<WidthType.NORMALIZED: 2>, 0.15), line_color=None, fill_color=None, fill_opacity=None, dashing=None, output_size=None), diagram=ApplyStyle(style=Style(line_width=None, line_color=<Color red>, fill_color=None, fill_opacity=None, dashing=None, output_size=None), diagram=ApplyStyle(style=Style(line_width=None, line_color=None, fill_color=None, fill_opacity=0, dashing=None, output_size=None), diagram=Primitive(shape=Rectangle(width=0.95, height=0.95, radius=None), style=Style(line_width=None, line_color=None, fill_color=None, fill_opacity=None, dashing=None, output_size=None), transform=Affine(1.0, 0.0, 0.0,\n",
              "       0.0, 1.0, 0.0)))))))), diagram2=Compose(envelope=<chalk.envelope.Envelope object at 0x792811dc1090>, diagram1=Empty(), diagram2=ApplyTransform(transform=Affine(1.0, 0.0, 2.628125,\n",
              "       0.0, 1.0, -5.25), diagram=ApplyStyle(style=Style(line_width=None, line_color=None, fill_color=<Color red>, fill_opacity=None, dashing=None, output_size=None), diagram=ApplyStyle(style=Style(line_width=(<WidthType.NORMALIZED: 2>, 0.04), line_color=None, fill_color=None, fill_opacity=None, dashing=None, output_size=None), diagram=Primitive(shape=Circle(radius=0.1), style=Style(line_width=None, line_color=None, fill_color=None, fill_opacity=None, dashing=None, output_size=None), transform=Affine(1.0, 0.0, 0.0,\n",
              "       0.0, 1.0, 0.0)))))))), diagram2=Compose(envelope=<chalk.envelope.Envelope object at 0x792811dc1f50>, diagram1=Compose(envelope=<chalk.envelope.Envelope object at 0x792811dc1a90>, diagram1=Compose(envelope=<chalk.envelope.Envelope object at 0x792811dc1510>, diagram1=Empty(), diagram2=ApplyStyle(style=Style(line_width=None, line_color=<Color red>, fill_color=None, fill_opacity=None, dashing=None, output_size=None), diagram=ApplyStyle(style=Style(line_width=(<WidthType.NORMALIZED: 2>, 0.04), line_color=None, fill_color=None, fill_opacity=None, dashing=None, output_size=None), diagram=Primitive(shape=Path(points=Vec2Array([(0.0, 0.0), (4.153030943253975, 0.0)]), arrow=False), style=Style(line_width=None, line_color=None, fill_color=None, fill_opacity=None, dashing=None, output_size=None), transform=Affine(-0.6915130272903374, -0.7223639893348458, 5.5,\n",
              "       0.7223639893348458, -0.6915130272903374, -2.25))))), diagram2=Compose(envelope=<chalk.envelope.Envelope object at 0x792811dc1990>, diagram1=Empty(), diagram2=ApplyTransform(transform=Affine(1.0, 0.0, 6.0,\n",
              "       0.0, 1.0, -2.25), diagram=ApplyStyle(style=Style(line_width=(<WidthType.NORMALIZED: 2>, 0.15), line_color=None, fill_color=None, fill_opacity=None, dashing=None, output_size=None), diagram=ApplyStyle(style=Style(line_width=None, line_color=<Color red>, fill_color=None, fill_opacity=None, dashing=None, output_size=None), diagram=ApplyStyle(style=Style(line_width=None, line_color=None, fill_color=None, fill_opacity=0, dashing=None, output_size=None), diagram=Primitive(shape=Rectangle(width=0.95, height=0.95, radius=None), style=Style(line_width=None, line_color=None, fill_color=None, fill_opacity=None, dashing=None, output_size=None), transform=Affine(1.0, 0.0, 0.0,\n",
              "       0.0, 1.0, 0.0)))))))), diagram2=Compose(envelope=<chalk.envelope.Envelope object at 0x792811dc1e90>, diagram1=Empty(), diagram2=ApplyTransform(transform=Affine(1.0, 0.0, 2.628125,\n",
              "       0.0, 1.0, 0.75), diagram=ApplyStyle(style=Style(line_width=None, line_color=None, fill_color=<Color red>, fill_opacity=None, dashing=None, output_size=None), diagram=ApplyStyle(style=Style(line_width=(<WidthType.NORMALIZED: 2>, 0.04), line_color=None, fill_color=None, fill_opacity=None, dashing=None, output_size=None), diagram=Primitive(shape=Circle(radius=0.1), style=Style(line_width=None, line_color=None, fill_color=None, fill_opacity=None, dashing=None, output_size=None), transform=Affine(1.0, 0.0, 0.0,\n",
              "       0.0, 1.0, 0.0)))))))), diagram2=Compose(envelope=<chalk.envelope.Envelope object at 0x792811dc2d50>, diagram1=Compose(envelope=<chalk.envelope.Envelope object at 0x792811dc2890>, diagram1=Compose(envelope=<chalk.envelope.Envelope object at 0x792811dc2310>, diagram1=Empty(), diagram2=ApplyStyle(style=Style(line_width=None, line_color=<Color red>, fill_color=None, fill_opacity=None, dashing=None, output_size=None), diagram=ApplyStyle(style=Style(line_width=(<WidthType.NORMALIZED: 2>, 0.04), line_color=None, fill_color=None, fill_opacity=None, dashing=None, output_size=None), diagram=Primitive(shape=Path(points=Vec2Array([(0.0, 0.0), (3.4996665577773265, 0.0)]), arrow=False), style=Style(line_width=None, line_color=None, fill_color=None, fill_opacity=None, dashing=None, output_size=None), transform=Affine(-0.820613893520175, 0.5714830161620369, 5.5,\n",
              "       -0.5714830161620369, -0.820613893520175, -2.25))))), diagram2=Compose(envelope=<chalk.envelope.Envelope object at 0x792811dc2790>, diagram1=Empty(), diagram2=ApplyTransform(transform=Affine(1.0, 0.0, 6.0,\n",
              "       0.0, 1.0, -2.25), diagram=ApplyStyle(style=Style(line_width=(<WidthType.NORMALIZED: 2>, 0.15), line_color=None, fill_color=None, fill_opacity=None, dashing=None, output_size=None), diagram=ApplyStyle(style=Style(line_width=None, line_color=<Color red>, fill_color=None, fill_opacity=None, dashing=None, output_size=None), diagram=ApplyStyle(style=Style(line_width=None, line_color=None, fill_color=None, fill_opacity=0, dashing=None, output_size=None), diagram=Primitive(shape=Rectangle(width=0.95, height=0.95, radius=None), style=Style(line_width=None, line_color=None, fill_color=None, fill_opacity=None, dashing=None, output_size=None), transform=Affine(1.0, 0.0, 0.0,\n",
              "       0.0, 1.0, 0.0)))))))), diagram2=Compose(envelope=<chalk.envelope.Envelope object at 0x792811dc2c90>, diagram1=Empty(), diagram2=ApplyTransform(transform=Affine(1.0, 0.0, 2.628125,\n",
              "       0.0, 1.0, -4.25), diagram=ApplyStyle(style=Style(line_width=None, line_color=None, fill_color=<Color red>, fill_opacity=None, dashing=None, output_size=None), diagram=ApplyStyle(style=Style(line_width=(<WidthType.NORMALIZED: 2>, 0.04), line_color=None, fill_color=None, fill_opacity=None, dashing=None, output_size=None), diagram=Primitive(shape=Circle(radius=0.1), style=Style(line_width=None, line_color=None, fill_color=None, fill_opacity=None, dashing=None, output_size=None), transform=Affine(1.0, 0.0, 0.0,\n",
              "       0.0, 1.0, 0.0)))))))), diagram2=Compose(envelope=<chalk.envelope.Envelope object at 0x792811dc3b50>, diagram1=Compose(envelope=<chalk.envelope.Envelope object at 0x792811dc3690>, diagram1=Compose(envelope=<chalk.envelope.Envelope object at 0x792811dc3110>, diagram1=Empty(), diagram2=ApplyStyle(style=Style(line_width=None, line_color=<Color red>, fill_color=None, fill_opacity=None, dashing=None, output_size=None), diagram=ApplyStyle(style=Style(line_width=(<WidthType.NORMALIZED: 2>, 0.04), line_color=None, fill_color=None, fill_opacity=None, dashing=None, output_size=None), diagram=Primitive(shape=Path(points=Vec2Array([(0.0, 0.0), (4.924191914987169, 0.0)]), arrow=False), style=Style(line_width=None, line_color=None, fill_color=None, fill_opacity=None, dashing=None, output_size=None), transform=Affine(-0.5832175206777018, -0.8123160244477234, 5.5,\n",
              "       0.8123160244477234, -0.5832175206777018, -2.25))))), diagram2=Compose(envelope=<chalk.envelope.Envelope object at 0x792811dc3590>, diagram1=Empty(), diagram2=ApplyTransform(transform=Affine(1.0, 0.0, 6.0,\n",
              "       0.0, 1.0, -2.25), diagram=ApplyStyle(style=Style(line_width=(<WidthType.NORMALIZED: 2>, 0.15), line_color=None, fill_color=None, fill_opacity=None, dashing=None, output_size=None), diagram=ApplyStyle(style=Style(line_width=None, line_color=<Color red>, fill_color=None, fill_opacity=None, dashing=None, output_size=None), diagram=ApplyStyle(style=Style(line_width=None, line_color=None, fill_color=None, fill_opacity=0, dashing=None, output_size=None), diagram=Primitive(shape=Rectangle(width=0.95, height=0.95, radius=None), style=Style(line_width=None, line_color=None, fill_color=None, fill_opacity=None, dashing=None, output_size=None), transform=Affine(1.0, 0.0, 0.0,\n",
              "       0.0, 1.0, 0.0)))))))), diagram2=Compose(envelope=<chalk.envelope.Envelope object at 0x792811dc3a90>, diagram1=Empty(), diagram2=ApplyTransform(transform=Affine(1.0, 0.0, 2.628125,\n",
              "       0.0, 1.0, 1.75), diagram=ApplyStyle(style=Style(line_width=None, line_color=None, fill_color=<Color red>, fill_opacity=None, dashing=None, output_size=None), diagram=ApplyStyle(style=Style(line_width=(<WidthType.NORMALIZED: 2>, 0.04), line_color=None, fill_color=None, fill_opacity=None, dashing=None, output_size=None), diagram=Primitive(shape=Circle(radius=0.1), style=Style(line_width=None, line_color=None, fill_color=None, fill_opacity=None, dashing=None, output_size=None), transform=Affine(1.0, 0.0, 0.0,\n",
              "       0.0, 1.0, 0.0)))))))), diagram2=Compose(envelope=<chalk.envelope.Envelope object at 0x792811dcc990>, diagram1=Compose(envelope=<chalk.envelope.Envelope object at 0x792811dcc4d0>, diagram1=Compose(envelope=<chalk.envelope.Envelope object at 0x792811dc3f10>, diagram1=Empty(), diagram2=ApplyStyle(style=Style(line_width=None, line_color=<Color red>, fill_color=None, fill_opacity=None, dashing=None, output_size=None), diagram=ApplyStyle(style=Style(line_width=(<WidthType.NORMALIZED: 2>, 0.04), line_color=None, fill_color=None, fill_opacity=None, dashing=None, output_size=None), diagram=Primitive(shape=Path(points=Vec2Array([(0.0, 0.0), (3.040997536274076, 0.0)]), arrow=False), style=Style(line_width=None, line_color=None, fill_color=None, fill_opacity=None, dashing=None, output_size=None), transform=Affine(-0.9443858358131753, 0.3288394640481134, 5.5,\n",
              "       -0.3288394640481134, -0.9443858358131753, -2.25))))), diagram2=Compose(envelope=<chalk.envelope.Envelope object at 0x792811dcc3d0>, diagram1=Empty(), diagram2=ApplyTransform(transform=Affine(1.0, 0.0, 6.0,\n",
              "       0.0, 1.0, -2.25), diagram=ApplyStyle(style=Style(line_width=(<WidthType.NORMALIZED: 2>, 0.15), line_color=None, fill_color=None, fill_opacity=None, dashing=None, output_size=None), diagram=ApplyStyle(style=Style(line_width=None, line_color=<Color red>, fill_color=None, fill_opacity=None, dashing=None, output_size=None), diagram=ApplyStyle(style=Style(line_width=None, line_color=None, fill_color=None, fill_opacity=0, dashing=None, output_size=None), diagram=Primitive(shape=Rectangle(width=0.95, height=0.95, radius=None), style=Style(line_width=None, line_color=None, fill_color=None, fill_opacity=None, dashing=None, output_size=None), transform=Affine(1.0, 0.0, 0.0,\n",
              "       0.0, 1.0, 0.0)))))))), diagram2=Compose(envelope=<chalk.envelope.Envelope object at 0x792811dcc8d0>, diagram1=Empty(), diagram2=ApplyTransform(transform=Affine(1.0, 0.0, 2.628125,\n",
              "       0.0, 1.0, -3.25), diagram=ApplyStyle(style=Style(line_width=None, line_color=None, fill_color=<Color red>, fill_opacity=None, dashing=None, output_size=None), diagram=ApplyStyle(style=Style(line_width=(<WidthType.NORMALIZED: 2>, 0.04), line_color=None, fill_color=None, fill_opacity=None, dashing=None, output_size=None), diagram=Primitive(shape=Circle(radius=0.1), style=Style(line_width=None, line_color=None, fill_color=None, fill_opacity=None, dashing=None, output_size=None), transform=Affine(1.0, 0.0, 0.0,\n",
              "       0.0, 1.0, 0.0)))))))), diagram2=Compose(envelope=<chalk.envelope.Envelope object at 0x792811dcd7d0>, diagram1=Compose(envelope=<chalk.envelope.Envelope object at 0x792811dcd310>, diagram1=Compose(envelope=<chalk.envelope.Envelope object at 0x792811dccd90>, diagram1=Empty(), diagram2=ApplyStyle(style=Style(line_width=None, line_color=<Color red>, fill_color=None, fill_opacity=None, dashing=None, output_size=None), diagram=ApplyStyle(style=Style(line_width=(<WidthType.NORMALIZED: 2>, 0.04), line_color=None, fill_color=None, fill_opacity=None, dashing=None, output_size=None), diagram=Primitive(shape=Path(points=Vec2Array([(0.0, 0.0), (5.766078911671691, 0.0)]), arrow=False), style=Style(line_width=None, line_color=None, fill_color=None, fill_opacity=None, dashing=None, output_size=None), transform=Affine(-0.4980637698500368, -0.8671404045267235, 5.5,\n",
              "       0.8671404045267235, -0.4980637698500368, -2.25))))), diagram2=Compose(envelope=<chalk.envelope.Envelope object at 0x792811dcd210>, diagram1=Empty(), diagram2=ApplyTransform(transform=Affine(1.0, 0.0, 6.0,\n",
              "       0.0, 1.0, -2.25), diagram=ApplyStyle(style=Style(line_width=(<WidthType.NORMALIZED: 2>, 0.15), line_color=None, fill_color=None, fill_opacity=None, dashing=None, output_size=None), diagram=ApplyStyle(style=Style(line_width=None, line_color=<Color red>, fill_color=None, fill_opacity=None, dashing=None, output_size=None), diagram=ApplyStyle(style=Style(line_width=None, line_color=None, fill_color=None, fill_opacity=0, dashing=None, output_size=None), diagram=Primitive(shape=Rectangle(width=0.95, height=0.95, radius=None), style=Style(line_width=None, line_color=None, fill_color=None, fill_opacity=None, dashing=None, output_size=None), transform=Affine(1.0, 0.0, 0.0,\n",
              "       0.0, 1.0, 0.0)))))))), diagram2=Compose(envelope=<chalk.envelope.Envelope object at 0x792811dcd710>, diagram1=Empty(), diagram2=ApplyTransform(transform=Affine(1.0, 0.0, 2.628125,\n",
              "       0.0, 1.0, 2.75), diagram=ApplyStyle(style=Style(line_width=None, line_color=None, fill_color=<Color red>, fill_opacity=None, dashing=None, output_size=None), diagram=ApplyStyle(style=Style(line_width=(<WidthType.NORMALIZED: 2>, 0.04), line_color=None, fill_color=None, fill_opacity=None, dashing=None, output_size=None), diagram=Primitive(shape=Circle(radius=0.1), style=Style(line_width=None, line_color=None, fill_color=None, fill_opacity=None, dashing=None, output_size=None), transform=Affine(1.0, 0.0, 0.0,\n",
              "       0.0, 1.0, 0.0)))))))))), diagram2=Compose(envelope=<chalk.envelope.Envelope object at 0x792811de8f90>, diagram1=Compose(envelope=<chalk.envelope.Envelope object at 0x792811dce490>, diagram1=Compose(envelope=<chalk.envelope.Envelope object at 0x792811dce310>, diagram1=Compose(envelope=<chalk.envelope.Envelope object at 0x792811dce290>, diagram1=Empty(), diagram2=Empty()), diagram2=Empty()), diagram2=Compose(envelope=<chalk.envelope.Envelope object at 0x792811dce450>, diagram1=Empty(), diagram2=Compose(envelope=<chalk.envelope.Envelope object at 0x792811dcf2d0>, diagram1=Compose(envelope=<chalk.envelope.Envelope object at 0x792811dcee10>, diagram1=Compose(envelope=<chalk.envelope.Envelope object at 0x792811dce890>, diagram1=Empty(), diagram2=ApplyStyle(style=Style(line_width=None, line_color=<Color #ff7100>, fill_color=None, fill_opacity=None, dashing=None, output_size=None), diagram=ApplyStyle(style=Style(line_width=(<WidthType.NORMALIZED: 2>, 0.04), line_color=None, fill_color=None, fill_opacity=None, dashing=None, output_size=None), diagram=Primitive(shape=Path(points=Vec2Array([(0.0, 0.0), (2.7769014459690498, 0.0)]), arrow=False), style=Style(line_width=None, line_color=None, fill_color=None, fill_opacity=None, dashing=None, output_size=None), transform=Affine(-0.9959391983516669, -0.09002840211088502, 2.5,\n",
              "       0.09002840211088502, -0.9959391983516669, -4.25))))), diagram2=Compose(envelope=<chalk.envelope.Envelope object at 0x792811dced10>, diagram1=Empty(), diagram2=ApplyTransform(transform=Affine(1.0, 0.0, 3.0,\n",
              "       0.0, 1.0, -4.25), diagram=ApplyStyle(style=Style(line_width=(<WidthType.NORMALIZED: 2>, 0.15), line_color=None, fill_color=None, fill_opacity=None, dashing=None, output_size=None), diagram=ApplyStyle(style=Style(line_width=None, line_color=<Color #ff7100>, fill_color=None, fill_opacity=None, dashing=None, output_size=None), diagram=ApplyStyle(style=Style(line_width=None, line_color=None, fill_color=None, fill_opacity=0, dashing=None, output_size=None), diagram=Primitive(shape=Rectangle(width=0.95, height=0.95, radius=None), style=Style(line_width=None, line_color=None, fill_color=None, fill_opacity=None, dashing=None, output_size=None), transform=Affine(1.0, 0.0, 0.0,\n",
              "       0.0, 1.0, 0.0)))))))), diagram2=Compose(envelope=<chalk.envelope.Envelope object at 0x792811dcf210>, diagram1=Empty(), diagram2=ApplyTransform(transform=Affine(1.0, 0.0, -0.265625,\n",
              "       0.0, 1.0, -4.0), diagram=ApplyStyle(style=Style(line_width=None, line_color=None, fill_color=<Color #ff7100>, fill_opacity=None, dashing=None, output_size=None), diagram=ApplyStyle(style=Style(line_width=(<WidthType.NORMALIZED: 2>, 0.04), line_color=None, fill_color=None, fill_opacity=None, dashing=None, output_size=None), diagram=Primitive(shape=Circle(radius=0.1), style=Style(line_width=None, line_color=None, fill_color=None, fill_opacity=None, dashing=None, output_size=None), transform=Affine(1.0, 0.0, 0.0,\n",
              "       0.0, 1.0, 0.0))))))))), diagram2=Compose(envelope=<chalk.envelope.Envelope object at 0x792811de8e90>, diagram1=Compose(envelope=<chalk.envelope.Envelope object at 0x792811de8d10>, diagram1=Compose(envelope=<chalk.envelope.Envelope object at 0x792811de8b90>, diagram1=Compose(envelope=<chalk.envelope.Envelope object at 0x792811de8a10>, diagram1=Compose(envelope=<chalk.envelope.Envelope object at 0x792811de8890>, diagram1=Compose(envelope=<chalk.envelope.Envelope object at 0x792811dcf390>, diagram1=Empty(), diagram2=Compose(envelope=<chalk.envelope.Envelope object at 0x792811ddc210>, diagram1=Compose(envelope=<chalk.envelope.Envelope object at 0x792811dcfdd0>, diagram1=Compose(envelope=<chalk.envelope.Envelope object at 0x792811dcf850>, diagram1=Empty(), diagram2=ApplyStyle(style=Style(line_width=None, line_color=<Color #ff7100>, fill_color=None, fill_opacity=None, dashing=None, output_size=None), diagram=ApplyStyle(style=Style(line_width=(<WidthType.NORMALIZED: 2>, 0.04), line_color=None, fill_color=None, fill_opacity=None, dashing=None, output_size=None), diagram=Primitive(shape=Path(points=Vec2Array([(0.0, 0.0), (4.080279603241057, 0.0)]), arrow=False), style=Style(line_width=None, line_color=None, fill_color=None, fill_opacity=None, dashing=None, output_size=None), transform=Affine(-0.6778028147392653, 0.7352437312425922, 5.5,\n",
              "       -0.7352437312425922, -0.6778028147392653, -1.25))))), diagram2=Compose(envelope=<chalk.envelope.Envelope object at 0x792811dcfcd0>, diagram1=Empty(), diagram2=ApplyTransform(transform=Affine(1.0, 0.0, 6.0,\n",
              "       0.0, 1.0, -1.25), diagram=ApplyStyle(style=Style(line_width=(<WidthType.NORMALIZED: 2>, 0.15), line_color=None, fill_color=None, fill_opacity=None, dashing=None, output_size=None), diagram=ApplyStyle(style=Style(line_width=None, line_color=<Color #ff7100>, fill_color=None, fill_opacity=None, dashing=None, output_size=None), diagram=ApplyStyle(style=Style(line_width=None, line_color=None, fill_color=None, fill_opacity=0, dashing=None, output_size=None), diagram=Primitive(shape=Rectangle(width=0.95, height=0.95, radius=None), style=Style(line_width=None, line_color=None, fill_color=None, fill_opacity=None, dashing=None, output_size=None), transform=Affine(1.0, 0.0, 0.0,\n",
              "       0.0, 1.0, 0.0)))))))), diagram2=Compose(envelope=<chalk.envelope.Envelope object at 0x792811ed3b10>, diagram1=Empty(), diagram2=ApplyTransform(transform=Affine(1.0, 0.0, 2.734375,\n",
              "       0.0, 1.0, -4.25), diagram=ApplyStyle(style=Style(line_width=None, line_color=None, fill_color=<Color #ff7100>, fill_opacity=None, dashing=None, output_size=None), diagram=ApplyStyle(style=Style(line_width=(<WidthType.NORMALIZED: 2>, 0.04), line_color=None, fill_color=None, fill_opacity=None, dashing=None, output_size=None), diagram=Primitive(shape=Circle(radius=0.1), style=Style(line_width=None, line_color=None, fill_color=None, fill_opacity=None, dashing=None, output_size=None), transform=Affine(1.0, 0.0, 0.0,\n",
              "       0.0, 1.0, 0.0)))))))), diagram2=Compose(envelope=<chalk.envelope.Envelope object at 0x792811ddcfd0>, diagram1=Compose(envelope=<chalk.envelope.Envelope object at 0x792811ddcb10>, diagram1=Compose(envelope=<chalk.envelope.Envelope object at 0x792811ddc5d0>, diagram1=Empty(), diagram2=ApplyStyle(style=Style(line_width=None, line_color=<Color #ff7100>, fill_color=None, fill_opacity=None, dashing=None, output_size=None), diagram=ApplyStyle(style=Style(line_width=(<WidthType.NORMALIZED: 2>, 0.04), line_color=None, fill_color=None, fill_opacity=None, dashing=None, output_size=None), diagram=Primitive(shape=Path(points=Vec2Array([(0.0, 0.0), (3.413016501663155, 0.0)]), arrow=False), style=Style(line_width=None, line_color=None, fill_color=None, fill_opacity=None, dashing=None, output_size=None), transform=Affine(-0.8103169142757787, -0.5859918928096023, 5.5,\n",
              "       0.5859918928096023, -0.8103169142757787, -1.25))))), diagram2=Compose(envelope=<chalk.envelope.Envelope object at 0x792811ddca50>, diagram1=Empty(), diagram2=ApplyTransform(transform=Affine(1.0, 0.0, 6.0,\n",
              "       0.0, 1.0, -1.25), diagram=ApplyStyle(style=Style(line_width=(<WidthType.NORMALIZED: 2>, 0.15), line_color=None, fill_color=None, fill_opacity=None, dashing=None, output_size=None), diagram=ApplyStyle(style=Style(line_width=None, line_color=<Color #ff7100>, fill_color=None, fill_opacity=None, dashing=None, output_size=None), diagram=ApplyStyle(style=Style(line_width=None, line_color=None, fill_color=None, fill_opacity=0, dashing=None, output_size=None), diagram=Primitive(shape=Rectangle(width=0.95, height=0.95, radius=None), style=Style(line_width=None, line_color=None, fill_color=None, fill_opacity=None, dashing=None, output_size=None), transform=Affine(1.0, 0.0, 0.0,\n",
              "       0.0, 1.0, 0.0)))))))), diagram2=Compose(envelope=<chalk.envelope.Envelope object at 0x792811ddcf10>, diagram1=Empty(), diagram2=ApplyTransform(transform=Affine(1.0, 0.0, 2.734375,\n",
              "       0.0, 1.0, 0.75), diagram=ApplyStyle(style=Style(line_width=None, line_color=None, fill_color=<Color #ff7100>, fill_opacity=None, dashing=None, output_size=None), diagram=ApplyStyle(style=Style(line_width=(<WidthType.NORMALIZED: 2>, 0.04), line_color=None, fill_color=None, fill_opacity=None, dashing=None, output_size=None), diagram=Primitive(shape=Circle(radius=0.1), style=Style(line_width=None, line_color=None, fill_color=None, fill_opacity=None, dashing=None, output_size=None), transform=Affine(1.0, 0.0, 0.0,\n",
              "       0.0, 1.0, 0.0)))))))), diagram2=Compose(envelope=<chalk.envelope.Envelope object at 0x792811dddd90>, diagram1=Compose(envelope=<chalk.envelope.Envelope object at 0x792811ddd8d0>, diagram1=Compose(envelope=<chalk.envelope.Envelope object at 0x792811ddd390>, diagram1=Empty(), diagram2=ApplyStyle(style=Style(line_width=None, line_color=<Color #ff7100>, fill_color=None, fill_opacity=None, dashing=None, output_size=None), diagram=ApplyStyle(style=Style(line_width=(<WidthType.NORMALIZED: 2>, 0.04), line_color=None, fill_color=None, fill_opacity=None, dashing=None, output_size=None), diagram=Primitive(shape=Path(points=Vec2Array([(0.0, 0.0), (3.413016501663155, 0.0)]), arrow=False), style=Style(line_width=None, line_color=None, fill_color=None, fill_opacity=None, dashing=None, output_size=None), transform=Affine(-0.8103169142757786, 0.5859918928096024, 5.5,\n",
              "       -0.5859918928096024, -0.8103169142757786, -1.25))))), diagram2=Compose(envelope=<chalk.envelope.Envelope object at 0x792811ddd810>, diagram1=Empty(), diagram2=ApplyTransform(transform=Affine(1.0, 0.0, 6.0,\n",
              "       0.0, 1.0, -1.25), diagram=ApplyStyle(style=Style(line_width=(<WidthType.NORMALIZED: 2>, 0.15), line_color=None, fill_color=None, fill_opacity=None, dashing=None, output_size=None), diagram=ApplyStyle(style=Style(line_width=None, line_color=<Color #ff7100>, fill_color=None, fill_opacity=None, dashing=None, output_size=None), diagram=ApplyStyle(style=Style(line_width=None, line_color=None, fill_color=None, fill_opacity=0, dashing=None, output_size=None), diagram=Primitive(shape=Rectangle(width=0.95, height=0.95, radius=None), style=Style(line_width=None, line_color=None, fill_color=None, fill_opacity=None, dashing=None, output_size=None), transform=Affine(1.0, 0.0, 0.0,\n",
              "       0.0, 1.0, 0.0)))))))), diagram2=Compose(envelope=<chalk.envelope.Envelope object at 0x792811dddcd0>, diagram1=Empty(), diagram2=ApplyTransform(transform=Affine(1.0, 0.0, 2.734375,\n",
              "       0.0, 1.0, -3.25), diagram=ApplyStyle(style=Style(line_width=None, line_color=None, fill_color=<Color #ff7100>, fill_opacity=None, dashing=None, output_size=None), diagram=ApplyStyle(style=Style(line_width=(<WidthType.NORMALIZED: 2>, 0.04), line_color=None, fill_color=None, fill_opacity=None, dashing=None, output_size=None), diagram=Primitive(shape=Circle(radius=0.1), style=Style(line_width=None, line_color=None, fill_color=None, fill_opacity=None, dashing=None, output_size=None), transform=Affine(1.0, 0.0, 0.0,\n",
              "       0.0, 1.0, 0.0)))))))), diagram2=Compose(envelope=<chalk.envelope.Envelope object at 0x792811ddeb50>, diagram1=Compose(envelope=<chalk.envelope.Envelope object at 0x792811dde690>, diagram1=Compose(envelope=<chalk.envelope.Envelope object at 0x792811dde150>, diagram1=Empty(), diagram2=ApplyStyle(style=Style(line_width=None, line_color=<Color #ff7100>, fill_color=None, fill_opacity=None, dashing=None, output_size=None), diagram=ApplyStyle(style=Style(line_width=(<WidthType.NORMALIZED: 2>, 0.04), line_color=None, fill_color=None, fill_opacity=None, dashing=None, output_size=None), diagram=Primitive(shape=Path(points=Vec2Array([(0.0, 0.0), (4.080279603241057, 0.0)]), arrow=False), style=Style(line_width=None, line_color=None, fill_color=None, fill_opacity=None, dashing=None, output_size=None), transform=Affine(-0.6778028147392652, -0.7352437312425923, 5.5,\n",
              "       0.7352437312425923, -0.6778028147392652, -1.25))))), diagram2=Compose(envelope=<chalk.envelope.Envelope object at 0x792811dde5d0>, diagram1=Empty(), diagram2=ApplyTransform(transform=Affine(1.0, 0.0, 6.0,\n",
              "       0.0, 1.0, -1.25), diagram=ApplyStyle(style=Style(line_width=(<WidthType.NORMALIZED: 2>, 0.15), line_color=None, fill_color=None, fill_opacity=None, dashing=None, output_size=None), diagram=ApplyStyle(style=Style(line_width=None, line_color=<Color #ff7100>, fill_color=None, fill_opacity=None, dashing=None, output_size=None), diagram=ApplyStyle(style=Style(line_width=None, line_color=None, fill_color=None, fill_opacity=0, dashing=None, output_size=None), diagram=Primitive(shape=Rectangle(width=0.95, height=0.95, radius=None), style=Style(line_width=None, line_color=None, fill_color=None, fill_opacity=None, dashing=None, output_size=None), transform=Affine(1.0, 0.0, 0.0,\n",
              "       0.0, 1.0, 0.0)))))))), diagram2=Compose(envelope=<chalk.envelope.Envelope object at 0x792811ddea90>, diagram1=Empty(), diagram2=ApplyTransform(transform=Affine(1.0, 0.0, 2.734375,\n",
              "       0.0, 1.0, 1.75), diagram=ApplyStyle(style=Style(line_width=None, line_color=None, fill_color=<Color #ff7100>, fill_opacity=None, dashing=None, output_size=None), diagram=ApplyStyle(style=Style(line_width=(<WidthType.NORMALIZED: 2>, 0.04), line_color=None, fill_color=None, fill_opacity=None, dashing=None, output_size=None), diagram=Primitive(shape=Circle(radius=0.1), style=Style(line_width=None, line_color=None, fill_color=None, fill_opacity=None, dashing=None, output_size=None), transform=Affine(1.0, 0.0, 0.0,\n",
              "       0.0, 1.0, 0.0)))))))), diagram2=Compose(envelope=<chalk.envelope.Envelope object at 0x792811ddf950>, diagram1=Compose(envelope=<chalk.envelope.Envelope object at 0x792811ddf490>, diagram1=Compose(envelope=<chalk.envelope.Envelope object at 0x792811ddef10>, diagram1=Empty(), diagram2=ApplyStyle(style=Style(line_width=None, line_color=<Color #ff7100>, fill_color=None, fill_opacity=None, dashing=None, output_size=None), diagram=ApplyStyle(style=Style(line_width=(<WidthType.NORMALIZED: 2>, 0.04), line_color=None, fill_color=None, fill_opacity=None, dashing=None, output_size=None), diagram=Primitive(shape=Path(points=Vec2Array([(0.0, 0.0), (2.9408640976122986, 0.0)]), arrow=False), style=Style(line_width=None, line_color=None, fill_color=None, fill_opacity=None, dashing=None, output_size=None), transform=Affine(-0.9404123782004833, 0.340036114151587, 5.5,\n",
              "       -0.340036114151587, -0.9404123782004833, -1.25))))), diagram2=Compose(envelope=<chalk.envelope.Envelope object at 0x792811ddf390>, diagram1=Empty(), diagram2=ApplyTransform(transform=Affine(1.0, 0.0, 6.0,\n",
              "       0.0, 1.0, -1.25), diagram=ApplyStyle(style=Style(line_width=(<WidthType.NORMALIZED: 2>, 0.15), line_color=None, fill_color=None, fill_opacity=None, dashing=None, output_size=None), diagram=ApplyStyle(style=Style(line_width=None, line_color=<Color #ff7100>, fill_color=None, fill_opacity=None, dashing=None, output_size=None), diagram=ApplyStyle(style=Style(line_width=None, line_color=None, fill_color=None, fill_opacity=0, dashing=None, output_size=None), diagram=Primitive(shape=Rectangle(width=0.95, height=0.95, radius=None), style=Style(line_width=None, line_color=None, fill_color=None, fill_opacity=None, dashing=None, output_size=None), transform=Affine(1.0, 0.0, 0.0,\n",
              "       0.0, 1.0, 0.0)))))))), diagram2=Compose(envelope=<chalk.envelope.Envelope object at 0x792811ddf890>, diagram1=Empty(), diagram2=ApplyTransform(transform=Affine(1.0, 0.0, 2.734375,\n",
              "       0.0, 1.0, -2.25), diagram=ApplyStyle(style=Style(line_width=None, line_color=None, fill_color=<Color #ff7100>, fill_opacity=None, dashing=None, output_size=None), diagram=ApplyStyle(style=Style(line_width=(<WidthType.NORMALIZED: 2>, 0.04), line_color=None, fill_color=None, fill_opacity=None, dashing=None, output_size=None), diagram=Primitive(shape=Circle(radius=0.1), style=Style(line_width=None, line_color=None, fill_color=None, fill_opacity=None, dashing=None, output_size=None), transform=Affine(1.0, 0.0, 0.0,\n",
              "       0.0, 1.0, 0.0)))))))), diagram2=Compose(envelope=<chalk.envelope.Envelope object at 0x792811de87d0>, diagram1=Compose(envelope=<chalk.envelope.Envelope object at 0x792811de8310>, diagram1=Compose(envelope=<chalk.envelope.Envelope object at 0x792811ddfd50>, diagram1=Empty(), diagram2=ApplyStyle(style=Style(line_width=None, line_color=<Color #ff7100>, fill_color=None, fill_opacity=None, dashing=None, output_size=None), diagram=ApplyStyle(style=Style(line_width=(<WidthType.NORMALIZED: 2>, 0.04), line_color=None, fill_color=None, fill_opacity=None, dashing=None, output_size=None), diagram=Primitive(shape=Path(points=Vec2Array([(0.0, 0.0), (4.862991017946157, 0.0)]), arrow=False), style=Style(line_width=None, line_color=None, fill_color=None, fill_opacity=None, dashing=None, output_size=None), transform=Affine(-0.5687086383244112, -0.8225390475200518, 5.5,\n",
              "       0.8225390475200518, -0.5687086383244112, -1.25))))), diagram2=Compose(envelope=<chalk.envelope.Envelope object at 0x792811de8210>, diagram1=Empty(), diagram2=ApplyTransform(transform=Affine(1.0, 0.0, 6.0,\n",
              "       0.0, 1.0, -1.25), diagram=ApplyStyle(style=Style(line_width=(<WidthType.NORMALIZED: 2>, 0.15), line_color=None, fill_color=None, fill_opacity=None, dashing=None, output_size=None), diagram=ApplyStyle(style=Style(line_width=None, line_color=<Color #ff7100>, fill_color=None, fill_opacity=None, dashing=None, output_size=None), diagram=ApplyStyle(style=Style(line_width=None, line_color=None, fill_color=None, fill_opacity=0, dashing=None, output_size=None), diagram=Primitive(shape=Rectangle(width=0.95, height=0.95, radius=None), style=Style(line_width=None, line_color=None, fill_color=None, fill_opacity=None, dashing=None, output_size=None), transform=Affine(1.0, 0.0, 0.0,\n",
              "       0.0, 1.0, 0.0)))))))), diagram2=Compose(envelope=<chalk.envelope.Envelope object at 0x792811de8710>, diagram1=Empty(), diagram2=ApplyTransform(transform=Affine(1.0, 0.0, 2.734375,\n",
              "       0.0, 1.0, 2.75), diagram=ApplyStyle(style=Style(line_width=None, line_color=None, fill_color=<Color #ff7100>, fill_opacity=None, dashing=None, output_size=None), diagram=ApplyStyle(style=Style(line_width=(<WidthType.NORMALIZED: 2>, 0.04), line_color=None, fill_color=None, fill_opacity=None, dashing=None, output_size=None), diagram=Primitive(shape=Circle(radius=0.1), style=Style(line_width=None, line_color=None, fill_color=None, fill_opacity=None, dashing=None, output_size=None), transform=Affine(1.0, 0.0, 0.0,\n",
              "       0.0, 1.0, 0.0)))))))))), diagram2=Compose(envelope=<chalk.envelope.Envelope object at 0x792811c08110>, diagram1=Compose(envelope=<chalk.envelope.Envelope object at 0x792811de9490>, diagram1=Compose(envelope=<chalk.envelope.Envelope object at 0x792811de9310>, diagram1=Compose(envelope=<chalk.envelope.Envelope object at 0x792811de9290>, diagram1=Empty(), diagram2=Empty()), diagram2=Empty()), diagram2=Compose(envelope=<chalk.envelope.Envelope object at 0x792811de9450>, diagram1=Empty(), diagram2=Compose(envelope=<chalk.envelope.Envelope object at 0x792811dea2d0>, diagram1=Compose(envelope=<chalk.envelope.Envelope object at 0x792811de9e10>, diagram1=Compose(envelope=<chalk.envelope.Envelope object at 0x792811de9890>, diagram1=Empty(), diagram2=ApplyStyle(style=Style(line_width=None, line_color=<Color #ffe300>, fill_color=None, fill_opacity=None, dashing=None, output_size=None), diagram=ApplyStyle(style=Style(line_width=(<WidthType.NORMALIZED: 2>, 0.04), line_color=None, fill_color=None, fill_opacity=None, dashing=None, output_size=None), diagram=Primitive(shape=Path(points=Vec2Array([(0.0, 0.0), (2.6711000338109763, 0.0)]), arrow=False), style=Style(line_width=None, line_color=None, fill_color=None, fill_opacity=None, dashing=None, output_size=None), transform=Affine(-0.9956104100697989, -0.09359439812642023, 2.5,\n",
              "       0.09359439812642023, -0.9956104100697989, -3.25))))), diagram2=Compose(envelope=<chalk.envelope.Envelope object at 0x792811de9d10>, diagram1=Empty(), diagram2=ApplyTransform(transform=Affine(1.0, 0.0, 3.0,\n",
              "       0.0, 1.0, -3.25), diagram=ApplyStyle(style=Style(line_width=(<WidthType.NORMALIZED: 2>, 0.15), line_color=None, fill_color=None, fill_opacity=None, dashing=None, output_size=None), diagram=ApplyStyle(style=Style(line_width=None, line_color=<Color #ffe300>, fill_color=None, fill_opacity=None, dashing=None, output_size=None), diagram=ApplyStyle(style=Style(line_width=None, line_color=None, fill_color=None, fill_opacity=0, dashing=None, output_size=None), diagram=Primitive(shape=Rectangle(width=0.95, height=0.95, radius=None), style=Style(line_width=None, line_color=None, fill_color=None, fill_opacity=None, dashing=None, output_size=None), transform=Affine(1.0, 0.0, 0.0,\n",
              "       0.0, 1.0, 0.0)))))))), diagram2=Compose(envelope=<chalk.envelope.Envelope object at 0x792811dea210>, diagram1=Empty(), diagram2=ApplyTransform(transform=Affine(1.0, 0.0, -0.159375,\n",
              "       0.0, 1.0, -3.0), diagram=ApplyStyle(style=Style(line_width=None, line_color=None, fill_color=<Color #ffe300>, fill_opacity=None, dashing=None, output_size=None), diagram=ApplyStyle(style=Style(line_width=(<WidthType.NORMALIZED: 2>, 0.04), line_color=None, fill_color=None, fill_opacity=None, dashing=None, output_size=None), diagram=Primitive(shape=Circle(radius=0.1), style=Style(line_width=None, line_color=None, fill_color=None, fill_opacity=None, dashing=None, output_size=None), transform=Affine(1.0, 0.0, 0.0,\n",
              "       0.0, 1.0, 0.0))))))))), diagram2=Compose(envelope=<chalk.envelope.Envelope object at 0x792811c03fd0>, diagram1=Compose(envelope=<chalk.envelope.Envelope object at 0x792811c03e50>, diagram1=Compose(envelope=<chalk.envelope.Envelope object at 0x792811c03cd0>, diagram1=Compose(envelope=<chalk.envelope.Envelope object at 0x792811c03b50>, diagram1=Compose(envelope=<chalk.envelope.Envelope object at 0x792811c039d0>, diagram1=Compose(envelope=<chalk.envelope.Envelope object at 0x792811dea3d0>, diagram1=Empty(), diagram2=Compose(envelope=<chalk.envelope.Envelope object at 0x792811deb290>, diagram1=Compose(envelope=<chalk.envelope.Envelope object at 0x792811deadd0>, diagram1=Compose(envelope=<chalk.envelope.Envelope object at 0x792811dea850>, diagram1=Empty(), diagram2=ApplyStyle(style=Style(line_width=None, line_color=<Color #ffe300>, fill_color=None, fill_opacity=None, dashing=None, output_size=None), diagram=ApplyStyle(style=Style(line_width=(<WidthType.NORMALIZED: 2>, 0.04), line_color=None, fill_color=None, fill_opacity=None, dashing=None, output_size=None), diagram=Primitive(shape=Path(points=Vec2Array([(0.0, 0.0), (4.00902424420519, 0.0)]), arrow=False), style=Style(line_width=None, line_color=None, fill_color=None, fill_opacity=None, dashing=None, output_size=None), transform=Affine(-0.6633471982226026, 0.7483117629773189, 5.5,\n",
              "       -0.7483117629773189, -0.6633471982226026, -0.25))))), diagram2=Compose(envelope=<chalk.envelope.Envelope object at 0x792811deacd0>, diagram1=Empty(), diagram2=ApplyTransform(transform=Affine(1.0, 0.0, 6.0,\n",
              "       0.0, 1.0, -0.25), diagram=ApplyStyle(style=Style(line_width=(<WidthType.NORMALIZED: 2>, 0.15), line_color=None, fill_color=None, fill_opacity=None, dashing=None, output_size=None), diagram=ApplyStyle(style=Style(line_width=None, line_color=<Color #ffe300>, fill_color=None, fill_opacity=None, dashing=None, output_size=None), diagram=ApplyStyle(style=Style(line_width=None, line_color=None, fill_color=None, fill_opacity=0, dashing=None, output_size=None), diagram=Primitive(shape=Rectangle(width=0.95, height=0.95, radius=None), style=Style(line_width=None, line_color=None, fill_color=None, fill_opacity=None, dashing=None, output_size=None), transform=Affine(1.0, 0.0, 0.0,\n",
              "       0.0, 1.0, 0.0)))))))), diagram2=Compose(envelope=<chalk.envelope.Envelope object at 0x792811deb1d0>, diagram1=Empty(), diagram2=ApplyTransform(transform=Affine(1.0, 0.0, 2.840625,\n",
              "       0.0, 1.0, -3.25), diagram=ApplyStyle(style=Style(line_width=None, line_color=None, fill_color=<Color #ffe300>, fill_opacity=None, dashing=None, output_size=None), diagram=ApplyStyle(style=Style(line_width=(<WidthType.NORMALIZED: 2>, 0.04), line_color=None, fill_color=None, fill_opacity=None, dashing=None, output_size=None), diagram=Primitive(shape=Circle(radius=0.1), style=Style(line_width=None, line_color=None, fill_color=None, fill_opacity=None, dashing=None, output_size=None), transform=Affine(1.0, 0.0, 0.0,\n",
              "       0.0, 1.0, 0.0)))))))), diagram2=Compose(envelope=<chalk.envelope.Envelope object at 0x792811c00090>, diagram1=Compose(envelope=<chalk.envelope.Envelope object at 0x792811debbd0>, diagram1=Compose(envelope=<chalk.envelope.Envelope object at 0x792811deb650>, diagram1=Empty(), diagram2=ApplyStyle(style=Style(line_width=None, line_color=<Color #ffe300>, fill_color=None, fill_opacity=None, dashing=None, output_size=None), diagram=ApplyStyle(style=Style(line_width=(<WidthType.NORMALIZED: 2>, 0.04), line_color=None, fill_color=None, fill_opacity=None, dashing=None, output_size=None), diagram=Primitive(shape=Path(points=Vec2Array([(0.0, 0.0), (2.841175001759835, 0.0)]), arrow=False), style=Style(line_width=None, line_color=None, fill_color=None, fill_opacity=None, dashing=None, output_size=None), transform=Affine(-0.9360123886605972, -0.3519670556655597, 5.5,\n",
              "       0.3519670556655597, -0.9360123886605972, -0.25))))), diagram2=Compose(envelope=<chalk.envelope.Envelope object at 0x792811debad0>, diagram1=Empty(), diagram2=ApplyTransform(transform=Affine(1.0, 0.0, 6.0,\n",
              "       0.0, 1.0, -0.25), diagram=ApplyStyle(style=Style(line_width=(<WidthType.NORMALIZED: 2>, 0.15), line_color=None, fill_color=None, fill_opacity=None, dashing=None, output_size=None), diagram=ApplyStyle(style=Style(line_width=None, line_color=<Color #ffe300>, fill_color=None, fill_opacity=None, dashing=None, output_size=None), diagram=ApplyStyle(style=Style(line_width=None, line_color=None, fill_color=None, fill_opacity=0, dashing=None, output_size=None), diagram=Primitive(shape=Rectangle(width=0.95, height=0.95, radius=None), style=Style(line_width=None, line_color=None, fill_color=None, fill_opacity=None, dashing=None, output_size=None), transform=Affine(1.0, 0.0, 0.0,\n",
              "       0.0, 1.0, 0.0)))))))), diagram2=Compose(envelope=<chalk.envelope.Envelope object at 0x792811debfd0>, diagram1=Empty(), diagram2=ApplyTransform(transform=Affine(1.0, 0.0, 2.840625,\n",
              "       0.0, 1.0, 0.75), diagram=ApplyStyle(style=Style(line_width=None, line_color=None, fill_color=<Color #ffe300>, fill_opacity=None, dashing=None, output_size=None), diagram=ApplyStyle(style=Style(line_width=(<WidthType.NORMALIZED: 2>, 0.04), line_color=None, fill_color=None, fill_opacity=None, dashing=None, output_size=None), diagram=Primitive(shape=Circle(radius=0.1), style=Style(line_width=None, line_color=None, fill_color=None, fill_opacity=None, dashing=None, output_size=None), transform=Affine(1.0, 0.0, 0.0,\n",
              "       0.0, 1.0, 0.0)))))))), diagram2=Compose(envelope=<chalk.envelope.Envelope object at 0x792811c00e50>, diagram1=Compose(envelope=<chalk.envelope.Envelope object at 0x792811c00990>, diagram1=Compose(envelope=<chalk.envelope.Envelope object at 0x792811c00450>, diagram1=Empty(), diagram2=ApplyStyle(style=Style(line_width=None, line_color=<Color #ffe300>, fill_color=None, fill_opacity=None, dashing=None, output_size=None), diagram=ApplyStyle(style=Style(line_width=(<WidthType.NORMALIZED: 2>, 0.04), line_color=None, fill_color=None, fill_opacity=None, dashing=None, output_size=None), diagram=Primitive(shape=Path(points=Vec2Array([(0.0, 0.0), (3.327502876125729, 0.0)]), arrow=False), style=Style(line_width=None, line_color=None, fill_color=None, fill_opacity=None, dashing=None, output_size=None), transform=Affine(-0.799210428661254, 0.6010513212023534, 5.5,\n",
              "       -0.6010513212023534, -0.799210428661254, -0.25))))), diagram2=Compose(envelope=<chalk.envelope.Envelope object at 0x792811c008d0>, diagram1=Empty(), diagram2=ApplyTransform(transform=Affine(1.0, 0.0, 6.0,\n",
              "       0.0, 1.0, -0.25), diagram=ApplyStyle(style=Style(line_width=(<WidthType.NORMALIZED: 2>, 0.15), line_color=None, fill_color=None, fill_opacity=None, dashing=None, output_size=None), diagram=ApplyStyle(style=Style(line_width=None, line_color=<Color #ffe300>, fill_color=None, fill_opacity=None, dashing=None, output_size=None), diagram=ApplyStyle(style=Style(line_width=None, line_color=None, fill_color=None, fill_opacity=0, dashing=None, output_size=None), diagram=Primitive(shape=Rectangle(width=0.95, height=0.95, radius=None), style=Style(line_width=None, line_color=None, fill_color=None, fill_opacity=None, dashing=None, output_size=None), transform=Affine(1.0, 0.0, 0.0,\n",
              "       0.0, 1.0, 0.0)))))))), diagram2=Compose(envelope=<chalk.envelope.Envelope object at 0x792811c00d90>, diagram1=Empty(), diagram2=ApplyTransform(transform=Affine(1.0, 0.0, 2.840625,\n",
              "       0.0, 1.0, -2.25), diagram=ApplyStyle(style=Style(line_width=None, line_color=None, fill_color=<Color #ffe300>, fill_opacity=None, dashing=None, output_size=None), diagram=ApplyStyle(style=Style(line_width=(<WidthType.NORMALIZED: 2>, 0.04), line_color=None, fill_color=None, fill_opacity=None, dashing=None, output_size=None), diagram=Primitive(shape=Circle(radius=0.1), style=Style(line_width=None, line_color=None, fill_color=None, fill_opacity=None, dashing=None, output_size=None), transform=Affine(1.0, 0.0, 0.0,\n",
              "       0.0, 1.0, 0.0)))))))), diagram2=Compose(envelope=<chalk.envelope.Envelope object at 0x792811c01c90>, diagram1=Compose(envelope=<chalk.envelope.Envelope object at 0x792811c01790>, diagram1=Compose(envelope=<chalk.envelope.Envelope object at 0x792811c01210>, diagram1=Empty(), diagram2=ApplyStyle(style=Style(line_width=None, line_color=<Color #ffe300>, fill_color=None, fill_opacity=None, dashing=None, output_size=None), diagram=ApplyStyle(style=Style(line_width=(<WidthType.NORMALIZED: 2>, 0.04), line_color=None, fill_color=None, fill_opacity=None, dashing=None, output_size=None), diagram=Primitive(shape=Path(points=Vec2Array([(0.0, 0.0), (3.327502876125729, 0.0)]), arrow=False), style=Style(line_width=None, line_color=None, fill_color=None, fill_opacity=None, dashing=None, output_size=None), transform=Affine(-0.7992104286612541, -0.6010513212023533, 5.5,\n",
              "       0.6010513212023533, -0.7992104286612541, -0.25))))), diagram2=Compose(envelope=<chalk.envelope.Envelope object at 0x792811c01690>, diagram1=Empty(), diagram2=ApplyTransform(transform=Affine(1.0, 0.0, 6.0,\n",
              "       0.0, 1.0, -0.25), diagram=ApplyStyle(style=Style(line_width=(<WidthType.NORMALIZED: 2>, 0.15), line_color=None, fill_color=None, fill_opacity=None, dashing=None, output_size=None), diagram=ApplyStyle(style=Style(line_width=None, line_color=<Color #ffe300>, fill_color=None, fill_opacity=None, dashing=None, output_size=None), diagram=ApplyStyle(style=Style(line_width=None, line_color=None, fill_color=None, fill_opacity=0, dashing=None, output_size=None), diagram=Primitive(shape=Rectangle(width=0.95, height=0.95, radius=None), style=Style(line_width=None, line_color=None, fill_color=None, fill_opacity=None, dashing=None, output_size=None), transform=Affine(1.0, 0.0, 0.0,\n",
              "       0.0, 1.0, 0.0)))))))), diagram2=Compose(envelope=<chalk.envelope.Envelope object at 0x792811c01bd0>, diagram1=Empty(), diagram2=ApplyTransform(transform=Affine(1.0, 0.0, 2.840625,\n",
              "       0.0, 1.0, 1.75), diagram=ApplyStyle(style=Style(line_width=None, line_color=None, fill_color=<Color #ffe300>, fill_opacity=None, dashing=None, output_size=None), diagram=ApplyStyle(style=Style(line_width=(<WidthType.NORMALIZED: 2>, 0.04), line_color=None, fill_color=None, fill_opacity=None, dashing=None, output_size=None), diagram=Primitive(shape=Circle(radius=0.1), style=Style(line_width=None, line_color=None, fill_color=None, fill_opacity=None, dashing=None, output_size=None), transform=Affine(1.0, 0.0, 0.0,\n",
              "       0.0, 1.0, 0.0)))))))), diagram2=Compose(envelope=<chalk.envelope.Envelope object at 0x792811c02a90>, diagram1=Compose(envelope=<chalk.envelope.Envelope object at 0x792811c025d0>, diagram1=Compose(envelope=<chalk.envelope.Envelope object at 0x792811c02050>, diagram1=Empty(), diagram2=ApplyStyle(style=Style(line_width=None, line_color=<Color #ffe300>, fill_color=None, fill_opacity=None, dashing=None, output_size=None), diagram=ApplyStyle(style=Style(line_width=(<WidthType.NORMALIZED: 2>, 0.04), line_color=None, fill_color=None, fill_opacity=None, dashing=None, output_size=None), diagram=Primitive(shape=Path(points=Vec2Array([(0.0, 0.0), (2.841175001759835, 0.0)]), arrow=False), style=Style(line_width=None, line_color=None, fill_color=None, fill_opacity=None, dashing=None, output_size=None), transform=Affine(-0.9360123886605972, 0.35196705566555947, 5.5,\n",
              "       -0.35196705566555947, -0.9360123886605972, -0.25))))), diagram2=Compose(envelope=<chalk.envelope.Envelope object at 0x792811c024d0>, diagram1=Empty(), diagram2=ApplyTransform(transform=Affine(1.0, 0.0, 6.0,\n",
              "       0.0, 1.0, -0.25), diagram=ApplyStyle(style=Style(line_width=(<WidthType.NORMALIZED: 2>, 0.15), line_color=None, fill_color=None, fill_opacity=None, dashing=None, output_size=None), diagram=ApplyStyle(style=Style(line_width=None, line_color=<Color #ffe300>, fill_color=None, fill_opacity=None, dashing=None, output_size=None), diagram=ApplyStyle(style=Style(line_width=None, line_color=None, fill_color=None, fill_opacity=0, dashing=None, output_size=None), diagram=Primitive(shape=Rectangle(width=0.95, height=0.95, radius=None), style=Style(line_width=None, line_color=None, fill_color=None, fill_opacity=None, dashing=None, output_size=None), transform=Affine(1.0, 0.0, 0.0,\n",
              "       0.0, 1.0, 0.0)))))))), diagram2=Compose(envelope=<chalk.envelope.Envelope object at 0x792811c029d0>, diagram1=Empty(), diagram2=ApplyTransform(transform=Affine(1.0, 0.0, 2.840625,\n",
              "       0.0, 1.0, -1.25), diagram=ApplyStyle(style=Style(line_width=None, line_color=None, fill_color=<Color #ffe300>, fill_opacity=None, dashing=None, output_size=None), diagram=ApplyStyle(style=Style(line_width=(<WidthType.NORMALIZED: 2>, 0.04), line_color=None, fill_color=None, fill_opacity=None, dashing=None, output_size=None), diagram=Primitive(shape=Circle(radius=0.1), style=Style(line_width=None, line_color=None, fill_color=None, fill_opacity=None, dashing=None, output_size=None), transform=Affine(1.0, 0.0, 0.0,\n",
              "       0.0, 1.0, 0.0)))))))), diagram2=Compose(envelope=<chalk.envelope.Envelope object at 0x792811c03910>, diagram1=Compose(envelope=<chalk.envelope.Envelope object at 0x792811c03450>, diagram1=Compose(envelope=<chalk.envelope.Envelope object at 0x792811c02ed0>, diagram1=Empty(), diagram2=ApplyStyle(style=Style(line_width=None, line_color=<Color #ffe300>, fill_color=None, fill_opacity=None, dashing=None, output_size=None), diagram=ApplyStyle(style=Style(line_width=(<WidthType.NORMALIZED: 2>, 0.04), line_color=None, fill_color=None, fill_opacity=None, dashing=None, output_size=None), diagram=Primitive(shape=Path(points=Vec2Array([(0.0, 0.0), (4.00902424420519, 0.0)]), arrow=False), style=Style(line_width=None, line_color=None, fill_color=None, fill_opacity=None, dashing=None, output_size=None), transform=Affine(-0.6633471982226028, -0.7483117629773188, 5.5,\n",
              "       0.7483117629773188, -0.6633471982226028, -0.25))))), diagram2=Compose(envelope=<chalk.envelope.Envelope object at 0x792811c03350>, diagram1=Empty(), diagram2=ApplyTransform(transform=Affine(1.0, 0.0, 6.0,\n",
              "       0.0, 1.0, -0.25), diagram=ApplyStyle(style=Style(line_width=(<WidthType.NORMALIZED: 2>, 0.15), line_color=None, fill_color=None, fill_opacity=None, dashing=None, output_size=None), diagram=ApplyStyle(style=Style(line_width=None, line_color=<Color #ffe300>, fill_color=None, fill_opacity=None, dashing=None, output_size=None), diagram=ApplyStyle(style=Style(line_width=None, line_color=None, fill_color=None, fill_opacity=0, dashing=None, output_size=None), diagram=Primitive(shape=Rectangle(width=0.95, height=0.95, radius=None), style=Style(line_width=None, line_color=None, fill_color=None, fill_opacity=None, dashing=None, output_size=None), transform=Affine(1.0, 0.0, 0.0,\n",
              "       0.0, 1.0, 0.0)))))))), diagram2=Compose(envelope=<chalk.envelope.Envelope object at 0x792811c03850>, diagram1=Empty(), diagram2=ApplyTransform(transform=Affine(1.0, 0.0, 2.840625,\n",
              "       0.0, 1.0, 2.75), diagram=ApplyStyle(style=Style(line_width=None, line_color=None, fill_color=<Color #ffe300>, fill_opacity=None, dashing=None, output_size=None), diagram=ApplyStyle(style=Style(line_width=(<WidthType.NORMALIZED: 2>, 0.04), line_color=None, fill_color=None, fill_opacity=None, dashing=None, output_size=None), diagram=Primitive(shape=Circle(radius=0.1), style=Style(line_width=None, line_color=None, fill_color=None, fill_opacity=None, dashing=None, output_size=None), transform=Affine(1.0, 0.0, 0.0,\n",
              "       0.0, 1.0, 0.0)))))))))), diagram2=Compose(envelope=<chalk.envelope.Envelope object at 0x792811c1b290>, diagram1=Compose(envelope=<chalk.envelope.Envelope object at 0x792811c08610>, diagram1=Compose(envelope=<chalk.envelope.Envelope object at 0x792811c08490>, diagram1=Compose(envelope=<chalk.envelope.Envelope object at 0x792811c08410>, diagram1=Empty(), diagram2=Empty()), diagram2=Empty()), diagram2=Compose(envelope=<chalk.envelope.Envelope object at 0x792811c085d0>, diagram1=Empty(), diagram2=Compose(envelope=<chalk.envelope.Envelope object at 0x792811c09450>, diagram1=Compose(envelope=<chalk.envelope.Envelope object at 0x792811c08f90>, diagram1=Compose(envelope=<chalk.envelope.Envelope object at 0x792811c08a10>, diagram1=Empty(), diagram2=ApplyStyle(style=Style(line_width=None, line_color=<Color #af0>, fill_color=None, fill_opacity=None, dashing=None, output_size=None), diagram=ApplyStyle(style=Style(line_width=(<WidthType.NORMALIZED: 2>, 0.04), line_color=None, fill_color=None, fill_opacity=None, dashing=None, output_size=None), diagram=Primitive(shape=Path(points=Vec2Array([(0.0, 0.0), (2.5653357023253314, 0.0)]), arrow=False), style=Style(line_width=None, line_color=None, fill_color=None, fill_opacity=None, dashing=None, output_size=None), transform=Affine(-0.995240115235498, -0.09745313245880026, 2.5,\n",
              "       0.09745313245880026, -0.995240115235498, -2.25))))), diagram2=Compose(envelope=<chalk.envelope.Envelope object at 0x792811c08e90>, diagram1=Empty(), diagram2=ApplyTransform(transform=Affine(1.0, 0.0, 3.0,\n",
              "       0.0, 1.0, -2.25), diagram=ApplyStyle(style=Style(line_width=(<WidthType.NORMALIZED: 2>, 0.15), line_color=None, fill_color=None, fill_opacity=None, dashing=None, output_size=None), diagram=ApplyStyle(style=Style(line_width=None, line_color=<Color #af0>, fill_color=None, fill_opacity=None, dashing=None, output_size=None), diagram=ApplyStyle(style=Style(line_width=None, line_color=None, fill_color=None, fill_opacity=0, dashing=None, output_size=None), diagram=Primitive(shape=Rectangle(width=0.95, height=0.95, radius=None), style=Style(line_width=None, line_color=None, fill_color=None, fill_opacity=None, dashing=None, output_size=None), transform=Affine(1.0, 0.0, 0.0,\n",
              "       0.0, 1.0, 0.0)))))))), diagram2=Compose(envelope=<chalk.envelope.Envelope object at 0x792811c09390>, diagram1=Empty(), diagram2=ApplyTransform(transform=Affine(1.0, 0.0, -0.053125,\n",
              "       0.0, 1.0, -2.0), diagram=ApplyStyle(style=Style(line_width=None, line_color=None, fill_color=<Color #af0>, fill_opacity=None, dashing=None, output_size=None), diagram=ApplyStyle(style=Style(line_width=(<WidthType.NORMALIZED: 2>, 0.04), line_color=None, fill_color=None, fill_opacity=None, dashing=None, output_size=None), diagram=Primitive(shape=Circle(radius=0.1), style=Style(line_width=None, line_color=None, fill_color=None, fill_opacity=None, dashing=None, output_size=None), transform=Affine(1.0, 0.0, 0.0,\n",
              "       0.0, 1.0, 0.0))))))))), diagram2=Compose(envelope=<chalk.envelope.Envelope object at 0x792811c1b190>, diagram1=Compose(envelope=<chalk.envelope.Envelope object at 0x792811c1b010>, diagram1=Compose(envelope=<chalk.envelope.Envelope object at 0x792811c1ae90>, diagram1=Compose(envelope=<chalk.envelope.Envelope object at 0x792811c1ad10>, diagram1=Compose(envelope=<chalk.envelope.Envelope object at 0x792811c1ab90>, diagram1=Compose(envelope=<chalk.envelope.Envelope object at 0x792811c09550>, diagram1=Empty(), diagram2=Compose(envelope=<chalk.envelope.Envelope object at 0x792811c0a450>, diagram1=Compose(envelope=<chalk.envelope.Envelope object at 0x792811c09f90>, diagram1=Compose(envelope=<chalk.envelope.Envelope object at 0x792811c09a10>, diagram1=Empty(), diagram2=ApplyStyle(style=Style(line_width=None, line_color=<Color #af0>, fill_color=None, fill_opacity=None, dashing=None, output_size=None), diagram=ApplyStyle(style=Style(line_width=(<WidthType.NORMALIZED: 2>, 0.04), line_color=None, fill_color=None, fill_opacity=None, dashing=None, output_size=None), diagram=Primitive(shape=Path(points=Vec2Array([(0.0, 0.0), (3.939346045427464, 0.0)]), arrow=False), style=Style(line_width=None, line_color=None, fill_color=None, fill_opacity=None, dashing=None, output_size=None), transform=Affine(-0.6481088410507884, 0.7615477202065567, 5.5,\n",
              "       -0.7615477202065567, -0.6481088410507884, 0.75))))), diagram2=Compose(envelope=<chalk.envelope.Envelope object at 0x792811c09e90>, diagram1=Empty(), diagram2=ApplyTransform(transform=Affine(1.0, 0.0, 6.0,\n",
              "       0.0, 1.0, 0.75), diagram=ApplyStyle(style=Style(line_width=(<WidthType.NORMALIZED: 2>, 0.15), line_color=None, fill_color=None, fill_opacity=None, dashing=None, output_size=None), diagram=ApplyStyle(style=Style(line_width=None, line_color=<Color #af0>, fill_color=None, fill_opacity=None, dashing=None, output_size=None), diagram=ApplyStyle(style=Style(line_width=None, line_color=None, fill_color=None, fill_opacity=0, dashing=None, output_size=None), diagram=Primitive(shape=Rectangle(width=0.95, height=0.95, radius=None), style=Style(line_width=None, line_color=None, fill_color=None, fill_opacity=None, dashing=None, output_size=None), transform=Affine(1.0, 0.0, 0.0,\n",
              "       0.0, 1.0, 0.0)))))))), diagram2=Compose(envelope=<chalk.envelope.Envelope object at 0x792811c0a390>, diagram1=Empty(), diagram2=ApplyTransform(transform=Affine(1.0, 0.0, 2.946875,\n",
              "       0.0, 1.0, -2.25), diagram=ApplyStyle(style=Style(line_width=None, line_color=None, fill_color=<Color #af0>, fill_opacity=None, dashing=None, output_size=None), diagram=ApplyStyle(style=Style(line_width=(<WidthType.NORMALIZED: 2>, 0.04), line_color=None, fill_color=None, fill_opacity=None, dashing=None, output_size=None), diagram=Primitive(shape=Circle(radius=0.1), style=Style(line_width=None, line_color=None, fill_color=None, fill_opacity=None, dashing=None, output_size=None), transform=Affine(1.0, 0.0, 0.0,\n",
              "       0.0, 1.0, 0.0)))))))), diagram2=Compose(envelope=<chalk.envelope.Envelope object at 0x792811c0b250>, diagram1=Compose(envelope=<chalk.envelope.Envelope object at 0x792811c0ad90>, diagram1=Compose(envelope=<chalk.envelope.Envelope object at 0x792811c0a810>, diagram1=Empty(), diagram2=ApplyStyle(style=Style(line_width=None, line_color=<Color #af0>, fill_color=None, fill_opacity=None, dashing=None, output_size=None), diagram=ApplyStyle(style=Style(line_width=(<WidthType.NORMALIZED: 2>, 0.04), line_color=None, fill_color=None, fill_opacity=None, dashing=None, output_size=None), diagram=Primitive(shape=Path(points=Vec2Array([(0.0, 0.0), (2.553125, 0.0)]), arrow=False), style=Style(line_width=None, line_color=None, fill_color=None, fill_opacity=None, dashing=None, output_size=None), transform=Affine(-1.0, 0.0, 5.5,\n",
              "       0.0, -1.0, 0.75))))), diagram2=Compose(envelope=<chalk.envelope.Envelope object at 0x792811c0ac90>, diagram1=Empty(), diagram2=ApplyTransform(transform=Affine(1.0, 0.0, 6.0,\n",
              "       0.0, 1.0, 0.75), diagram=ApplyStyle(style=Style(line_width=(<WidthType.NORMALIZED: 2>, 0.15), line_color=None, fill_color=None, fill_opacity=None, dashing=None, output_size=None), diagram=ApplyStyle(style=Style(line_width=None, line_color=<Color #af0>, fill_color=None, fill_opacity=None, dashing=None, output_size=None), diagram=ApplyStyle(style=Style(line_width=None, line_color=None, fill_color=None, fill_opacity=0, dashing=None, output_size=None), diagram=Primitive(shape=Rectangle(width=0.95, height=0.95, radius=None), style=Style(line_width=None, line_color=None, fill_color=None, fill_opacity=None, dashing=None, output_size=None), transform=Affine(1.0, 0.0, 0.0,\n",
              "       0.0, 1.0, 0.0)))))))), diagram2=Compose(envelope=<chalk.envelope.Envelope object at 0x792811c0b190>, diagram1=Empty(), diagram2=ApplyTransform(transform=Affine(1.0, 0.0, 2.946875,\n",
              "       0.0, 1.0, 0.75), diagram=ApplyStyle(style=Style(line_width=None, line_color=None, fill_color=<Color #af0>, fill_opacity=None, dashing=None, output_size=None), diagram=ApplyStyle(style=Style(line_width=(<WidthType.NORMALIZED: 2>, 0.04), line_color=None, fill_color=None, fill_opacity=None, dashing=None, output_size=None), diagram=Primitive(shape=Circle(radius=0.1), style=Style(line_width=None, line_color=None, fill_color=None, fill_opacity=None, dashing=None, output_size=None), transform=Affine(1.0, 0.0, 0.0,\n",
              "       0.0, 1.0, 0.0)))))))), diagram2=Compose(envelope=<chalk.envelope.Envelope object at 0x792811c18090>, diagram1=Compose(envelope=<chalk.envelope.Envelope object at 0x792811c0bb90>, diagram1=Compose(envelope=<chalk.envelope.Envelope object at 0x792811c0b610>, diagram1=Empty(), diagram2=ApplyStyle(style=Style(line_width=None, line_color=<Color #af0>, fill_color=None, fill_opacity=None, dashing=None, output_size=None), diagram=ApplyStyle(style=Style(line_width=(<WidthType.NORMALIZED: 2>, 0.04), line_color=None, fill_color=None, fill_opacity=None, dashing=None, output_size=None), diagram=Primitive(shape=Path(points=Vec2Array([(0.0, 0.0), (3.2432155749541227, 0.0)]), arrow=False), style=Style(line_width=None, line_color=None, fill_color=None, fill_opacity=None, dashing=None, output_size=None), transform=Affine(-0.7872202574866198, 0.6166719275292982, 5.5,\n",
              "       -0.6166719275292982, -0.7872202574866198, 0.75))))), diagram2=Compose(envelope=<chalk.envelope.Envelope object at 0x792811c0ba90>, diagram1=Empty(), diagram2=ApplyTransform(transform=Affine(1.0, 0.0, 6.0,\n",
              "       0.0, 1.0, 0.75), diagram=ApplyStyle(style=Style(line_width=(<WidthType.NORMALIZED: 2>, 0.15), line_color=None, fill_color=None, fill_opacity=None, dashing=None, output_size=None), diagram=ApplyStyle(style=Style(line_width=None, line_color=<Color #af0>, fill_color=None, fill_opacity=None, dashing=None, output_size=None), diagram=ApplyStyle(style=Style(line_width=None, line_color=None, fill_color=None, fill_opacity=0, dashing=None, output_size=None), diagram=Primitive(shape=Rectangle(width=0.95, height=0.95, radius=None), style=Style(line_width=None, line_color=None, fill_color=None, fill_opacity=None, dashing=None, output_size=None), transform=Affine(1.0, 0.0, 0.0,\n",
              "       0.0, 1.0, 0.0)))))))), diagram2=Compose(envelope=<chalk.envelope.Envelope object at 0x792811c0bf90>, diagram1=Empty(), diagram2=ApplyTransform(transform=Affine(1.0, 0.0, 2.946875,\n",
              "       0.0, 1.0, -1.25), diagram=ApplyStyle(style=Style(line_width=None, line_color=None, fill_color=<Color #af0>, fill_opacity=None, dashing=None, output_size=None), diagram=ApplyStyle(style=Style(line_width=(<WidthType.NORMALIZED: 2>, 0.04), line_color=None, fill_color=None, fill_opacity=None, dashing=None, output_size=None), diagram=Primitive(shape=Circle(radius=0.1), style=Style(line_width=None, line_color=None, fill_color=None, fill_opacity=None, dashing=None, output_size=None), transform=Affine(1.0, 0.0, 0.0,\n",
              "       0.0, 1.0, 0.0)))))))), diagram2=Compose(envelope=<chalk.envelope.Envelope object at 0x792811c18e90>, diagram1=Compose(envelope=<chalk.envelope.Envelope object at 0x792811c189d0>, diagram1=Compose(envelope=<chalk.envelope.Envelope object at 0x792811c18450>, diagram1=Empty(), diagram2=ApplyStyle(style=Style(line_width=None, line_color=<Color #af0>, fill_color=None, fill_opacity=None, dashing=None, output_size=None), diagram=ApplyStyle(style=Style(line_width=(<WidthType.NORMALIZED: 2>, 0.04), line_color=None, fill_color=None, fill_opacity=None, dashing=None, output_size=None), diagram=Primitive(shape=Path(points=Vec2Array([(0.0, 0.0), (2.7419787135616134, 0.0)]), arrow=False), style=Style(line_width=None, line_color=None, fill_color=None, fill_opacity=None, dashing=None, output_size=None), transform=Affine(-0.9311250256511631, -0.3647001324459876, 5.5,\n",
              "       0.3647001324459876, -0.9311250256511631, 0.75))))), diagram2=Compose(envelope=<chalk.envelope.Envelope object at 0x792811c188d0>, diagram1=Empty(), diagram2=ApplyTransform(transform=Affine(1.0, 0.0, 6.0,\n",
              "       0.0, 1.0, 0.75), diagram=ApplyStyle(style=Style(line_width=(<WidthType.NORMALIZED: 2>, 0.15), line_color=None, fill_color=None, fill_opacity=None, dashing=None, output_size=None), diagram=ApplyStyle(style=Style(line_width=None, line_color=<Color #af0>, fill_color=None, fill_opacity=None, dashing=None, output_size=None), diagram=ApplyStyle(style=Style(line_width=None, line_color=None, fill_color=None, fill_opacity=0, dashing=None, output_size=None), diagram=Primitive(shape=Rectangle(width=0.95, height=0.95, radius=None), style=Style(line_width=None, line_color=None, fill_color=None, fill_opacity=None, dashing=None, output_size=None), transform=Affine(1.0, 0.0, 0.0,\n",
              "       0.0, 1.0, 0.0)))))))), diagram2=Compose(envelope=<chalk.envelope.Envelope object at 0x792811c18dd0>, diagram1=Empty(), diagram2=ApplyTransform(transform=Affine(1.0, 0.0, 2.946875,\n",
              "       0.0, 1.0, 1.75), diagram=ApplyStyle(style=Style(line_width=None, line_color=None, fill_color=<Color #af0>, fill_opacity=None, dashing=None, output_size=None), diagram=ApplyStyle(style=Style(line_width=(<WidthType.NORMALIZED: 2>, 0.04), line_color=None, fill_color=None, fill_opacity=None, dashing=None, output_size=None), diagram=Primitive(shape=Circle(radius=0.1), style=Style(line_width=None, line_color=None, fill_color=None, fill_opacity=None, dashing=None, output_size=None), transform=Affine(1.0, 0.0, 0.0,\n",
              "       0.0, 1.0, 0.0)))))))), diagram2=Compose(envelope=<chalk.envelope.Envelope object at 0x792811c19c90>, diagram1=Compose(envelope=<chalk.envelope.Envelope object at 0x792811c197d0>, diagram1=Compose(envelope=<chalk.envelope.Envelope object at 0x792811c19250>, diagram1=Empty(), diagram2=ApplyStyle(style=Style(line_width=None, line_color=<Color #af0>, fill_color=None, fill_opacity=None, dashing=None, output_size=None), diagram=ApplyStyle(style=Style(line_width=(<WidthType.NORMALIZED: 2>, 0.04), line_color=None, fill_color=None, fill_opacity=None, dashing=None, output_size=None), diagram=Primitive(shape=Path(points=Vec2Array([(0.0, 0.0), (2.7419787135616134, 0.0)]), arrow=False), style=Style(line_width=None, line_color=None, fill_color=None, fill_opacity=None, dashing=None, output_size=None), transform=Affine(-0.9311250256511632, 0.36470013244598737, 5.5,\n",
              "       -0.36470013244598737, -0.9311250256511632, 0.75))))), diagram2=Compose(envelope=<chalk.envelope.Envelope object at 0x792811c196d0>, diagram1=Empty(), diagram2=ApplyTransform(transform=Affine(1.0, 0.0, 6.0,\n",
              "       0.0, 1.0, 0.75), diagram=ApplyStyle(style=Style(line_width=(<WidthType.NORMALIZED: 2>, 0.15), line_color=None, fill_color=None, fill_opacity=None, dashing=None, output_size=None), diagram=ApplyStyle(style=Style(line_width=None, line_color=<Color #af0>, fill_color=None, fill_opacity=None, dashing=None, output_size=None), diagram=ApplyStyle(style=Style(line_width=None, line_color=None, fill_color=None, fill_opacity=0, dashing=None, output_size=None), diagram=Primitive(shape=Rectangle(width=0.95, height=0.95, radius=None), style=Style(line_width=None, line_color=None, fill_color=None, fill_opacity=None, dashing=None, output_size=None), transform=Affine(1.0, 0.0, 0.0,\n",
              "       0.0, 1.0, 0.0)))))))), diagram2=Compose(envelope=<chalk.envelope.Envelope object at 0x792811c19bd0>, diagram1=Empty(), diagram2=ApplyTransform(transform=Affine(1.0, 0.0, 2.946875,\n",
              "       0.0, 1.0, -0.25), diagram=ApplyStyle(style=Style(line_width=None, line_color=None, fill_color=<Color #af0>, fill_opacity=None, dashing=None, output_size=None), diagram=ApplyStyle(style=Style(line_width=(<WidthType.NORMALIZED: 2>, 0.04), line_color=None, fill_color=None, fill_opacity=None, dashing=None, output_size=None), diagram=Primitive(shape=Circle(radius=0.1), style=Style(line_width=None, line_color=None, fill_color=None, fill_opacity=None, dashing=None, output_size=None), transform=Affine(1.0, 0.0, 0.0,\n",
              "       0.0, 1.0, 0.0)))))))), diagram2=Compose(envelope=<chalk.envelope.Envelope object at 0x792811c1aad0>, diagram1=Compose(envelope=<chalk.envelope.Envelope object at 0x792811c1a610>, diagram1=Compose(envelope=<chalk.envelope.Envelope object at 0x792811c1a090>, diagram1=Empty(), diagram2=ApplyStyle(style=Style(line_width=None, line_color=<Color #af0>, fill_color=None, fill_opacity=None, dashing=None, output_size=None), diagram=ApplyStyle(style=Style(line_width=(<WidthType.NORMALIZED: 2>, 0.04), line_color=None, fill_color=None, fill_opacity=None, dashing=None, output_size=None), diagram=Primitive(shape=Path(points=Vec2Array([(0.0, 0.0), (3.2432155749541227, 0.0)]), arrow=False), style=Style(line_width=None, line_color=None, fill_color=None, fill_opacity=None, dashing=None, output_size=None), transform=Affine(-0.7872202574866197, -0.6166719275292983, 5.5,\n",
              "       0.6166719275292983, -0.7872202574866197, 0.75))))), diagram2=Compose(envelope=<chalk.envelope.Envelope object at 0x792811c1a510>, diagram1=Empty(), diagram2=ApplyTransform(transform=Affine(1.0, 0.0, 6.0,\n",
              "       0.0, 1.0, 0.75), diagram=ApplyStyle(style=Style(line_width=(<WidthType.NORMALIZED: 2>, 0.15), line_color=None, fill_color=None, fill_opacity=None, dashing=None, output_size=None), diagram=ApplyStyle(style=Style(line_width=None, line_color=<Color #af0>, fill_color=None, fill_opacity=None, dashing=None, output_size=None), diagram=ApplyStyle(style=Style(line_width=None, line_color=None, fill_color=None, fill_opacity=0, dashing=None, output_size=None), diagram=Primitive(shape=Rectangle(width=0.95, height=0.95, radius=None), style=Style(line_width=None, line_color=None, fill_color=None, fill_opacity=None, dashing=None, output_size=None), transform=Affine(1.0, 0.0, 0.0,\n",
              "       0.0, 1.0, 0.0)))))))), diagram2=Compose(envelope=<chalk.envelope.Envelope object at 0x792811c1aa10>, diagram1=Empty(), diagram2=ApplyTransform(transform=Affine(1.0, 0.0, 2.946875,\n",
              "       0.0, 1.0, 2.75), diagram=ApplyStyle(style=Style(line_width=None, line_color=None, fill_color=<Color #af0>, fill_opacity=None, dashing=None, output_size=None), diagram=ApplyStyle(style=Style(line_width=(<WidthType.NORMALIZED: 2>, 0.04), line_color=None, fill_color=None, fill_opacity=None, dashing=None, output_size=None), diagram=Primitive(shape=Circle(radius=0.1), style=Style(line_width=None, line_color=None, fill_color=None, fill_opacity=None, dashing=None, output_size=None), transform=Affine(1.0, 0.0, 0.0,\n",
              "       0.0, 1.0, 0.0)))))))))), diagram2=Compose(envelope=<chalk.envelope.Envelope object at 0x792811c34510>, diagram1=Compose(envelope=<chalk.envelope.Envelope object at 0x792811c1b790>, diagram1=Compose(envelope=<chalk.envelope.Envelope object at 0x792811c1b610>, diagram1=Compose(envelope=<chalk.envelope.Envelope object at 0x792811c1b590>, diagram1=Empty(), diagram2=Empty()), diagram2=Empty()), diagram2=Compose(envelope=<chalk.envelope.Envelope object at 0x792811c1b750>, diagram1=Empty(), diagram2=Compose(envelope=<chalk.envelope.Envelope object at 0x792811c24610>, diagram1=Compose(envelope=<chalk.envelope.Envelope object at 0x792811c24150>, diagram1=Compose(envelope=<chalk.envelope.Envelope object at 0x792811c1bb90>, diagram1=Empty(), diagram2=ApplyStyle(style=Style(line_width=None, line_color=<Color #39ff00>, fill_color=None, fill_opacity=None, dashing=None, output_size=None), diagram=ApplyStyle(style=Style(line_width=(<WidthType.NORMALIZED: 2>, 0.04), line_color=None, fill_color=None, fill_opacity=None, dashing=None, output_size=None), diagram=Primitive(shape=Path(points=Vec2Array([(0.0, 0.0), (2.4596132349670343, 0.0)]), arrow=False), style=Style(line_width=None, line_color=None, fill_color=None, fill_opacity=None, dashing=None, output_size=None), transform=Affine(-0.9948210414605265, -0.10164199657323385, 2.5,\n",
              "       0.10164199657323385, -0.9948210414605265, -1.25))))), diagram2=Compose(envelope=<chalk.envelope.Envelope object at 0x792811c24050>, diagram1=Empty(), diagram2=ApplyTransform(transform=Affine(1.0, 0.0, 3.0,\n",
              "       0.0, 1.0, -1.25), diagram=ApplyStyle(style=Style(line_width=(<WidthType.NORMALIZED: 2>, 0.15), line_color=None, fill_color=None, fill_opacity=None, dashing=None, output_size=None), diagram=ApplyStyle(style=Style(line_width=None, line_color=<Color #39ff00>, fill_color=None, fill_opacity=None, dashing=None, output_size=None), diagram=ApplyStyle(style=Style(line_width=None, line_color=None, fill_color=None, fill_opacity=0, dashing=None, output_size=None), diagram=Primitive(shape=Rectangle(width=0.95, height=0.95, radius=None), style=Style(line_width=None, line_color=None, fill_color=None, fill_opacity=None, dashing=None, output_size=None), transform=Affine(1.0, 0.0, 0.0,\n",
              "       0.0, 1.0, 0.0)))))))), diagram2=Compose(envelope=<chalk.envelope.Envelope object at 0x792811c24550>, diagram1=Empty(), diagram2=ApplyTransform(transform=Affine(1.0, 0.0, 0.053125,\n",
              "       0.0, 1.0, -1.0), diagram=ApplyStyle(style=Style(line_width=None, line_color=None, fill_color=<Color #39ff00>, fill_opacity=None, dashing=None, output_size=None), diagram=ApplyStyle(style=Style(line_width=(<WidthType.NORMALIZED: 2>, 0.04), line_color=None, fill_color=None, fill_opacity=None, dashing=None, output_size=None), diagram=Primitive(shape=Circle(radius=0.1), style=Style(line_width=None, line_color=None, fill_color=None, fill_opacity=None, dashing=None, output_size=None), transform=Affine(1.0, 0.0, 0.0,\n",
              "       0.0, 1.0, 0.0))))))))), diagram2=Compose(envelope=<chalk.envelope.Envelope object at 0x792811c343d0>, diagram1=Compose(envelope=<chalk.envelope.Envelope object at 0x792811c34250>, diagram1=Compose(envelope=<chalk.envelope.Envelope object at 0x792811c340d0>, diagram1=Compose(envelope=<chalk.envelope.Envelope object at 0x792811c24750>, diagram1=Empty(), diagram2=Compose(envelope=<chalk.envelope.Envelope object at 0x792811c255d0>, diagram1=Compose(envelope=<chalk.envelope.Envelope object at 0x792811c25110>, diagram1=Compose(envelope=<chalk.envelope.Envelope object at 0x792811c24b90>, diagram1=Empty(), diagram2=ApplyStyle(style=Style(line_width=None, line_color=<Color #39ff00>, fill_color=None, fill_opacity=None, dashing=None, output_size=None), diagram=ApplyStyle(style=Style(line_width=(<WidthType.NORMALIZED: 2>, 0.04), line_color=None, fill_color=None, fill_opacity=None, dashing=None, output_size=None), diagram=Primitive(shape=Path(points=Vec2Array([(0.0, 0.0), (3.871330167477969, 0.0)]), arrow=False), style=Style(line_width=None, line_color=None, fill_color=None, fill_opacity=None, dashing=None, output_size=None), transform=Affine(-0.6320501982898684, 0.7749274461791491, 5.5,\n",
              "       -0.7749274461791491, -0.6320501982898684, 1.75))))), diagram2=Compose(envelope=<chalk.envelope.Envelope object at 0x792811c25010>, diagram1=Empty(), diagram2=ApplyTransform(transform=Affine(1.0, 0.0, 6.0,\n",
              "       0.0, 1.0, 1.75), diagram=ApplyStyle(style=Style(line_width=(<WidthType.NORMALIZED: 2>, 0.15), line_color=None, fill_color=None, fill_opacity=None, dashing=None, output_size=None), diagram=ApplyStyle(style=Style(line_width=None, line_color=<Color #39ff00>, fill_color=None, fill_opacity=None, dashing=None, output_size=None), diagram=ApplyStyle(style=Style(line_width=None, line_color=None, fill_color=None, fill_opacity=0, dashing=None, output_size=None), diagram=Primitive(shape=Rectangle(width=0.95, height=0.95, radius=None), style=Style(line_width=None, line_color=None, fill_color=None, fill_opacity=None, dashing=None, output_size=None), transform=Affine(1.0, 0.0, 0.0,\n",
              "       0.0, 1.0, 0.0)))))))), diagram2=Compose(envelope=<chalk.envelope.Envelope object at 0x792811c25510>, diagram1=Empty(), diagram2=ApplyTransform(transform=Affine(1.0, 0.0, 3.053125,\n",
              "       0.0, 1.0, -1.25), diagram=ApplyStyle(style=Style(line_width=None, line_color=None, fill_color=<Color #39ff00>, fill_opacity=None, dashing=None, output_size=None), diagram=ApplyStyle(style=Style(line_width=(<WidthType.NORMALIZED: 2>, 0.04), line_color=None, fill_color=None, fill_opacity=None, dashing=None, output_size=None), diagram=Primitive(shape=Circle(radius=0.1), style=Style(line_width=None, line_color=None, fill_color=None, fill_opacity=None, dashing=None, output_size=None), transform=Affine(1.0, 0.0, 0.0,\n",
              "       0.0, 1.0, 0.0)))))))), diagram2=Compose(envelope=<chalk.envelope.Envelope object at 0x792811c263d0>, diagram1=Compose(envelope=<chalk.envelope.Envelope object at 0x792811c25f10>, diagram1=Compose(envelope=<chalk.envelope.Envelope object at 0x792811c25990>, diagram1=Empty(), diagram2=ApplyStyle(style=Style(line_width=None, line_color=<Color #39ff00>, fill_color=None, fill_opacity=None, dashing=None, output_size=None), diagram=ApplyStyle(style=Style(line_width=(<WidthType.NORMALIZED: 2>, 0.04), line_color=None, fill_color=None, fill_opacity=None, dashing=None, output_size=None), diagram=Primitive(shape=Path(points=Vec2Array([(0.0, 0.0), (2.6433307143876266, 0.0)]), arrow=False), style=Style(line_width=None, line_color=None, fill_color=None, fill_opacity=None, dashing=None, output_size=None), transform=Affine(-0.9256787229390862, 0.37831058919605, 5.5,\n",
              "       -0.37831058919605, -0.9256787229390862, 1.75))))), diagram2=Compose(envelope=<chalk.envelope.Envelope object at 0x792811c25e10>, diagram1=Empty(), diagram2=ApplyTransform(transform=Affine(1.0, 0.0, 6.0,\n",
              "       0.0, 1.0, 1.75), diagram=ApplyStyle(style=Style(line_width=(<WidthType.NORMALIZED: 2>, 0.15), line_color=None, fill_color=None, fill_opacity=None, dashing=None, output_size=None), diagram=ApplyStyle(style=Style(line_width=None, line_color=<Color #39ff00>, fill_color=None, fill_opacity=None, dashing=None, output_size=None), diagram=ApplyStyle(style=Style(line_width=None, line_color=None, fill_color=None, fill_opacity=0, dashing=None, output_size=None), diagram=Primitive(shape=Rectangle(width=0.95, height=0.95, radius=None), style=Style(line_width=None, line_color=None, fill_color=None, fill_opacity=None, dashing=None, output_size=None), transform=Affine(1.0, 0.0, 0.0,\n",
              "       0.0, 1.0, 0.0)))))))), diagram2=Compose(envelope=<chalk.envelope.Envelope object at 0x792811c26310>, diagram1=Empty(), diagram2=ApplyTransform(transform=Affine(1.0, 0.0, 3.053125,\n",
              "       0.0, 1.0, 0.75), diagram=ApplyStyle(style=Style(line_width=None, line_color=None, fill_color=<Color #39ff00>, fill_opacity=None, dashing=None, output_size=None), diagram=ApplyStyle(style=Style(line_width=(<WidthType.NORMALIZED: 2>, 0.04), line_color=None, fill_color=None, fill_opacity=None, dashing=None, output_size=None), diagram=Primitive(shape=Circle(radius=0.1), style=Style(line_width=None, line_color=None, fill_color=None, fill_opacity=None, dashing=None, output_size=None), transform=Affine(1.0, 0.0, 0.0,\n",
              "       0.0, 1.0, 0.0)))))))), diagram2=Compose(envelope=<chalk.envelope.Envelope object at 0x792811c271d0>, diagram1=Compose(envelope=<chalk.envelope.Envelope object at 0x792811c26d10>, diagram1=Compose(envelope=<chalk.envelope.Envelope object at 0x792811c26790>, diagram1=Empty(), diagram2=ApplyStyle(style=Style(line_width=None, line_color=<Color #39ff00>, fill_color=None, fill_opacity=None, dashing=None, output_size=None), diagram=ApplyStyle(style=Style(line_width=(<WidthType.NORMALIZED: 2>, 0.04), line_color=None, fill_color=None, fill_opacity=None, dashing=None, output_size=None), diagram=Primitive(shape=Path(points=Vec2Array([(0.0, 0.0), (3.160252721796945, 0.0)]), arrow=False), style=Style(line_width=None, line_color=None, fill_color=None, fill_opacity=None, dashing=None, output_size=None), transform=Affine(-0.7742656095581771, 0.6328607792046401, 5.5,\n",
              "       -0.6328607792046401, -0.7742656095581771, 1.75))))), diagram2=Compose(envelope=<chalk.envelope.Envelope object at 0x792811c26c10>, diagram1=Empty(), diagram2=ApplyTransform(transform=Affine(1.0, 0.0, 6.0,\n",
              "       0.0, 1.0, 1.75), diagram=ApplyStyle(style=Style(line_width=(<WidthType.NORMALIZED: 2>, 0.15), line_color=None, fill_color=None, fill_opacity=None, dashing=None, output_size=None), diagram=ApplyStyle(style=Style(line_width=None, line_color=<Color #39ff00>, fill_color=None, fill_opacity=None, dashing=None, output_size=None), diagram=ApplyStyle(style=Style(line_width=None, line_color=None, fill_color=None, fill_opacity=0, dashing=None, output_size=None), diagram=Primitive(shape=Rectangle(width=0.95, height=0.95, radius=None), style=Style(line_width=None, line_color=None, fill_color=None, fill_opacity=None, dashing=None, output_size=None), transform=Affine(1.0, 0.0, 0.0,\n",
              "       0.0, 1.0, 0.0)))))))), diagram2=Compose(envelope=<chalk.envelope.Envelope object at 0x792811c27110>, diagram1=Empty(), diagram2=ApplyTransform(transform=Affine(1.0, 0.0, 3.053125,\n",
              "       0.0, 1.0, -0.25), diagram=ApplyStyle(style=Style(line_width=None, line_color=None, fill_color=<Color #39ff00>, fill_opacity=None, dashing=None, output_size=None), diagram=ApplyStyle(style=Style(line_width=(<WidthType.NORMALIZED: 2>, 0.04), line_color=None, fill_color=None, fill_opacity=None, dashing=None, output_size=None), diagram=Primitive(shape=Circle(radius=0.1), style=Style(line_width=None, line_color=None, fill_color=None, fill_opacity=None, dashing=None, output_size=None), transform=Affine(1.0, 0.0, 0.0,\n",
              "       0.0, 1.0, 0.0)))))))), diagram2=Compose(envelope=<chalk.envelope.Envelope object at 0x792811c27fd0>, diagram1=Compose(envelope=<chalk.envelope.Envelope object at 0x792811c27b10>, diagram1=Compose(envelope=<chalk.envelope.Envelope object at 0x792811c27590>, diagram1=Empty(), diagram2=ApplyStyle(style=Style(line_width=None, line_color=<Color #39ff00>, fill_color=None, fill_opacity=None, dashing=None, output_size=None), diagram=ApplyStyle(style=Style(line_width=(<WidthType.NORMALIZED: 2>, 0.04), line_color=None, fill_color=None, fill_opacity=None, dashing=None, output_size=None), diagram=Primitive(shape=Path(points=Vec2Array([(0.0, 0.0), (2.446875, 0.0)]), arrow=False), style=Style(line_width=None, line_color=None, fill_color=None, fill_opacity=None, dashing=None, output_size=None), transform=Affine(-1.0, 0.0, 5.5,\n",
              "       0.0, -1.0, 1.75))))), diagram2=Compose(envelope=<chalk.envelope.Envelope object at 0x792811c27a10>, diagram1=Empty(), diagram2=ApplyTransform(transform=Affine(1.0, 0.0, 6.0,\n",
              "       0.0, 1.0, 1.75), diagram=ApplyStyle(style=Style(line_width=(<WidthType.NORMALIZED: 2>, 0.15), line_color=None, fill_color=None, fill_opacity=None, dashing=None, output_size=None), diagram=ApplyStyle(style=Style(line_width=None, line_color=<Color #39ff00>, fill_color=None, fill_opacity=None, dashing=None, output_size=None), diagram=ApplyStyle(style=Style(line_width=None, line_color=None, fill_color=None, fill_opacity=0, dashing=None, output_size=None), diagram=Primitive(shape=Rectangle(width=0.95, height=0.95, radius=None), style=Style(line_width=None, line_color=None, fill_color=None, fill_opacity=None, dashing=None, output_size=None), transform=Affine(1.0, 0.0, 0.0,\n",
              "       0.0, 1.0, 0.0)))))))), diagram2=Compose(envelope=<chalk.envelope.Envelope object at 0x792811c27f10>, diagram1=Empty(), diagram2=ApplyTransform(transform=Affine(1.0, 0.0, 3.053125,\n",
              "       0.0, 1.0, 1.75), diagram=ApplyStyle(style=Style(line_width=None, line_color=None, fill_color=<Color #39ff00>, fill_opacity=None, dashing=None, output_size=None), diagram=ApplyStyle(style=Style(line_width=(<WidthType.NORMALIZED: 2>, 0.04), line_color=None, fill_color=None, fill_opacity=None, dashing=None, output_size=None), diagram=Primitive(shape=Circle(radius=0.1), style=Style(line_width=None, line_color=None, fill_color=None, fill_opacity=None, dashing=None, output_size=None), transform=Affine(1.0, 0.0, 0.0,\n",
              "       0.0, 1.0, 0.0)))))))))), diagram2=Compose(envelope=<chalk.envelope.Envelope object at 0x792811c37810>, diagram1=Compose(envelope=<chalk.envelope.Envelope object at 0x792811c34a10>, diagram1=Compose(envelope=<chalk.envelope.Envelope object at 0x792811c34890>, diagram1=Compose(envelope=<chalk.envelope.Envelope object at 0x792811c34810>, diagram1=Empty(), diagram2=Empty()), diagram2=Empty()), diagram2=Compose(envelope=<chalk.envelope.Envelope object at 0x792811c349d0>, diagram1=Empty(), diagram2=Compose(envelope=<chalk.envelope.Envelope object at 0x792811c35850>, diagram1=Compose(envelope=<chalk.envelope.Envelope object at 0x792811c35390>, diagram1=Compose(envelope=<chalk.envelope.Envelope object at 0x792811c34e10>, diagram1=Empty(), diagram2=ApplyStyle(style=Style(line_width=None, line_color=<Color #00ff39>, fill_color=None, fill_opacity=None, dashing=None, output_size=None), diagram=ApplyStyle(style=Style(line_width=(<WidthType.NORMALIZED: 2>, 0.04), line_color=None, fill_color=None, fill_opacity=None, dashing=None, output_size=None), diagram=Primitive(shape=Path(points=Vec2Array([(0.0, 0.0), (2.3539382724755127, 0.0)]), arrow=False), style=Style(line_width=None, line_color=None, fill_color=None, fill_opacity=None, dashing=None, output_size=None), transform=Affine(-0.9943442559088385, -0.10620499395554979, 2.5,\n",
              "       0.10620499395554979, -0.9943442559088385, -0.25))))), diagram2=Compose(envelope=<chalk.envelope.Envelope object at 0x792811c35290>, diagram1=Empty(), diagram2=ApplyTransform(transform=Affine(1.0, 0.0, 3.0,\n",
              "       0.0, 1.0, -0.25), diagram=ApplyStyle(style=Style(line_width=(<WidthType.NORMALIZED: 2>, 0.15), line_color=None, fill_color=None, fill_opacity=None, dashing=None, output_size=None), diagram=ApplyStyle(style=Style(line_width=None, line_color=<Color #00ff39>, fill_color=None, fill_opacity=None, dashing=None, output_size=None), diagram=ApplyStyle(style=Style(line_width=None, line_color=None, fill_color=None, fill_opacity=0, dashing=None, output_size=None), diagram=Primitive(shape=Rectangle(width=0.95, height=0.95, radius=None), style=Style(line_width=None, line_color=None, fill_color=None, fill_opacity=None, dashing=None, output_size=None), transform=Affine(1.0, 0.0, 0.0,\n",
              "       0.0, 1.0, 0.0)))))))), diagram2=Compose(envelope=<chalk.envelope.Envelope object at 0x792811c35790>, diagram1=Empty(), diagram2=ApplyTransform(transform=Affine(1.0, 0.0, 0.159375,\n",
              "       0.0, 1.0, 0.0), diagram=ApplyStyle(style=Style(line_width=None, line_color=None, fill_color=<Color #00ff39>, fill_opacity=None, dashing=None, output_size=None), diagram=ApplyStyle(style=Style(line_width=(<WidthType.NORMALIZED: 2>, 0.04), line_color=None, fill_color=None, fill_opacity=None, dashing=None, output_size=None), diagram=Primitive(shape=Circle(radius=0.1), style=Style(line_width=None, line_color=None, fill_color=None, fill_opacity=None, dashing=None, output_size=None), transform=Affine(1.0, 0.0, 0.0,\n",
              "       0.0, 1.0, 0.0))))))))), diagram2=Compose(envelope=<chalk.envelope.Envelope object at 0x792811c376d0>, diagram1=Compose(envelope=<chalk.envelope.Envelope object at 0x792811c35950>, diagram1=Empty(), diagram2=Compose(envelope=<chalk.envelope.Envelope object at 0x792811c36810>, diagram1=Compose(envelope=<chalk.envelope.Envelope object at 0x792811c36350>, diagram1=Compose(envelope=<chalk.envelope.Envelope object at 0x792811c35dd0>, diagram1=Empty(), diagram2=ApplyStyle(style=Style(line_width=None, line_color=<Color #00ff39>, fill_color=None, fill_opacity=None, dashing=None, output_size=None), diagram=ApplyStyle(style=Style(line_width=(<WidthType.NORMALIZED: 2>, 0.04), line_color=None, fill_color=None, fill_opacity=None, dashing=None, output_size=None), diagram=Primitive(shape=Path(points=Vec2Array([(0.0, 0.0), (3.8050657537846835, 0.0)]), arrow=False), style=Style(line_width=None, line_color=None, fill_color=None, fill_opacity=None, dashing=None, output_size=None), transform=Affine(-0.6151339165878836, 0.7884226434237227, 5.5,\n",
              "       -0.7884226434237227, -0.6151339165878836, 2.75))))), diagram2=Compose(envelope=<chalk.envelope.Envelope object at 0x792811c36250>, diagram1=Empty(), diagram2=ApplyTransform(transform=Affine(1.0, 0.0, 6.0,\n",
              "       0.0, 1.0, 2.75), diagram=ApplyStyle(style=Style(line_width=(<WidthType.NORMALIZED: 2>, 0.15), line_color=None, fill_color=None, fill_opacity=None, dashing=None, output_size=None), diagram=ApplyStyle(style=Style(line_width=None, line_color=<Color #00ff39>, fill_color=None, fill_opacity=None, dashing=None, output_size=None), diagram=ApplyStyle(style=Style(line_width=None, line_color=None, fill_color=None, fill_opacity=0, dashing=None, output_size=None), diagram=Primitive(shape=Rectangle(width=0.95, height=0.95, radius=None), style=Style(line_width=None, line_color=None, fill_color=None, fill_opacity=None, dashing=None, output_size=None), transform=Affine(1.0, 0.0, 0.0,\n",
              "       0.0, 1.0, 0.0)))))))), diagram2=Compose(envelope=<chalk.envelope.Envelope object at 0x792811c36750>, diagram1=Empty(), diagram2=ApplyTransform(transform=Affine(1.0, 0.0, 3.159375,\n",
              "       0.0, 1.0, -0.25), diagram=ApplyStyle(style=Style(line_width=None, line_color=None, fill_color=<Color #00ff39>, fill_opacity=None, dashing=None, output_size=None), diagram=ApplyStyle(style=Style(line_width=(<WidthType.NORMALIZED: 2>, 0.04), line_color=None, fill_color=None, fill_opacity=None, dashing=None, output_size=None), diagram=Primitive(shape=Circle(radius=0.1), style=Style(line_width=None, line_color=None, fill_color=None, fill_opacity=None, dashing=None, output_size=None), transform=Affine(1.0, 0.0, 0.0,\n",
              "       0.0, 1.0, 0.0)))))))), diagram2=Compose(envelope=<chalk.envelope.Envelope object at 0x792811c37610>, diagram1=Compose(envelope=<chalk.envelope.Envelope object at 0x792811c37150>, diagram1=Compose(envelope=<chalk.envelope.Envelope object at 0x792811c36bd0>, diagram1=Empty(), diagram2=ApplyStyle(style=Style(line_width=None, line_color=<Color #00ff39>, fill_color=None, fill_opacity=None, dashing=None, output_size=None), diagram=ApplyStyle(style=Style(line_width=(<WidthType.NORMALIZED: 2>, 0.04), line_color=None, fill_color=None, fill_opacity=None, dashing=None, output_size=None), diagram=Primitive(shape=Path(points=Vec2Array([(0.0, 0.0), (3.0787213889251173, 0.0)]), arrow=False), style=Style(line_width=None, line_color=None, fill_color=None, fill_opacity=None, dashing=None, output_size=None), transform=Affine(-0.7602587906849181, 0.6496203284891152, 5.5,\n",
              "       -0.6496203284891152, -0.7602587906849181, 2.75))))), diagram2=Compose(envelope=<chalk.envelope.Envelope object at 0x792811c37050>, diagram1=Empty(), diagram2=ApplyTransform(transform=Affine(1.0, 0.0, 6.0,\n",
              "       0.0, 1.0, 2.75), diagram=ApplyStyle(style=Style(line_width=(<WidthType.NORMALIZED: 2>, 0.15), line_color=None, fill_color=None, fill_opacity=None, dashing=None, output_size=None), diagram=ApplyStyle(style=Style(line_width=None, line_color=<Color #00ff39>, fill_color=None, fill_opacity=None, dashing=None, output_size=None), diagram=ApplyStyle(style=Style(line_width=None, line_color=None, fill_color=None, fill_opacity=0, dashing=None, output_size=None), diagram=Primitive(shape=Rectangle(width=0.95, height=0.95, radius=None), style=Style(line_width=None, line_color=None, fill_color=None, fill_opacity=None, dashing=None, output_size=None), transform=Affine(1.0, 0.0, 0.0,\n",
              "       0.0, 1.0, 0.0)))))))), diagram2=Compose(envelope=<chalk.envelope.Envelope object at 0x792811c37550>, diagram1=Empty(), diagram2=ApplyTransform(transform=Affine(1.0, 0.0, 3.159375,\n",
              "       0.0, 1.0, 0.75), diagram=ApplyStyle(style=Style(line_width=None, line_color=None, fill_color=<Color #00ff39>, fill_opacity=None, dashing=None, output_size=None), diagram=ApplyStyle(style=Style(line_width=(<WidthType.NORMALIZED: 2>, 0.04), line_color=None, fill_color=None, fill_opacity=None, dashing=None, output_size=None), diagram=Primitive(shape=Circle(radius=0.1), style=Style(line_width=None, line_color=None, fill_color=None, fill_opacity=None, dashing=None, output_size=None), transform=Affine(1.0, 0.0, 0.0,\n",
              "       0.0, 1.0, 0.0)))))))))), diagram2=Compose(envelope=<chalk.envelope.Envelope object at 0x792811c44c50>, diagram1=Compose(envelope=<chalk.envelope.Envelope object at 0x792811c37d10>, diagram1=Compose(envelope=<chalk.envelope.Envelope object at 0x792811c37b90>, diagram1=Compose(envelope=<chalk.envelope.Envelope object at 0x792811c37b10>, diagram1=Empty(), diagram2=Empty()), diagram2=Empty()), diagram2=Compose(envelope=<chalk.envelope.Envelope object at 0x792811c37cd0>, diagram1=Empty(), diagram2=Compose(envelope=<chalk.envelope.Envelope object at 0x792811c44b90>, diagram1=Compose(envelope=<chalk.envelope.Envelope object at 0x792811c446d0>, diagram1=Compose(envelope=<chalk.envelope.Envelope object at 0x792811c44150>, diagram1=Empty(), diagram2=ApplyStyle(style=Style(line_width=None, line_color=<Color #0fa>, fill_color=None, fill_opacity=None, dashing=None, output_size=None), diagram=ApplyStyle(style=Style(line_width=(<WidthType.NORMALIZED: 2>, 0.04), line_color=None, fill_color=None, fill_opacity=None, dashing=None, output_size=None), diagram=Primitive(shape=Path(points=Vec2Array([(0.0, 0.0), (3.543293897015177, 0.0)]), arrow=False), style=Style(line_width=None, line_color=None, fill_color=None, fill_opacity=None, dashing=None, output_size=None), transform=Affine(-0.6305926250944659, -0.7761140001162654, 2.5,\n",
              "       0.7761140001162654, -0.6305926250944659, 0.75))))), diagram2=Compose(envelope=<chalk.envelope.Envelope object at 0x792811c445d0>, diagram1=Empty(), diagram2=ApplyTransform(transform=Affine(1.0, 0.0, 3.0,\n",
              "       0.0, 1.0, 0.75), diagram=ApplyStyle(style=Style(line_width=(<WidthType.NORMALIZED: 2>, 0.15), line_color=None, fill_color=None, fill_opacity=None, dashing=None, output_size=None), diagram=ApplyStyle(style=Style(line_width=None, line_color=<Color #0fa>, fill_color=None, fill_opacity=None, dashing=None, output_size=None), diagram=ApplyStyle(style=Style(line_width=None, line_color=None, fill_color=None, fill_opacity=0, dashing=None, output_size=None), diagram=Primitive(shape=Rectangle(width=0.95, height=0.95, radius=None), style=Style(line_width=None, line_color=None, fill_color=None, fill_opacity=None, dashing=None, output_size=None), transform=Affine(1.0, 0.0, 0.0,\n",
              "       0.0, 1.0, 0.0)))))))), diagram2=Compose(envelope=<chalk.envelope.Envelope object at 0x792811c44ad0>, diagram1=Empty(), diagram2=ApplyTransform(transform=Affine(1.0, 0.0, 0.265625,\n",
              "       0.0, 1.0, 3.5), diagram=ApplyStyle(style=Style(line_width=None, line_color=None, fill_color=<Color #0fa>, fill_opacity=None, dashing=None, output_size=None), diagram=ApplyStyle(style=Style(line_width=(<WidthType.NORMALIZED: 2>, 0.04), line_color=None, fill_color=None, fill_opacity=None, dashing=None, output_size=None), diagram=Primitive(shape=Circle(radius=0.1), style=Style(line_width=None, line_color=None, fill_color=None, fill_opacity=None, dashing=None, output_size=None), transform=Affine(1.0, 0.0, 0.0,\n",
              "       0.0, 1.0, 0.0))))))))), diagram2=Empty())), diagram2=Compose(envelope=<chalk.envelope.Envelope object at 0x792811c46050>, diagram1=Compose(envelope=<chalk.envelope.Envelope object at 0x792811c45150>, diagram1=Compose(envelope=<chalk.envelope.Envelope object at 0x792811c44fd0>, diagram1=Compose(envelope=<chalk.envelope.Envelope object at 0x792811c44f50>, diagram1=Empty(), diagram2=Empty()), diagram2=Empty()), diagram2=Compose(envelope=<chalk.envelope.Envelope object at 0x792811c45110>, diagram1=Empty(), diagram2=Compose(envelope=<chalk.envelope.Envelope object at 0x792811c45f90>, diagram1=Compose(envelope=<chalk.envelope.Envelope object at 0x792811c45ad0>, diagram1=Compose(envelope=<chalk.envelope.Envelope object at 0x792811c45550>, diagram1=Empty(), diagram2=ApplyStyle(style=Style(line_width=None, line_color=<Color #00e3ff>, fill_color=None, fill_opacity=None, dashing=None, output_size=None), diagram=ApplyStyle(style=Style(line_width=(<WidthType.NORMALIZED: 2>, 0.04), line_color=None, fill_color=None, fill_opacity=None, dashing=None, output_size=None), diagram=Primitive(shape=Path(points=Vec2Array([(0.0, 0.0), (3.4772713462749785, 0.0)]), arrow=False), style=Style(line_width=None, line_color=None, fill_color=None, fill_opacity=None, dashing=None, output_size=None), transform=Affine(-0.6120100469811626, -0.7908499872884334, 2.5,\n",
              "       0.7908499872884334, -0.6120100469811626, 1.75))))), diagram2=Compose(envelope=<chalk.envelope.Envelope object at 0x792811c459d0>, diagram1=Empty(), diagram2=ApplyTransform(transform=Affine(1.0, 0.0, 3.0,\n",
              "       0.0, 1.0, 1.75), diagram=ApplyStyle(style=Style(line_width=(<WidthType.NORMALIZED: 2>, 0.15), line_color=None, fill_color=None, fill_opacity=None, dashing=None, output_size=None), diagram=ApplyStyle(style=Style(line_width=None, line_color=<Color #00e3ff>, fill_color=None, fill_opacity=None, dashing=None, output_size=None), diagram=ApplyStyle(style=Style(line_width=None, line_color=None, fill_color=None, fill_opacity=0, dashing=None, output_size=None), diagram=Primitive(shape=Rectangle(width=0.95, height=0.95, radius=None), style=Style(line_width=None, line_color=None, fill_color=None, fill_opacity=None, dashing=None, output_size=None), transform=Affine(1.0, 0.0, 0.0,\n",
              "       0.0, 1.0, 0.0)))))))), diagram2=Compose(envelope=<chalk.envelope.Envelope object at 0x792811c45ed0>, diagram1=Empty(), diagram2=ApplyTransform(transform=Affine(1.0, 0.0, 0.371875,\n",
              "       0.0, 1.0, 4.5), diagram=ApplyStyle(style=Style(line_width=None, line_color=None, fill_color=<Color #00e3ff>, fill_opacity=None, dashing=None, output_size=None), diagram=ApplyStyle(style=Style(line_width=(<WidthType.NORMALIZED: 2>, 0.04), line_color=None, fill_color=None, fill_opacity=None, dashing=None, output_size=None), diagram=Primitive(shape=Circle(radius=0.1), style=Style(line_width=None, line_color=None, fill_color=None, fill_opacity=None, dashing=None, output_size=None), transform=Affine(1.0, 0.0, 0.0,\n",
              "       0.0, 1.0, 0.0))))))))), diagram2=Empty()))), diagram2=ApplyTransform(transform=Affine(1.0, 0.0, -0.0,\n",
              "       0.0, 1.0, -7.0001), diagram=Compose(envelope=<chalk.envelope.Envelope object at 0x792811c46a10>, diagram1=Compose(envelope=<chalk.envelope.Envelope object at 0x792811c46750>, diagram1=Primitive(shape=Spacer(width=0, height=0.5), style=Style(line_width=None, line_color=None, fill_color=None, fill_opacity=None, dashing=None, output_size=None), transform=Affine(1.0, 0.0, 0.0,\n",
              "       0.0, 1.0, 0.0)), diagram2=ApplyTransform(transform=Affine(1.0, 0.0, 0.0,\n",
              "       0.0, 1.0, 0.25), diagram=ApplyStyle(style=Style(line_width=(<WidthType.NORMALIZED: 2>, 0), line_color=None, fill_color=None, fill_opacity=None, dashing=None, output_size=None), diagram=ApplyStyle(style=Style(line_width=None, line_color=None, fill_color=<Color black>, fill_opacity=None, dashing=None, output_size=None), diagram=Primitive(shape=Text(text='Block 0 0', font_size=0.5), style=Style(line_width=None, line_color=None, fill_color=None, fill_opacity=None, dashing=None, output_size=None), transform=Affine(1.0, 0.0, 0.0,\n",
              "       0.0, 1.0, 0.0)))))), diagram2=ApplyTransform(transform=Affine(1.0, 0.0, 0.0,\n",
              "       0.0, 1.0, 0.5001), diagram=Primitive(shape=Spacer(width=0, height=0.5), style=Style(line_width=None, line_color=None, fill_color=None, fill_opacity=None, dashing=None, output_size=None), transform=Affine(1.0, 0.0, 0.0,\n",
              "       0.0, 1.0, 0.0))))))))), diagram2=ApplyTransform(transform=Affine(1.0, 0.0, 8.0,\n",
              "       0.0, 1.0, 0.0), diagram=Primitive(shape=Spacer(width=1, height=0), style=Style(line_width=None, line_color=None, fill_color=None, fill_opacity=None, dashing=None, output_size=None), transform=Affine(1.0, 0.0, 0.0,\n",
              "       0.0, 1.0, 0.0))))), diagram2=Empty()), diagram2=ApplyStyle(style=Style(line_width=None, line_color=None, fill_color=None, fill_opacity=0.0, dashing=None, output_size=None), diagram=ApplyStyle(style=Style(line_width=None, line_color=<Color gray>, fill_color=None, fill_opacity=None, dashing=None, output_size=None), diagram=Primitive(shape=Rectangle(width=10.799999999999999, height=16.20012, radius=0.5), style=Style(line_width=None, line_color=None, fill_color=None, fill_opacity=None, dashing=None, output_size=None), transform=Affine(1.0, 0.0, 0.0,\n",
              "       0.0, 1.0, 0.0))))), diagram2=Empty())))))), diagram2=Empty())))"
            ],
            "image/svg+xml": "<?xml version=\"1.0\" encoding=\"utf-8\" ?>\n<svg baseProfile=\"full\" height=\"1227.61276\" version=\"1.1\" width=\"653\" xmlns=\"http://www.w3.org/2000/svg\" xmlns:ev=\"http://www.w3.org/2001/xml-events\" xmlns:xlink=\"http://www.w3.org/1999/xlink\"><defs><marker id=\"arrow\" markerHeight=\"3.5\" markerWidth=\"5\" orient=\"auto\" refX=\"5.0\" refY=\"1.7\"><polygon points=\"0,0 5,1.75 0,3.5\" /></marker></defs><g style=\"fill:white;\"><g transform=\"matrix(1.0, 0.0, 0.0, 1.0, 326.5, 613.4306185185185)\"><g transform=\"matrix(47.58989607474456, 0.0, 0.0, 47.58989607474456, 0.0, 0.0)\"><g><g transform=\"matrix(1.0, 0.0, 0.0, 1.0, -0.0, -0.0)\"><g><g style=\"fill: #ffffff;stroke: black;stroke-width: 1.5;\" transform=\"matrix(1.0, 0.0, 0.0, 1.0, 0.0, 0.0)\"><rect height=\"24.5522552\" style=\"vector-effect: non-scaling-stroke;\" width=\"13.068\" x=\"-6.534\" y=\"-12.2761276\" /></g><g transform=\"matrix(1.0, 0.0, 0.0, 1.0, -0.0, -11.451127600000001)\"><g><g><g><g><g><g><g style=\"stroke: black;stroke-width: 1.5;\" transform=\"matrix(1.0, 0.0, 0.0, 1.0, 0.0, 0.0)\"><g /></g><g transform=\"matrix(1.0, 0.0, 0.0, 1.0, 0.0, 0.75)\"><g style=\"stroke: black;stroke-width: 1.5;\" transform=\"matrix(1.0, 0.0, 0.0, 1.0, 0.0, 0.0)\"><text style=\"text-align:center; text-anchor:middle; dominant-baseline:middle;font-family:sans-serif; font-weight: bold;font-size:1px;vector-effect: non-scaling-stroke;\" transform=\"translate(-5e-05, 0)\">1D Conv (Simple)</text></g></g></g><g transform=\"matrix(1.0, 0.0, 0.0, 1.0, 0.0, 1.2501)\"><g style=\"stroke: black;stroke-width: 1.5;\" transform=\"matrix(1.0, 0.0, 0.0, 1.0, 0.0, 0.0)\"><g /></g></g></g><g transform=\"matrix(1.0, 0.0, 0.0, 1.0, 0.0, 2.2500999999999998)\"><g transform=\"matrix(1.0, 0.0, 0.0, 1.0, -3.8500000000000005, -0.0)\"><g><g><g><g><g><g><g><g><g /><g transform=\"matrix(1.0, 0.0, 0.0, 1.0, 0.0, 0.0)\"><g><g style=\"fill: #ff0000;stroke: black;stroke-width: 1.5;fill-opacity: 0.7;\" transform=\"matrix(1.0, 0.0, 0.0, 1.0, 0.0, 0.0)\"><circle cx=\"0.0\" cy=\"0.0\" r=\"0.5\" style=\"vector-effect: non-scaling-stroke\" /></g><g style=\"stroke: black;stroke-width: 1.5;\" transform=\"matrix(0.0008333333333333334, 0.0, 0.0, 0.0008333333333333334, 0.0, 0.0)\"><image transform=\"translate(-600.0, -600.0)\" xlink:href=\"https://raw.githubusercontent.com/minitorch/diagrams/main/robot.png\" /></g></g></g></g><g transform=\"matrix(1.0, 0.0, 0.0, 1.0, 1.1, 0.0)\"><g><g style=\"fill: #ff7100;stroke: black;stroke-width: 1.5;fill-opacity: 0.7;\" transform=\"matrix(1.0, 0.0, 0.0, 1.0, 0.0, 0.0)\"><circle cx=\"0.0\" cy=\"0.0\" r=\"0.5\" style=\"vector-effect: non-scaling-stroke\" /></g><g style=\"stroke: black;stroke-width: 1.5;\" transform=\"matrix(0.0008333333333333334, 0.0, 0.0, 0.0008333333333333334, 0.0, 0.0)\"><image transform=\"translate(-600.0, -600.0)\" xlink:href=\"https://raw.githubusercontent.com/minitorch/diagrams/main/robot.png\" /></g></g></g></g><g transform=\"matrix(1.0, 0.0, 0.0, 1.0, 2.2, 0.0)\"><g><g style=\"fill: #ffe300;stroke: black;stroke-width: 1.5;fill-opacity: 0.7;\" transform=\"matrix(1.0, 0.0, 0.0, 1.0, 0.0, 0.0)\"><circle cx=\"0.0\" cy=\"0.0\" r=\"0.5\" style=\"vector-effect: non-scaling-stroke\" /></g><g style=\"stroke: black;stroke-width: 1.5;\" transform=\"matrix(0.0008333333333333334, 0.0, 0.0, 0.0008333333333333334, 0.0, 0.0)\"><image transform=\"translate(-600.0, -600.0)\" xlink:href=\"https://raw.githubusercontent.com/minitorch/diagrams/main/robot.png\" /></g></g></g></g><g transform=\"matrix(1.0, 0.0, 0.0, 1.0, 3.3000000000000003, 0.0)\"><g><g style=\"fill: #aaff00;stroke: black;stroke-width: 1.5;fill-opacity: 0.7;\" transform=\"matrix(1.0, 0.0, 0.0, 1.0, 0.0, 0.0)\"><circle cx=\"0.0\" cy=\"0.0\" r=\"0.5\" style=\"vector-effect: non-scaling-stroke\" /></g><g style=\"stroke: black;stroke-width: 1.5;\" transform=\"matrix(0.0008333333333333334, 0.0, 0.0, 0.0008333333333333334, 0.0, 0.0)\"><image transform=\"translate(-600.0, -600.0)\" xlink:href=\"https://raw.githubusercontent.com/minitorch/diagrams/main/robot.png\" /></g></g></g></g><g transform=\"matrix(1.0, 0.0, 0.0, 1.0, 4.4, 0.0)\"><g><g style=\"fill: #39ff00;stroke: black;stroke-width: 1.5;fill-opacity: 0.7;\" transform=\"matrix(1.0, 0.0, 0.0, 1.0, 0.0, 0.0)\"><circle cx=\"0.0\" cy=\"0.0\" r=\"0.5\" style=\"vector-effect: non-scaling-stroke\" /></g><g style=\"stroke: black;stroke-width: 1.5;\" transform=\"matrix(0.0008333333333333334, 0.0, 0.0, 0.0008333333333333334, 0.0, 0.0)\"><image transform=\"translate(-600.0, -600.0)\" xlink:href=\"https://raw.githubusercontent.com/minitorch/diagrams/main/robot.png\" /></g></g></g></g><g transform=\"matrix(1.0, 0.0, 0.0, 1.0, 5.5, 0.0)\"><g><g style=\"fill: #00ff39;stroke: black;stroke-width: 1.5;fill-opacity: 0.7;\" transform=\"matrix(1.0, 0.0, 0.0, 1.0, 0.0, 0.0)\"><circle cx=\"0.0\" cy=\"0.0\" r=\"0.5\" style=\"vector-effect: non-scaling-stroke\" /></g><g style=\"stroke: black;stroke-width: 1.5;\" transform=\"matrix(0.0008333333333333334, 0.0, 0.0, 0.0008333333333333334, 0.0, 0.0)\"><image transform=\"translate(-600.0, -600.0)\" xlink:href=\"https://raw.githubusercontent.com/minitorch/diagrams/main/robot.png\" /></g></g></g></g><g transform=\"matrix(1.0, 0.0, 0.0, 1.0, 6.6000000000000005, 0.0)\"><g><g style=\"fill: #00ffaa;stroke: black;stroke-width: 1.5;fill-opacity: 0.7;\" transform=\"matrix(1.0, 0.0, 0.0, 1.0, 0.0, 0.0)\"><circle cx=\"0.0\" cy=\"0.0\" r=\"0.5\" style=\"vector-effect: non-scaling-stroke\" /></g><g style=\"stroke: black;stroke-width: 1.5;\" transform=\"matrix(0.0008333333333333334, 0.0, 0.0, 0.0008333333333333334, 0.0, 0.0)\"><image transform=\"translate(-600.0, -600.0)\" xlink:href=\"https://raw.githubusercontent.com/minitorch/diagrams/main/robot.png\" /></g></g></g></g><g transform=\"matrix(1.0, 0.0, 0.0, 1.0, 7.700000000000001, 0.0)\"><g><g style=\"fill: #00e3ff;stroke: black;stroke-width: 1.5;fill-opacity: 0.7;\" transform=\"matrix(1.0, 0.0, 0.0, 1.0, 0.0, 0.0)\"><circle cx=\"0.0\" cy=\"0.0\" r=\"0.5\" style=\"vector-effect: non-scaling-stroke\" /></g><g style=\"stroke: black;stroke-width: 1.5;\" transform=\"matrix(0.0008333333333333334, 0.0, 0.0, 0.0008333333333333334, 0.0, 0.0)\"><image transform=\"translate(-600.0, -600.0)\" xlink:href=\"https://raw.githubusercontent.com/minitorch/diagrams/main/robot.png\" /></g></g></g></g></g></g></g><g transform=\"matrix(1.0, 0.0, 0.0, 1.0, 0.0, 3.2500999999999998)\"><g style=\"stroke: black;stroke-width: 1.5;\" transform=\"matrix(1.0, 0.0, 0.0, 1.0, 0.0, 0.0)\"><g /></g></g></g><g transform=\"matrix(1.0, 0.0, 0.0, 1.0, 0.0, 12.660166)\"><g transform=\"matrix(1.0, 0.0, 0.0, 1.0, -0.0, -0.0)\"><g><g /><g transform=\"matrix(1.0, 0.0, 0.0, 1.0, 0.0, 0.0)\"><g><g><g><g transform=\"matrix(1.0, 0.0, 0.0, 1.0, -4.0, -0.0)\"><g><g><g style=\"stroke: black;stroke-width: 1.5;\" transform=\"matrix(1.0, 0.0, 0.0, 1.0, 0.0, 0.0)\"><g /></g><g transform=\"matrix(1.0, 0.0, 0.0, 1.0, 4.0, 0.0)\"><g transform=\"matrix(1.0, 0.0, 0.0, 1.0, -0.0, 0.5000499999999999)\"><g><g transform=\"matrix(1.0, 0.0, 0.0, 1.0, -3.0, -0.0)\"><g><g><g><g><g><g><g><g><g><g><g><g><g transform=\"matrix(1.0, 0.0, 0.0, 1.0, -0.0, -2.5)\"><g><g><g><g transform=\"matrix(1.0, 0.0, 0.0, 1.0, -0.0, -2.5)\"><g><g><g><g><g><g><g /><g><g style=\"stroke: black;stroke-width: 0.75;\" transform=\"matrix(1.0, 0.0, 0.0, 1.0, 0.0, 0.0)\"><rect height=\"1\" style=\"vector-effect: non-scaling-stroke;\" width=\"1\" x=\"-0.5\" y=\"-0.5\" /></g></g></g><g><g style=\"stroke: black;stroke-width: 0.75;\" transform=\"matrix(1.0, 0.0, 0.0, 1.0, 0.0, 1.0)\"><rect height=\"1\" style=\"vector-effect: non-scaling-stroke;\" width=\"1\" x=\"-0.5\" y=\"-0.5\" /></g></g></g><g><g style=\"stroke: black;stroke-width: 0.75;\" transform=\"matrix(1.0, 0.0, 0.0, 1.0, 0.0, 2.0)\"><rect height=\"1\" style=\"vector-effect: non-scaling-stroke;\" width=\"1\" x=\"-0.5\" y=\"-0.5\" /></g></g></g><g><g style=\"stroke: black;stroke-width: 0.75;\" transform=\"matrix(1.0, 0.0, 0.0, 1.0, 0.0, 3.0)\"><rect height=\"1\" style=\"vector-effect: non-scaling-stroke;\" width=\"1\" x=\"-0.5\" y=\"-0.5\" /></g></g></g><g><g style=\"stroke: black;stroke-width: 0.75;\" transform=\"matrix(1.0, 0.0, 0.0, 1.0, 0.0, 4.0)\"><rect height=\"1\" style=\"vector-effect: non-scaling-stroke;\" width=\"1\" x=\"-0.5\" y=\"-0.5\" /></g></g></g><g><g style=\"stroke: black;stroke-width: 0.75;\" transform=\"matrix(1.0, 0.0, 0.0, 1.0, 0.0, 5.0)\"><rect height=\"1\" style=\"vector-effect: non-scaling-stroke;\" width=\"1\" x=\"-0.5\" y=\"-0.5\" /></g></g></g></g><g transform=\"matrix(1.0, 0.0, 0.0, 1.0, -0.0, -3.25)\"><g><g style=\"fill: #000000;stroke: black;stroke-width: 0.0;\" transform=\"matrix(1.0, 0.0, 0.0, 1.0, 0.0, 0.0)\"><text style=\"text-align:center; text-anchor:middle; dominant-baseline:middle;font-family:sans-serif; font-weight: bold;font-size:0.5px;vector-effect: non-scaling-stroke;\" transform=\"translate(-5e-05, 0)\">a</text></g><g style=\"stroke: black;stroke-width: 1.5;\" transform=\"matrix(1.0, 0.0, 0.0, 1.0, 0.0, 0.0)\"><g /></g></g></g></g><g transform=\"matrix(1.0, 0.0, 0.0, 1.0, 0.0, 4.0)\"><g style=\"stroke: black;stroke-width: 1.5;\" transform=\"matrix(0.0, -1.0, 1.0, 0.0, 0.0, 0.0)\"><g /></g></g></g><g transform=\"matrix(1.0, 0.0, 0.0, 1.0, 0.0, 7.0)\"><g><g transform=\"matrix(1.0, 0.0, 0.0, 1.0, -0.0, -1.0)\"><g><g><g><g /><g><g style=\"stroke: black;stroke-width: 0.75;\" transform=\"matrix(1.0, 0.0, 0.0, 1.0, 0.0, 0.0)\"><rect height=\"1\" style=\"vector-effect: non-scaling-stroke;\" width=\"1\" x=\"-0.5\" y=\"-0.5\" /></g></g></g><g><g style=\"stroke: black;stroke-width: 0.75;\" transform=\"matrix(1.0, 0.0, 0.0, 1.0, 0.0, 1.0)\"><rect height=\"1\" style=\"vector-effect: non-scaling-stroke;\" width=\"1\" x=\"-0.5\" y=\"-0.5\" /></g></g></g><g><g style=\"stroke: black;stroke-width: 0.75;\" transform=\"matrix(1.0, 0.0, 0.0, 1.0, 0.0, 2.0)\"><rect height=\"1\" style=\"vector-effect: non-scaling-stroke;\" width=\"1\" x=\"-0.5\" y=\"-0.5\" /></g></g></g></g><g transform=\"matrix(1.0, 0.0, 0.0, 1.0, -0.0, -1.75)\"><g><g style=\"fill: #000000;stroke: black;stroke-width: 0.0;\" transform=\"matrix(1.0, 0.0, 0.0, 1.0, 0.0, 0.0)\"><text style=\"text-align:center; text-anchor:middle; dominant-baseline:middle;font-family:sans-serif; font-weight: bold;font-size:0.5px;vector-effect: non-scaling-stroke;\" transform=\"translate(-5e-05, 0)\">b</text></g><g style=\"stroke: black;stroke-width: 1.5;\" transform=\"matrix(1.0, 0.0, 0.0, 1.0, 0.0, 0.0)\"><g /></g></g></g></g></g></g></g><g transform=\"matrix(1.0, 0.0, 0.0, 1.0, 1.5, 0.0)\"><g style=\"stroke: black;stroke-width: 1.5;\" transform=\"matrix(1.0, 0.0, 0.0, 1.0, 0.0, 0.0)\"><g /></g></g></g><g transform=\"matrix(1.0, 0.0, 0.0, 1.0, 3.0, 0.0)\"><g transform=\"matrix(1.0, 0.0, 0.0, 1.0, -0.0, 0.25)\"><g><g transform=\"matrix(1.0, 0.0, 0.0, 1.0, -0.0, -5.5)\"><g><g><g><g><g><g><g><g><g><g><g><g><g /><g><g style=\"stroke: black;stroke-width: 0.75;\" transform=\"matrix(1.0, 0.0, 0.0, 1.0, 0.0, 0.0)\"><rect height=\"1\" style=\"vector-effect: non-scaling-stroke;\" width=\"1\" x=\"-0.5\" y=\"-0.5\" /></g></g></g><g><g style=\"stroke: black;stroke-width: 0.75;\" transform=\"matrix(1.0, 0.0, 0.0, 1.0, 0.0, 1.0)\"><rect height=\"1\" style=\"vector-effect: non-scaling-stroke;\" width=\"1\" x=\"-0.5\" y=\"-0.5\" /></g></g></g><g><g style=\"stroke: black;stroke-width: 0.75;\" transform=\"matrix(1.0, 0.0, 0.0, 1.0, 0.0, 2.0)\"><rect height=\"1\" style=\"vector-effect: non-scaling-stroke;\" width=\"1\" x=\"-0.5\" y=\"-0.5\" /></g></g></g><g><g style=\"stroke: black;stroke-width: 0.75;\" transform=\"matrix(1.0, 0.0, 0.0, 1.0, 0.0, 3.0)\"><rect height=\"1\" style=\"vector-effect: non-scaling-stroke;\" width=\"1\" x=\"-0.5\" y=\"-0.5\" /></g></g></g><g><g style=\"stroke: black;stroke-width: 0.75;\" transform=\"matrix(1.0, 0.0, 0.0, 1.0, 0.0, 4.0)\"><rect height=\"1\" style=\"vector-effect: non-scaling-stroke;\" width=\"1\" x=\"-0.5\" y=\"-0.5\" /></g></g></g><g><g style=\"stroke: black;stroke-width: 0.75;\" transform=\"matrix(1.0, 0.0, 0.0, 1.0, 0.0, 5.0)\"><rect height=\"1\" style=\"vector-effect: non-scaling-stroke;\" width=\"1\" x=\"-0.5\" y=\"-0.5\" /></g></g></g><g><g style=\"stroke: black;stroke-width: 0.75;\" transform=\"matrix(1.0, 0.0, 0.0, 1.0, 0.0, 6.0)\"><rect height=\"1\" style=\"vector-effect: non-scaling-stroke;\" width=\"1\" x=\"-0.5\" y=\"-0.5\" /></g></g></g><g><g style=\"stroke: black;stroke-width: 0.75;\" transform=\"matrix(1.0, 0.0, 0.0, 1.0, 0.0, 7.0)\"><rect height=\"1\" style=\"vector-effect: non-scaling-stroke;\" width=\"1\" x=\"-0.5\" y=\"-0.5\" /></g></g></g><g><g style=\"stroke: black;stroke-width: 0.75;\" transform=\"matrix(1.0, 0.0, 0.0, 1.0, 0.0, 8.0)\"><rect height=\"1\" style=\"vector-effect: non-scaling-stroke;\" width=\"1\" x=\"-0.5\" y=\"-0.5\" /></g></g></g><g><g style=\"stroke: black;stroke-width: 0.75;\" transform=\"matrix(1.0, 0.0, 0.0, 1.0, 0.0, 9.0)\"><rect height=\"1\" style=\"vector-effect: non-scaling-stroke;\" width=\"1\" x=\"-0.5\" y=\"-0.5\" /></g></g></g><g><g style=\"stroke: black;stroke-width: 0.75;\" transform=\"matrix(1.0, 0.0, 0.0, 1.0, 0.0, 10.0)\"><rect height=\"1\" style=\"vector-effect: non-scaling-stroke;\" width=\"1\" x=\"-0.5\" y=\"-0.5\" /></g></g></g><g><g style=\"stroke: black;stroke-width: 0.75;\" transform=\"matrix(1.0, 0.0, 0.0, 1.0, 0.0, 11.0)\"><rect height=\"1\" style=\"vector-effect: non-scaling-stroke;\" width=\"1\" x=\"-0.5\" y=\"-0.5\" /></g></g></g></g><g transform=\"matrix(1.0, 0.0, 0.0, 1.0, -0.0, -6.25)\"><g><g style=\"fill: #000000;stroke: black;stroke-width: 0.0;\" transform=\"matrix(1.0, 0.0, 0.0, 1.0, 0.0, 0.0)\"><text style=\"text-align:center; text-anchor:middle; dominant-baseline:middle;font-family:sans-serif; font-weight: bold;font-size:0.5px;vector-effect: non-scaling-stroke;\" transform=\"translate(-5e-05, 0)\">S0'</text></g><g style=\"stroke: black;stroke-width: 1.5;\" transform=\"matrix(1.0, 0.0, 0.0, 1.0, 0.0, 0.0)\"><g /></g></g></g></g></g></g></g><g transform=\"matrix(1.0, 0.0, 0.0, 1.0, 4.5, 0.0)\"><g style=\"stroke: black;stroke-width: 1.5;\" transform=\"matrix(1.0, 0.0, 0.0, 1.0, 0.0, 0.0)\"><g /></g></g></g><g transform=\"matrix(1.0, 0.0, 0.0, 1.0, 6.0, 0.0)\"><g transform=\"matrix(1.0, 0.0, 0.0, 1.0, -0.0, 0.25)\"><g><g transform=\"matrix(1.0, 0.0, 0.0, 1.0, -0.0, -2.5)\"><g><g><g><g><g><g><g /><g><g style=\"stroke: black;stroke-width: 0.75;\" transform=\"matrix(1.0, 0.0, 0.0, 1.0, 0.0, 0.0)\"><rect height=\"1\" style=\"vector-effect: non-scaling-stroke;\" width=\"1\" x=\"-0.5\" y=\"-0.5\" /></g></g></g><g><g style=\"stroke: black;stroke-width: 0.75;\" transform=\"matrix(1.0, 0.0, 0.0, 1.0, 0.0, 1.0)\"><rect height=\"1\" style=\"vector-effect: non-scaling-stroke;\" width=\"1\" x=\"-0.5\" y=\"-0.5\" /></g></g></g><g><g style=\"stroke: black;stroke-width: 0.75;\" transform=\"matrix(1.0, 0.0, 0.0, 1.0, 0.0, 2.0)\"><rect height=\"1\" style=\"vector-effect: non-scaling-stroke;\" width=\"1\" x=\"-0.5\" y=\"-0.5\" /></g></g></g><g><g style=\"stroke: black;stroke-width: 0.75;\" transform=\"matrix(1.0, 0.0, 0.0, 1.0, 0.0, 3.0)\"><rect height=\"1\" style=\"vector-effect: non-scaling-stroke;\" width=\"1\" x=\"-0.5\" y=\"-0.5\" /></g></g></g><g><g style=\"stroke: black;stroke-width: 0.75;\" transform=\"matrix(1.0, 0.0, 0.0, 1.0, 0.0, 4.0)\"><rect height=\"1\" style=\"vector-effect: non-scaling-stroke;\" width=\"1\" x=\"-0.5\" y=\"-0.5\" /></g></g></g><g><g style=\"stroke: black;stroke-width: 0.75;\" transform=\"matrix(1.0, 0.0, 0.0, 1.0, 0.0, 5.0)\"><rect height=\"1\" style=\"vector-effect: non-scaling-stroke;\" width=\"1\" x=\"-0.5\" y=\"-0.5\" /></g></g></g></g><g transform=\"matrix(1.0, 0.0, 0.0, 1.0, -0.0, -3.25)\"><g><g style=\"fill: #000000;stroke: black;stroke-width: 0.0;\" transform=\"matrix(1.0, 0.0, 0.0, 1.0, 0.0, 0.0)\"><text style=\"text-align:center; text-anchor:middle; dominant-baseline:middle;font-family:sans-serif; font-weight: bold;font-size:0.5px;vector-effect: non-scaling-stroke;\" transform=\"translate(-5e-05, 0)\">out</text></g><g style=\"stroke: black;stroke-width: 1.5;\" transform=\"matrix(1.0, 0.0, 0.0, 1.0, 0.0, 0.0)\"><g /></g></g></g></g></g></g></g><g><g><g><g><g /><g /></g><g /></g><g><g><g /><g><g><g><g /><g style=\"stroke: #ff0000;stroke-width: 0.6;\" transform=\"matrix(-0.9962324484206508, 0.08672317287666127, -0.08672317287666127, -0.9962324484206508, 2.5, -5.25)\"><polyline points=\"0.0,0.0 2.882735856027222,0.0\" style=\"vector-effect: non-scaling-stroke;\" /></g></g><g><g /><g transform=\"matrix(1.0, 0.0, 0.0, 1.0, 3.0, -5.25)\"><g style=\"stroke: #ff0000;stroke-width: 2.25;fill-opacity: 0;\" transform=\"matrix(1.0, 0.0, 0.0, 1.0, 0.0, 0.0)\"><rect height=\"0.95\" style=\"vector-effect: non-scaling-stroke;\" width=\"0.95\" x=\"-0.475\" y=\"-0.475\" /></g></g></g></g><g><g /><g transform=\"matrix(1.0, 0.0, 0.0, 1.0, -0.371875, -5.0)\"><g style=\"fill: #ff0000;stroke: black;stroke-width: 0.6;\" transform=\"matrix(1.0, 0.0, 0.0, 1.0, 0.0, 0.0)\"><circle cx=\"0.0\" cy=\"0.0\" r=\"0.1\" style=\"vector-effect: non-scaling-stroke\" /></g></g></g></g></g><g><g><g><g /><g style=\"stroke: #ff0000;stroke-width: 0.6;\" transform=\"matrix(-0.722266243786354, 0.6916151191860622, -0.6916151191860622, -0.722266243786354, 2.5, 2.75)\"><polyline points=\"0.0,0.0 3.9761999466356066,0.0\" style=\"vector-effect: non-scaling-stroke;\" /></g></g><g><g /><g transform=\"matrix(1.0, 0.0, 0.0, 1.0, 3.0, 2.75)\"><g style=\"stroke: #ff0000;stroke-width: 2.25;fill-opacity: 0;\" transform=\"matrix(1.0, 0.0, 0.0, 1.0, 0.0, 0.0)\"><rect height=\"0.95\" style=\"vector-effect: non-scaling-stroke;\" width=\"0.95\" x=\"-0.475\" y=\"-0.475\" /></g></g></g></g><g><g /><g transform=\"matrix(1.0, 0.0, 0.0, 1.0, -0.371875, 5.5)\"><g style=\"fill: #ff0000;stroke: black;stroke-width: 0.6;\" transform=\"matrix(1.0, 0.0, 0.0, 1.0, 0.0, 0.0)\"><circle cx=\"0.0\" cy=\"0.0\" r=\"0.1\" style=\"vector-effect: non-scaling-stroke\" /></g></g></g></g></g></g><g><g><g><g><g><g><g /><g><g><g><g /><g style=\"stroke: #ff0000;stroke-width: 0.6;\" transform=\"matrix(-0.6915130272903371, -0.7223639893348459, 0.7223639893348459, -0.6915130272903371, 5.5, -2.25)\"><polyline points=\"0.0,0.0 4.153030943253975,0.0\" style=\"vector-effect: non-scaling-stroke;\" /></g></g><g><g /><g transform=\"matrix(1.0, 0.0, 0.0, 1.0, 6.0, -2.25)\"><g style=\"stroke: #ff0000;stroke-width: 2.25;fill-opacity: 0;\" transform=\"matrix(1.0, 0.0, 0.0, 1.0, 0.0, 0.0)\"><rect height=\"0.95\" style=\"vector-effect: non-scaling-stroke;\" width=\"0.95\" x=\"-0.475\" y=\"-0.475\" /></g></g></g></g><g><g /><g transform=\"matrix(1.0, 0.0, 0.0, 1.0, 2.628125, -5.25)\"><g style=\"fill: #ff0000;stroke: black;stroke-width: 0.6;\" transform=\"matrix(1.0, 0.0, 0.0, 1.0, 0.0, 0.0)\"><circle cx=\"0.0\" cy=\"0.0\" r=\"0.1\" style=\"vector-effect: non-scaling-stroke\" /></g></g></g></g></g><g><g><g><g /><g style=\"stroke: #ff0000;stroke-width: 0.6;\" transform=\"matrix(-0.6915130272903374, 0.7223639893348458, -0.7223639893348458, -0.6915130272903374, 5.5, -2.25)\"><polyline points=\"0.0,0.0 4.153030943253975,0.0\" style=\"vector-effect: non-scaling-stroke;\" /></g></g><g><g /><g transform=\"matrix(1.0, 0.0, 0.0, 1.0, 6.0, -2.25)\"><g style=\"stroke: #ff0000;stroke-width: 2.25;fill-opacity: 0;\" transform=\"matrix(1.0, 0.0, 0.0, 1.0, 0.0, 0.0)\"><rect height=\"0.95\" style=\"vector-effect: non-scaling-stroke;\" width=\"0.95\" x=\"-0.475\" y=\"-0.475\" /></g></g></g></g><g><g /><g transform=\"matrix(1.0, 0.0, 0.0, 1.0, 2.628125, 0.75)\"><g style=\"fill: #ff0000;stroke: black;stroke-width: 0.6;\" transform=\"matrix(1.0, 0.0, 0.0, 1.0, 0.0, 0.0)\"><circle cx=\"0.0\" cy=\"0.0\" r=\"0.1\" style=\"vector-effect: non-scaling-stroke\" /></g></g></g></g></g><g><g><g><g /><g style=\"stroke: #ff0000;stroke-width: 0.6;\" transform=\"matrix(-0.820613893520175, -0.5714830161620369, 0.5714830161620369, -0.820613893520175, 5.5, -2.25)\"><polyline points=\"0.0,0.0 3.4996665577773265,0.0\" style=\"vector-effect: non-scaling-stroke;\" /></g></g><g><g /><g transform=\"matrix(1.0, 0.0, 0.0, 1.0, 6.0, -2.25)\"><g style=\"stroke: #ff0000;stroke-width: 2.25;fill-opacity: 0;\" transform=\"matrix(1.0, 0.0, 0.0, 1.0, 0.0, 0.0)\"><rect height=\"0.95\" style=\"vector-effect: non-scaling-stroke;\" width=\"0.95\" x=\"-0.475\" y=\"-0.475\" /></g></g></g></g><g><g /><g transform=\"matrix(1.0, 0.0, 0.0, 1.0, 2.628125, -4.25)\"><g style=\"fill: #ff0000;stroke: black;stroke-width: 0.6;\" transform=\"matrix(1.0, 0.0, 0.0, 1.0, 0.0, 0.0)\"><circle cx=\"0.0\" cy=\"0.0\" r=\"0.1\" style=\"vector-effect: non-scaling-stroke\" /></g></g></g></g></g><g><g><g><g /><g style=\"stroke: #ff0000;stroke-width: 0.6;\" transform=\"matrix(-0.5832175206777018, 0.8123160244477234, -0.8123160244477234, -0.5832175206777018, 5.5, -2.25)\"><polyline points=\"0.0,0.0 4.924191914987169,0.0\" style=\"vector-effect: non-scaling-stroke;\" /></g></g><g><g /><g transform=\"matrix(1.0, 0.0, 0.0, 1.0, 6.0, -2.25)\"><g style=\"stroke: #ff0000;stroke-width: 2.25;fill-opacity: 0;\" transform=\"matrix(1.0, 0.0, 0.0, 1.0, 0.0, 0.0)\"><rect height=\"0.95\" style=\"vector-effect: non-scaling-stroke;\" width=\"0.95\" x=\"-0.475\" y=\"-0.475\" /></g></g></g></g><g><g /><g transform=\"matrix(1.0, 0.0, 0.0, 1.0, 2.628125, 1.75)\"><g style=\"fill: #ff0000;stroke: black;stroke-width: 0.6;\" transform=\"matrix(1.0, 0.0, 0.0, 1.0, 0.0, 0.0)\"><circle cx=\"0.0\" cy=\"0.0\" r=\"0.1\" style=\"vector-effect: non-scaling-stroke\" /></g></g></g></g></g><g><g><g><g /><g style=\"stroke: #ff0000;stroke-width: 0.6;\" transform=\"matrix(-0.9443858358131753, -0.3288394640481134, 0.3288394640481134, -0.9443858358131753, 5.5, -2.25)\"><polyline points=\"0.0,0.0 3.040997536274076,0.0\" style=\"vector-effect: non-scaling-stroke;\" /></g></g><g><g /><g transform=\"matrix(1.0, 0.0, 0.0, 1.0, 6.0, -2.25)\"><g style=\"stroke: #ff0000;stroke-width: 2.25;fill-opacity: 0;\" transform=\"matrix(1.0, 0.0, 0.0, 1.0, 0.0, 0.0)\"><rect height=\"0.95\" style=\"vector-effect: non-scaling-stroke;\" width=\"0.95\" x=\"-0.475\" y=\"-0.475\" /></g></g></g></g><g><g /><g transform=\"matrix(1.0, 0.0, 0.0, 1.0, 2.628125, -3.25)\"><g style=\"fill: #ff0000;stroke: black;stroke-width: 0.6;\" transform=\"matrix(1.0, 0.0, 0.0, 1.0, 0.0, 0.0)\"><circle cx=\"0.0\" cy=\"0.0\" r=\"0.1\" style=\"vector-effect: non-scaling-stroke\" /></g></g></g></g></g><g><g><g><g /><g style=\"stroke: #ff0000;stroke-width: 0.6;\" transform=\"matrix(-0.4980637698500368, 0.8671404045267235, -0.8671404045267235, -0.4980637698500368, 5.5, -2.25)\"><polyline points=\"0.0,0.0 5.766078911671691,0.0\" style=\"vector-effect: non-scaling-stroke;\" /></g></g><g><g /><g transform=\"matrix(1.0, 0.0, 0.0, 1.0, 6.0, -2.25)\"><g style=\"stroke: #ff0000;stroke-width: 2.25;fill-opacity: 0;\" transform=\"matrix(1.0, 0.0, 0.0, 1.0, 0.0, 0.0)\"><rect height=\"0.95\" style=\"vector-effect: non-scaling-stroke;\" width=\"0.95\" x=\"-0.475\" y=\"-0.475\" /></g></g></g></g><g><g /><g transform=\"matrix(1.0, 0.0, 0.0, 1.0, 2.628125, 2.75)\"><g style=\"fill: #ff0000;stroke: black;stroke-width: 0.6;\" transform=\"matrix(1.0, 0.0, 0.0, 1.0, 0.0, 0.0)\"><circle cx=\"0.0\" cy=\"0.0\" r=\"0.1\" style=\"vector-effect: non-scaling-stroke\" /></g></g></g></g></g></g></g><g><g><g><g><g /><g /></g><g /></g><g><g /><g><g><g><g /><g style=\"stroke: #ff7100;stroke-width: 0.6;\" transform=\"matrix(-0.9959391983516669, 0.09002840211088502, -0.09002840211088502, -0.9959391983516669, 2.5, -4.25)\"><polyline points=\"0.0,0.0 2.7769014459690498,0.0\" style=\"vector-effect: non-scaling-stroke;\" /></g></g><g><g /><g transform=\"matrix(1.0, 0.0, 0.0, 1.0, 3.0, -4.25)\"><g style=\"stroke: #ff7100;stroke-width: 2.25;fill-opacity: 0;\" transform=\"matrix(1.0, 0.0, 0.0, 1.0, 0.0, 0.0)\"><rect height=\"0.95\" style=\"vector-effect: non-scaling-stroke;\" width=\"0.95\" x=\"-0.475\" y=\"-0.475\" /></g></g></g></g><g><g /><g transform=\"matrix(1.0, 0.0, 0.0, 1.0, -0.265625, -4.0)\"><g style=\"fill: #ff7100;stroke: black;stroke-width: 0.6;\" transform=\"matrix(1.0, 0.0, 0.0, 1.0, 0.0, 0.0)\"><circle cx=\"0.0\" cy=\"0.0\" r=\"0.1\" style=\"vector-effect: non-scaling-stroke\" /></g></g></g></g></g></g><g><g><g><g><g><g><g /><g><g><g><g /><g style=\"stroke: #ff7100;stroke-width: 0.6;\" transform=\"matrix(-0.6778028147392653, -0.7352437312425922, 0.7352437312425922, -0.6778028147392653, 5.5, -1.25)\"><polyline points=\"0.0,0.0 4.080279603241057,0.0\" style=\"vector-effect: non-scaling-stroke;\" /></g></g><g><g /><g transform=\"matrix(1.0, 0.0, 0.0, 1.0, 6.0, -1.25)\"><g style=\"stroke: #ff7100;stroke-width: 2.25;fill-opacity: 0;\" transform=\"matrix(1.0, 0.0, 0.0, 1.0, 0.0, 0.0)\"><rect height=\"0.95\" style=\"vector-effect: non-scaling-stroke;\" width=\"0.95\" x=\"-0.475\" y=\"-0.475\" /></g></g></g></g><g><g /><g transform=\"matrix(1.0, 0.0, 0.0, 1.0, 2.734375, -4.25)\"><g style=\"fill: #ff7100;stroke: black;stroke-width: 0.6;\" transform=\"matrix(1.0, 0.0, 0.0, 1.0, 0.0, 0.0)\"><circle cx=\"0.0\" cy=\"0.0\" r=\"0.1\" style=\"vector-effect: non-scaling-stroke\" /></g></g></g></g></g><g><g><g><g /><g style=\"stroke: #ff7100;stroke-width: 0.6;\" transform=\"matrix(-0.8103169142757787, 0.5859918928096023, -0.5859918928096023, -0.8103169142757787, 5.5, -1.25)\"><polyline points=\"0.0,0.0 3.413016501663155,0.0\" style=\"vector-effect: non-scaling-stroke;\" /></g></g><g><g /><g transform=\"matrix(1.0, 0.0, 0.0, 1.0, 6.0, -1.25)\"><g style=\"stroke: #ff7100;stroke-width: 2.25;fill-opacity: 0;\" transform=\"matrix(1.0, 0.0, 0.0, 1.0, 0.0, 0.0)\"><rect height=\"0.95\" style=\"vector-effect: non-scaling-stroke;\" width=\"0.95\" x=\"-0.475\" y=\"-0.475\" /></g></g></g></g><g><g /><g transform=\"matrix(1.0, 0.0, 0.0, 1.0, 2.734375, 0.75)\"><g style=\"fill: #ff7100;stroke: black;stroke-width: 0.6;\" transform=\"matrix(1.0, 0.0, 0.0, 1.0, 0.0, 0.0)\"><circle cx=\"0.0\" cy=\"0.0\" r=\"0.1\" style=\"vector-effect: non-scaling-stroke\" /></g></g></g></g></g><g><g><g><g /><g style=\"stroke: #ff7100;stroke-width: 0.6;\" transform=\"matrix(-0.8103169142757786, -0.5859918928096024, 0.5859918928096024, -0.8103169142757786, 5.5, -1.25)\"><polyline points=\"0.0,0.0 3.413016501663155,0.0\" style=\"vector-effect: non-scaling-stroke;\" /></g></g><g><g /><g transform=\"matrix(1.0, 0.0, 0.0, 1.0, 6.0, -1.25)\"><g style=\"stroke: #ff7100;stroke-width: 2.25;fill-opacity: 0;\" transform=\"matrix(1.0, 0.0, 0.0, 1.0, 0.0, 0.0)\"><rect height=\"0.95\" style=\"vector-effect: non-scaling-stroke;\" width=\"0.95\" x=\"-0.475\" y=\"-0.475\" /></g></g></g></g><g><g /><g transform=\"matrix(1.0, 0.0, 0.0, 1.0, 2.734375, -3.25)\"><g style=\"fill: #ff7100;stroke: black;stroke-width: 0.6;\" transform=\"matrix(1.0, 0.0, 0.0, 1.0, 0.0, 0.0)\"><circle cx=\"0.0\" cy=\"0.0\" r=\"0.1\" style=\"vector-effect: non-scaling-stroke\" /></g></g></g></g></g><g><g><g><g /><g style=\"stroke: #ff7100;stroke-width: 0.6;\" transform=\"matrix(-0.6778028147392652, 0.7352437312425923, -0.7352437312425923, -0.6778028147392652, 5.5, -1.25)\"><polyline points=\"0.0,0.0 4.080279603241057,0.0\" style=\"vector-effect: non-scaling-stroke;\" /></g></g><g><g /><g transform=\"matrix(1.0, 0.0, 0.0, 1.0, 6.0, -1.25)\"><g style=\"stroke: #ff7100;stroke-width: 2.25;fill-opacity: 0;\" transform=\"matrix(1.0, 0.0, 0.0, 1.0, 0.0, 0.0)\"><rect height=\"0.95\" style=\"vector-effect: non-scaling-stroke;\" width=\"0.95\" x=\"-0.475\" y=\"-0.475\" /></g></g></g></g><g><g /><g transform=\"matrix(1.0, 0.0, 0.0, 1.0, 2.734375, 1.75)\"><g style=\"fill: #ff7100;stroke: black;stroke-width: 0.6;\" transform=\"matrix(1.0, 0.0, 0.0, 1.0, 0.0, 0.0)\"><circle cx=\"0.0\" cy=\"0.0\" r=\"0.1\" style=\"vector-effect: non-scaling-stroke\" /></g></g></g></g></g><g><g><g><g /><g style=\"stroke: #ff7100;stroke-width: 0.6;\" transform=\"matrix(-0.9404123782004833, -0.340036114151587, 0.340036114151587, -0.9404123782004833, 5.5, -1.25)\"><polyline points=\"0.0,0.0 2.9408640976122986,0.0\" style=\"vector-effect: non-scaling-stroke;\" /></g></g><g><g /><g transform=\"matrix(1.0, 0.0, 0.0, 1.0, 6.0, -1.25)\"><g style=\"stroke: #ff7100;stroke-width: 2.25;fill-opacity: 0;\" transform=\"matrix(1.0, 0.0, 0.0, 1.0, 0.0, 0.0)\"><rect height=\"0.95\" style=\"vector-effect: non-scaling-stroke;\" width=\"0.95\" x=\"-0.475\" y=\"-0.475\" /></g></g></g></g><g><g /><g transform=\"matrix(1.0, 0.0, 0.0, 1.0, 2.734375, -2.25)\"><g style=\"fill: #ff7100;stroke: black;stroke-width: 0.6;\" transform=\"matrix(1.0, 0.0, 0.0, 1.0, 0.0, 0.0)\"><circle cx=\"0.0\" cy=\"0.0\" r=\"0.1\" style=\"vector-effect: non-scaling-stroke\" /></g></g></g></g></g><g><g><g><g /><g style=\"stroke: #ff7100;stroke-width: 0.6;\" transform=\"matrix(-0.5687086383244112, 0.8225390475200518, -0.8225390475200518, -0.5687086383244112, 5.5, -1.25)\"><polyline points=\"0.0,0.0 4.862991017946157,0.0\" style=\"vector-effect: non-scaling-stroke;\" /></g></g><g><g /><g transform=\"matrix(1.0, 0.0, 0.0, 1.0, 6.0, -1.25)\"><g style=\"stroke: #ff7100;stroke-width: 2.25;fill-opacity: 0;\" transform=\"matrix(1.0, 0.0, 0.0, 1.0, 0.0, 0.0)\"><rect height=\"0.95\" style=\"vector-effect: non-scaling-stroke;\" width=\"0.95\" x=\"-0.475\" y=\"-0.475\" /></g></g></g></g><g><g /><g transform=\"matrix(1.0, 0.0, 0.0, 1.0, 2.734375, 2.75)\"><g style=\"fill: #ff7100;stroke: black;stroke-width: 0.6;\" transform=\"matrix(1.0, 0.0, 0.0, 1.0, 0.0, 0.0)\"><circle cx=\"0.0\" cy=\"0.0\" r=\"0.1\" style=\"vector-effect: non-scaling-stroke\" /></g></g></g></g></g></g></g><g><g><g><g><g /><g /></g><g /></g><g><g /><g><g><g><g /><g style=\"stroke: #ffe300;stroke-width: 0.6;\" transform=\"matrix(-0.9956104100697989, 0.09359439812642023, -0.09359439812642023, -0.9956104100697989, 2.5, -3.25)\"><polyline points=\"0.0,0.0 2.6711000338109763,0.0\" style=\"vector-effect: non-scaling-stroke;\" /></g></g><g><g /><g transform=\"matrix(1.0, 0.0, 0.0, 1.0, 3.0, -3.25)\"><g style=\"stroke: #ffe300;stroke-width: 2.25;fill-opacity: 0;\" transform=\"matrix(1.0, 0.0, 0.0, 1.0, 0.0, 0.0)\"><rect height=\"0.95\" style=\"vector-effect: non-scaling-stroke;\" width=\"0.95\" x=\"-0.475\" y=\"-0.475\" /></g></g></g></g><g><g /><g transform=\"matrix(1.0, 0.0, 0.0, 1.0, -0.159375, -3.0)\"><g style=\"fill: #ffe300;stroke: black;stroke-width: 0.6;\" transform=\"matrix(1.0, 0.0, 0.0, 1.0, 0.0, 0.0)\"><circle cx=\"0.0\" cy=\"0.0\" r=\"0.1\" style=\"vector-effect: non-scaling-stroke\" /></g></g></g></g></g></g><g><g><g><g><g><g><g /><g><g><g><g /><g style=\"stroke: #ffe300;stroke-width: 0.6;\" transform=\"matrix(-0.6633471982226026, -0.7483117629773189, 0.7483117629773189, -0.6633471982226026, 5.5, -0.25)\"><polyline points=\"0.0,0.0 4.00902424420519,0.0\" style=\"vector-effect: non-scaling-stroke;\" /></g></g><g><g /><g transform=\"matrix(1.0, 0.0, 0.0, 1.0, 6.0, -0.25)\"><g style=\"stroke: #ffe300;stroke-width: 2.25;fill-opacity: 0;\" transform=\"matrix(1.0, 0.0, 0.0, 1.0, 0.0, 0.0)\"><rect height=\"0.95\" style=\"vector-effect: non-scaling-stroke;\" width=\"0.95\" x=\"-0.475\" y=\"-0.475\" /></g></g></g></g><g><g /><g transform=\"matrix(1.0, 0.0, 0.0, 1.0, 2.840625, -3.25)\"><g style=\"fill: #ffe300;stroke: black;stroke-width: 0.6;\" transform=\"matrix(1.0, 0.0, 0.0, 1.0, 0.0, 0.0)\"><circle cx=\"0.0\" cy=\"0.0\" r=\"0.1\" style=\"vector-effect: non-scaling-stroke\" /></g></g></g></g></g><g><g><g><g /><g style=\"stroke: #ffe300;stroke-width: 0.6;\" transform=\"matrix(-0.9360123886605972, 0.3519670556655597, -0.3519670556655597, -0.9360123886605972, 5.5, -0.25)\"><polyline points=\"0.0,0.0 2.841175001759835,0.0\" style=\"vector-effect: non-scaling-stroke;\" /></g></g><g><g /><g transform=\"matrix(1.0, 0.0, 0.0, 1.0, 6.0, -0.25)\"><g style=\"stroke: #ffe300;stroke-width: 2.25;fill-opacity: 0;\" transform=\"matrix(1.0, 0.0, 0.0, 1.0, 0.0, 0.0)\"><rect height=\"0.95\" style=\"vector-effect: non-scaling-stroke;\" width=\"0.95\" x=\"-0.475\" y=\"-0.475\" /></g></g></g></g><g><g /><g transform=\"matrix(1.0, 0.0, 0.0, 1.0, 2.840625, 0.75)\"><g style=\"fill: #ffe300;stroke: black;stroke-width: 0.6;\" transform=\"matrix(1.0, 0.0, 0.0, 1.0, 0.0, 0.0)\"><circle cx=\"0.0\" cy=\"0.0\" r=\"0.1\" style=\"vector-effect: non-scaling-stroke\" /></g></g></g></g></g><g><g><g><g /><g style=\"stroke: #ffe300;stroke-width: 0.6;\" transform=\"matrix(-0.799210428661254, -0.6010513212023534, 0.6010513212023534, -0.799210428661254, 5.5, -0.25)\"><polyline points=\"0.0,0.0 3.327502876125729,0.0\" style=\"vector-effect: non-scaling-stroke;\" /></g></g><g><g /><g transform=\"matrix(1.0, 0.0, 0.0, 1.0, 6.0, -0.25)\"><g style=\"stroke: #ffe300;stroke-width: 2.25;fill-opacity: 0;\" transform=\"matrix(1.0, 0.0, 0.0, 1.0, 0.0, 0.0)\"><rect height=\"0.95\" style=\"vector-effect: non-scaling-stroke;\" width=\"0.95\" x=\"-0.475\" y=\"-0.475\" /></g></g></g></g><g><g /><g transform=\"matrix(1.0, 0.0, 0.0, 1.0, 2.840625, -2.25)\"><g style=\"fill: #ffe300;stroke: black;stroke-width: 0.6;\" transform=\"matrix(1.0, 0.0, 0.0, 1.0, 0.0, 0.0)\"><circle cx=\"0.0\" cy=\"0.0\" r=\"0.1\" style=\"vector-effect: non-scaling-stroke\" /></g></g></g></g></g><g><g><g><g /><g style=\"stroke: #ffe300;stroke-width: 0.6;\" transform=\"matrix(-0.7992104286612541, 0.6010513212023533, -0.6010513212023533, -0.7992104286612541, 5.5, -0.25)\"><polyline points=\"0.0,0.0 3.327502876125729,0.0\" style=\"vector-effect: non-scaling-stroke;\" /></g></g><g><g /><g transform=\"matrix(1.0, 0.0, 0.0, 1.0, 6.0, -0.25)\"><g style=\"stroke: #ffe300;stroke-width: 2.25;fill-opacity: 0;\" transform=\"matrix(1.0, 0.0, 0.0, 1.0, 0.0, 0.0)\"><rect height=\"0.95\" style=\"vector-effect: non-scaling-stroke;\" width=\"0.95\" x=\"-0.475\" y=\"-0.475\" /></g></g></g></g><g><g /><g transform=\"matrix(1.0, 0.0, 0.0, 1.0, 2.840625, 1.75)\"><g style=\"fill: #ffe300;stroke: black;stroke-width: 0.6;\" transform=\"matrix(1.0, 0.0, 0.0, 1.0, 0.0, 0.0)\"><circle cx=\"0.0\" cy=\"0.0\" r=\"0.1\" style=\"vector-effect: non-scaling-stroke\" /></g></g></g></g></g><g><g><g><g /><g style=\"stroke: #ffe300;stroke-width: 0.6;\" transform=\"matrix(-0.9360123886605972, -0.35196705566555947, 0.35196705566555947, -0.9360123886605972, 5.5, -0.25)\"><polyline points=\"0.0,0.0 2.841175001759835,0.0\" style=\"vector-effect: non-scaling-stroke;\" /></g></g><g><g /><g transform=\"matrix(1.0, 0.0, 0.0, 1.0, 6.0, -0.25)\"><g style=\"stroke: #ffe300;stroke-width: 2.25;fill-opacity: 0;\" transform=\"matrix(1.0, 0.0, 0.0, 1.0, 0.0, 0.0)\"><rect height=\"0.95\" style=\"vector-effect: non-scaling-stroke;\" width=\"0.95\" x=\"-0.475\" y=\"-0.475\" /></g></g></g></g><g><g /><g transform=\"matrix(1.0, 0.0, 0.0, 1.0, 2.840625, -1.25)\"><g style=\"fill: #ffe300;stroke: black;stroke-width: 0.6;\" transform=\"matrix(1.0, 0.0, 0.0, 1.0, 0.0, 0.0)\"><circle cx=\"0.0\" cy=\"0.0\" r=\"0.1\" style=\"vector-effect: non-scaling-stroke\" /></g></g></g></g></g><g><g><g><g /><g style=\"stroke: #ffe300;stroke-width: 0.6;\" transform=\"matrix(-0.6633471982226028, 0.7483117629773188, -0.7483117629773188, -0.6633471982226028, 5.5, -0.25)\"><polyline points=\"0.0,0.0 4.00902424420519,0.0\" style=\"vector-effect: non-scaling-stroke;\" /></g></g><g><g /><g transform=\"matrix(1.0, 0.0, 0.0, 1.0, 6.0, -0.25)\"><g style=\"stroke: #ffe300;stroke-width: 2.25;fill-opacity: 0;\" transform=\"matrix(1.0, 0.0, 0.0, 1.0, 0.0, 0.0)\"><rect height=\"0.95\" style=\"vector-effect: non-scaling-stroke;\" width=\"0.95\" x=\"-0.475\" y=\"-0.475\" /></g></g></g></g><g><g /><g transform=\"matrix(1.0, 0.0, 0.0, 1.0, 2.840625, 2.75)\"><g style=\"fill: #ffe300;stroke: black;stroke-width: 0.6;\" transform=\"matrix(1.0, 0.0, 0.0, 1.0, 0.0, 0.0)\"><circle cx=\"0.0\" cy=\"0.0\" r=\"0.1\" style=\"vector-effect: non-scaling-stroke\" /></g></g></g></g></g></g></g><g><g><g><g><g /><g /></g><g /></g><g><g /><g><g><g><g /><g style=\"stroke: #aaff00;stroke-width: 0.6;\" transform=\"matrix(-0.995240115235498, 0.09745313245880026, -0.09745313245880026, -0.995240115235498, 2.5, -2.25)\"><polyline points=\"0.0,0.0 2.5653357023253314,0.0\" style=\"vector-effect: non-scaling-stroke;\" /></g></g><g><g /><g transform=\"matrix(1.0, 0.0, 0.0, 1.0, 3.0, -2.25)\"><g style=\"stroke: #aaff00;stroke-width: 2.25;fill-opacity: 0;\" transform=\"matrix(1.0, 0.0, 0.0, 1.0, 0.0, 0.0)\"><rect height=\"0.95\" style=\"vector-effect: non-scaling-stroke;\" width=\"0.95\" x=\"-0.475\" y=\"-0.475\" /></g></g></g></g><g><g /><g transform=\"matrix(1.0, 0.0, 0.0, 1.0, -0.053125, -2.0)\"><g style=\"fill: #aaff00;stroke: black;stroke-width: 0.6;\" transform=\"matrix(1.0, 0.0, 0.0, 1.0, 0.0, 0.0)\"><circle cx=\"0.0\" cy=\"0.0\" r=\"0.1\" style=\"vector-effect: non-scaling-stroke\" /></g></g></g></g></g></g><g><g><g><g><g><g><g /><g><g><g><g /><g style=\"stroke: #aaff00;stroke-width: 0.6;\" transform=\"matrix(-0.6481088410507884, -0.7615477202065567, 0.7615477202065567, -0.6481088410507884, 5.5, 0.75)\"><polyline points=\"0.0,0.0 3.939346045427464,0.0\" style=\"vector-effect: non-scaling-stroke;\" /></g></g><g><g /><g transform=\"matrix(1.0, 0.0, 0.0, 1.0, 6.0, 0.75)\"><g style=\"stroke: #aaff00;stroke-width: 2.25;fill-opacity: 0;\" transform=\"matrix(1.0, 0.0, 0.0, 1.0, 0.0, 0.0)\"><rect height=\"0.95\" style=\"vector-effect: non-scaling-stroke;\" width=\"0.95\" x=\"-0.475\" y=\"-0.475\" /></g></g></g></g><g><g /><g transform=\"matrix(1.0, 0.0, 0.0, 1.0, 2.946875, -2.25)\"><g style=\"fill: #aaff00;stroke: black;stroke-width: 0.6;\" transform=\"matrix(1.0, 0.0, 0.0, 1.0, 0.0, 0.0)\"><circle cx=\"0.0\" cy=\"0.0\" r=\"0.1\" style=\"vector-effect: non-scaling-stroke\" /></g></g></g></g></g><g><g><g><g /><g style=\"stroke: #aaff00;stroke-width: 0.6;\" transform=\"matrix(-1.0, 0.0, 0.0, -1.0, 5.5, 0.75)\"><polyline points=\"0.0,0.0 2.553125,0.0\" style=\"vector-effect: non-scaling-stroke;\" /></g></g><g><g /><g transform=\"matrix(1.0, 0.0, 0.0, 1.0, 6.0, 0.75)\"><g style=\"stroke: #aaff00;stroke-width: 2.25;fill-opacity: 0;\" transform=\"matrix(1.0, 0.0, 0.0, 1.0, 0.0, 0.0)\"><rect height=\"0.95\" style=\"vector-effect: non-scaling-stroke;\" width=\"0.95\" x=\"-0.475\" y=\"-0.475\" /></g></g></g></g><g><g /><g transform=\"matrix(1.0, 0.0, 0.0, 1.0, 2.946875, 0.75)\"><g style=\"fill: #aaff00;stroke: black;stroke-width: 0.6;\" transform=\"matrix(1.0, 0.0, 0.0, 1.0, 0.0, 0.0)\"><circle cx=\"0.0\" cy=\"0.0\" r=\"0.1\" style=\"vector-effect: non-scaling-stroke\" /></g></g></g></g></g><g><g><g><g /><g style=\"stroke: #aaff00;stroke-width: 0.6;\" transform=\"matrix(-0.7872202574866198, -0.6166719275292982, 0.6166719275292982, -0.7872202574866198, 5.5, 0.75)\"><polyline points=\"0.0,0.0 3.2432155749541227,0.0\" style=\"vector-effect: non-scaling-stroke;\" /></g></g><g><g /><g transform=\"matrix(1.0, 0.0, 0.0, 1.0, 6.0, 0.75)\"><g style=\"stroke: #aaff00;stroke-width: 2.25;fill-opacity: 0;\" transform=\"matrix(1.0, 0.0, 0.0, 1.0, 0.0, 0.0)\"><rect height=\"0.95\" style=\"vector-effect: non-scaling-stroke;\" width=\"0.95\" x=\"-0.475\" y=\"-0.475\" /></g></g></g></g><g><g /><g transform=\"matrix(1.0, 0.0, 0.0, 1.0, 2.946875, -1.25)\"><g style=\"fill: #aaff00;stroke: black;stroke-width: 0.6;\" transform=\"matrix(1.0, 0.0, 0.0, 1.0, 0.0, 0.0)\"><circle cx=\"0.0\" cy=\"0.0\" r=\"0.1\" style=\"vector-effect: non-scaling-stroke\" /></g></g></g></g></g><g><g><g><g /><g style=\"stroke: #aaff00;stroke-width: 0.6;\" transform=\"matrix(-0.9311250256511631, 0.3647001324459876, -0.3647001324459876, -0.9311250256511631, 5.5, 0.75)\"><polyline points=\"0.0,0.0 2.7419787135616134,0.0\" style=\"vector-effect: non-scaling-stroke;\" /></g></g><g><g /><g transform=\"matrix(1.0, 0.0, 0.0, 1.0, 6.0, 0.75)\"><g style=\"stroke: #aaff00;stroke-width: 2.25;fill-opacity: 0;\" transform=\"matrix(1.0, 0.0, 0.0, 1.0, 0.0, 0.0)\"><rect height=\"0.95\" style=\"vector-effect: non-scaling-stroke;\" width=\"0.95\" x=\"-0.475\" y=\"-0.475\" /></g></g></g></g><g><g /><g transform=\"matrix(1.0, 0.0, 0.0, 1.0, 2.946875, 1.75)\"><g style=\"fill: #aaff00;stroke: black;stroke-width: 0.6;\" transform=\"matrix(1.0, 0.0, 0.0, 1.0, 0.0, 0.0)\"><circle cx=\"0.0\" cy=\"0.0\" r=\"0.1\" style=\"vector-effect: non-scaling-stroke\" /></g></g></g></g></g><g><g><g><g /><g style=\"stroke: #aaff00;stroke-width: 0.6;\" transform=\"matrix(-0.9311250256511632, -0.36470013244598737, 0.36470013244598737, -0.9311250256511632, 5.5, 0.75)\"><polyline points=\"0.0,0.0 2.7419787135616134,0.0\" style=\"vector-effect: non-scaling-stroke;\" /></g></g><g><g /><g transform=\"matrix(1.0, 0.0, 0.0, 1.0, 6.0, 0.75)\"><g style=\"stroke: #aaff00;stroke-width: 2.25;fill-opacity: 0;\" transform=\"matrix(1.0, 0.0, 0.0, 1.0, 0.0, 0.0)\"><rect height=\"0.95\" style=\"vector-effect: non-scaling-stroke;\" width=\"0.95\" x=\"-0.475\" y=\"-0.475\" /></g></g></g></g><g><g /><g transform=\"matrix(1.0, 0.0, 0.0, 1.0, 2.946875, -0.25)\"><g style=\"fill: #aaff00;stroke: black;stroke-width: 0.6;\" transform=\"matrix(1.0, 0.0, 0.0, 1.0, 0.0, 0.0)\"><circle cx=\"0.0\" cy=\"0.0\" r=\"0.1\" style=\"vector-effect: non-scaling-stroke\" /></g></g></g></g></g><g><g><g><g /><g style=\"stroke: #aaff00;stroke-width: 0.6;\" transform=\"matrix(-0.7872202574866197, 0.6166719275292983, -0.6166719275292983, -0.7872202574866197, 5.5, 0.75)\"><polyline points=\"0.0,0.0 3.2432155749541227,0.0\" style=\"vector-effect: non-scaling-stroke;\" /></g></g><g><g /><g transform=\"matrix(1.0, 0.0, 0.0, 1.0, 6.0, 0.75)\"><g style=\"stroke: #aaff00;stroke-width: 2.25;fill-opacity: 0;\" transform=\"matrix(1.0, 0.0, 0.0, 1.0, 0.0, 0.0)\"><rect height=\"0.95\" style=\"vector-effect: non-scaling-stroke;\" width=\"0.95\" x=\"-0.475\" y=\"-0.475\" /></g></g></g></g><g><g /><g transform=\"matrix(1.0, 0.0, 0.0, 1.0, 2.946875, 2.75)\"><g style=\"fill: #aaff00;stroke: black;stroke-width: 0.6;\" transform=\"matrix(1.0, 0.0, 0.0, 1.0, 0.0, 0.0)\"><circle cx=\"0.0\" cy=\"0.0\" r=\"0.1\" style=\"vector-effect: non-scaling-stroke\" /></g></g></g></g></g></g></g><g><g><g><g><g /><g /></g><g /></g><g><g /><g><g><g><g /><g style=\"stroke: #39ff00;stroke-width: 0.6;\" transform=\"matrix(-0.9948210414605265, 0.10164199657323385, -0.10164199657323385, -0.9948210414605265, 2.5, -1.25)\"><polyline points=\"0.0,0.0 2.4596132349670343,0.0\" style=\"vector-effect: non-scaling-stroke;\" /></g></g><g><g /><g transform=\"matrix(1.0, 0.0, 0.0, 1.0, 3.0, -1.25)\"><g style=\"stroke: #39ff00;stroke-width: 2.25;fill-opacity: 0;\" transform=\"matrix(1.0, 0.0, 0.0, 1.0, 0.0, 0.0)\"><rect height=\"0.95\" style=\"vector-effect: non-scaling-stroke;\" width=\"0.95\" x=\"-0.475\" y=\"-0.475\" /></g></g></g></g><g><g /><g transform=\"matrix(1.0, 0.0, 0.0, 1.0, 0.053125, -1.0)\"><g style=\"fill: #39ff00;stroke: black;stroke-width: 0.6;\" transform=\"matrix(1.0, 0.0, 0.0, 1.0, 0.0, 0.0)\"><circle cx=\"0.0\" cy=\"0.0\" r=\"0.1\" style=\"vector-effect: non-scaling-stroke\" /></g></g></g></g></g></g><g><g><g><g><g /><g><g><g><g /><g style=\"stroke: #39ff00;stroke-width: 0.6;\" transform=\"matrix(-0.6320501982898684, -0.7749274461791491, 0.7749274461791491, -0.6320501982898684, 5.5, 1.75)\"><polyline points=\"0.0,0.0 3.871330167477969,0.0\" style=\"vector-effect: non-scaling-stroke;\" /></g></g><g><g /><g transform=\"matrix(1.0, 0.0, 0.0, 1.0, 6.0, 1.75)\"><g style=\"stroke: #39ff00;stroke-width: 2.25;fill-opacity: 0;\" transform=\"matrix(1.0, 0.0, 0.0, 1.0, 0.0, 0.0)\"><rect height=\"0.95\" style=\"vector-effect: non-scaling-stroke;\" width=\"0.95\" x=\"-0.475\" y=\"-0.475\" /></g></g></g></g><g><g /><g transform=\"matrix(1.0, 0.0, 0.0, 1.0, 3.053125, -1.25)\"><g style=\"fill: #39ff00;stroke: black;stroke-width: 0.6;\" transform=\"matrix(1.0, 0.0, 0.0, 1.0, 0.0, 0.0)\"><circle cx=\"0.0\" cy=\"0.0\" r=\"0.1\" style=\"vector-effect: non-scaling-stroke\" /></g></g></g></g></g><g><g><g><g /><g style=\"stroke: #39ff00;stroke-width: 0.6;\" transform=\"matrix(-0.9256787229390862, -0.37831058919605, 0.37831058919605, -0.9256787229390862, 5.5, 1.75)\"><polyline points=\"0.0,0.0 2.6433307143876266,0.0\" style=\"vector-effect: non-scaling-stroke;\" /></g></g><g><g /><g transform=\"matrix(1.0, 0.0, 0.0, 1.0, 6.0, 1.75)\"><g style=\"stroke: #39ff00;stroke-width: 2.25;fill-opacity: 0;\" transform=\"matrix(1.0, 0.0, 0.0, 1.0, 0.0, 0.0)\"><rect height=\"0.95\" style=\"vector-effect: non-scaling-stroke;\" width=\"0.95\" x=\"-0.475\" y=\"-0.475\" /></g></g></g></g><g><g /><g transform=\"matrix(1.0, 0.0, 0.0, 1.0, 3.053125, 0.75)\"><g style=\"fill: #39ff00;stroke: black;stroke-width: 0.6;\" transform=\"matrix(1.0, 0.0, 0.0, 1.0, 0.0, 0.0)\"><circle cx=\"0.0\" cy=\"0.0\" r=\"0.1\" style=\"vector-effect: non-scaling-stroke\" /></g></g></g></g></g><g><g><g><g /><g style=\"stroke: #39ff00;stroke-width: 0.6;\" transform=\"matrix(-0.7742656095581771, -0.6328607792046401, 0.6328607792046401, -0.7742656095581771, 5.5, 1.75)\"><polyline points=\"0.0,0.0 3.160252721796945,0.0\" style=\"vector-effect: non-scaling-stroke;\" /></g></g><g><g /><g transform=\"matrix(1.0, 0.0, 0.0, 1.0, 6.0, 1.75)\"><g style=\"stroke: #39ff00;stroke-width: 2.25;fill-opacity: 0;\" transform=\"matrix(1.0, 0.0, 0.0, 1.0, 0.0, 0.0)\"><rect height=\"0.95\" style=\"vector-effect: non-scaling-stroke;\" width=\"0.95\" x=\"-0.475\" y=\"-0.475\" /></g></g></g></g><g><g /><g transform=\"matrix(1.0, 0.0, 0.0, 1.0, 3.053125, -0.25)\"><g style=\"fill: #39ff00;stroke: black;stroke-width: 0.6;\" transform=\"matrix(1.0, 0.0, 0.0, 1.0, 0.0, 0.0)\"><circle cx=\"0.0\" cy=\"0.0\" r=\"0.1\" style=\"vector-effect: non-scaling-stroke\" /></g></g></g></g></g><g><g><g><g /><g style=\"stroke: #39ff00;stroke-width: 0.6;\" transform=\"matrix(-1.0, 0.0, 0.0, -1.0, 5.5, 1.75)\"><polyline points=\"0.0,0.0 2.446875,0.0\" style=\"vector-effect: non-scaling-stroke;\" /></g></g><g><g /><g transform=\"matrix(1.0, 0.0, 0.0, 1.0, 6.0, 1.75)\"><g style=\"stroke: #39ff00;stroke-width: 2.25;fill-opacity: 0;\" transform=\"matrix(1.0, 0.0, 0.0, 1.0, 0.0, 0.0)\"><rect height=\"0.95\" style=\"vector-effect: non-scaling-stroke;\" width=\"0.95\" x=\"-0.475\" y=\"-0.475\" /></g></g></g></g><g><g /><g transform=\"matrix(1.0, 0.0, 0.0, 1.0, 3.053125, 1.75)\"><g style=\"fill: #39ff00;stroke: black;stroke-width: 0.6;\" transform=\"matrix(1.0, 0.0, 0.0, 1.0, 0.0, 0.0)\"><circle cx=\"0.0\" cy=\"0.0\" r=\"0.1\" style=\"vector-effect: non-scaling-stroke\" /></g></g></g></g></g></g></g><g><g><g><g><g /><g /></g><g /></g><g><g /><g><g><g><g /><g style=\"stroke: #00ff39;stroke-width: 0.6;\" transform=\"matrix(-0.9943442559088385, 0.10620499395554979, -0.10620499395554979, -0.9943442559088385, 2.5, -0.25)\"><polyline points=\"0.0,0.0 2.3539382724755127,0.0\" style=\"vector-effect: non-scaling-stroke;\" /></g></g><g><g /><g transform=\"matrix(1.0, 0.0, 0.0, 1.0, 3.0, -0.25)\"><g style=\"stroke: #00ff39;stroke-width: 2.25;fill-opacity: 0;\" transform=\"matrix(1.0, 0.0, 0.0, 1.0, 0.0, 0.0)\"><rect height=\"0.95\" style=\"vector-effect: non-scaling-stroke;\" width=\"0.95\" x=\"-0.475\" y=\"-0.475\" /></g></g></g></g><g><g /><g transform=\"matrix(1.0, 0.0, 0.0, 1.0, 0.159375, 0.0)\"><g style=\"fill: #00ff39;stroke: black;stroke-width: 0.6;\" transform=\"matrix(1.0, 0.0, 0.0, 1.0, 0.0, 0.0)\"><circle cx=\"0.0\" cy=\"0.0\" r=\"0.1\" style=\"vector-effect: non-scaling-stroke\" /></g></g></g></g></g></g><g><g><g /><g><g><g><g /><g style=\"stroke: #00ff39;stroke-width: 0.6;\" transform=\"matrix(-0.6151339165878836, -0.7884226434237227, 0.7884226434237227, -0.6151339165878836, 5.5, 2.75)\"><polyline points=\"0.0,0.0 3.8050657537846835,0.0\" style=\"vector-effect: non-scaling-stroke;\" /></g></g><g><g /><g transform=\"matrix(1.0, 0.0, 0.0, 1.0, 6.0, 2.75)\"><g style=\"stroke: #00ff39;stroke-width: 2.25;fill-opacity: 0;\" transform=\"matrix(1.0, 0.0, 0.0, 1.0, 0.0, 0.0)\"><rect height=\"0.95\" style=\"vector-effect: non-scaling-stroke;\" width=\"0.95\" x=\"-0.475\" y=\"-0.475\" /></g></g></g></g><g><g /><g transform=\"matrix(1.0, 0.0, 0.0, 1.0, 3.159375, -0.25)\"><g style=\"fill: #00ff39;stroke: black;stroke-width: 0.6;\" transform=\"matrix(1.0, 0.0, 0.0, 1.0, 0.0, 0.0)\"><circle cx=\"0.0\" cy=\"0.0\" r=\"0.1\" style=\"vector-effect: non-scaling-stroke\" /></g></g></g></g></g><g><g><g><g /><g style=\"stroke: #00ff39;stroke-width: 0.6;\" transform=\"matrix(-0.7602587906849181, -0.6496203284891152, 0.6496203284891152, -0.7602587906849181, 5.5, 2.75)\"><polyline points=\"0.0,0.0 3.0787213889251173,0.0\" style=\"vector-effect: non-scaling-stroke;\" /></g></g><g><g /><g transform=\"matrix(1.0, 0.0, 0.0, 1.0, 6.0, 2.75)\"><g style=\"stroke: #00ff39;stroke-width: 2.25;fill-opacity: 0;\" transform=\"matrix(1.0, 0.0, 0.0, 1.0, 0.0, 0.0)\"><rect height=\"0.95\" style=\"vector-effect: non-scaling-stroke;\" width=\"0.95\" x=\"-0.475\" y=\"-0.475\" /></g></g></g></g><g><g /><g transform=\"matrix(1.0, 0.0, 0.0, 1.0, 3.159375, 0.75)\"><g style=\"fill: #00ff39;stroke: black;stroke-width: 0.6;\" transform=\"matrix(1.0, 0.0, 0.0, 1.0, 0.0, 0.0)\"><circle cx=\"0.0\" cy=\"0.0\" r=\"0.1\" style=\"vector-effect: non-scaling-stroke\" /></g></g></g></g></g></g></g><g><g><g><g><g /><g /></g><g /></g><g><g /><g><g><g><g /><g style=\"stroke: #00ffaa;stroke-width: 0.6;\" transform=\"matrix(-0.6305926250944659, 0.7761140001162654, -0.7761140001162654, -0.6305926250944659, 2.5, 0.75)\"><polyline points=\"0.0,0.0 3.543293897015177,0.0\" style=\"vector-effect: non-scaling-stroke;\" /></g></g><g><g /><g transform=\"matrix(1.0, 0.0, 0.0, 1.0, 3.0, 0.75)\"><g style=\"stroke: #00ffaa;stroke-width: 2.25;fill-opacity: 0;\" transform=\"matrix(1.0, 0.0, 0.0, 1.0, 0.0, 0.0)\"><rect height=\"0.95\" style=\"vector-effect: non-scaling-stroke;\" width=\"0.95\" x=\"-0.475\" y=\"-0.475\" /></g></g></g></g><g><g /><g transform=\"matrix(1.0, 0.0, 0.0, 1.0, 0.265625, 3.5)\"><g style=\"fill: #00ffaa;stroke: black;stroke-width: 0.6;\" transform=\"matrix(1.0, 0.0, 0.0, 1.0, 0.0, 0.0)\"><circle cx=\"0.0\" cy=\"0.0\" r=\"0.1\" style=\"vector-effect: non-scaling-stroke\" /></g></g></g></g></g></g><g /></g></g><g><g><g><g><g /><g /></g><g /></g><g><g /><g><g><g><g /><g style=\"stroke: #00e3ff;stroke-width: 0.6;\" transform=\"matrix(-0.6120100469811626, 0.7908499872884334, -0.7908499872884334, -0.6120100469811626, 2.5, 1.75)\"><polyline points=\"0.0,0.0 3.4772713462749785,0.0\" style=\"vector-effect: non-scaling-stroke;\" /></g></g><g><g /><g transform=\"matrix(1.0, 0.0, 0.0, 1.0, 3.0, 1.75)\"><g style=\"stroke: #00e3ff;stroke-width: 2.25;fill-opacity: 0;\" transform=\"matrix(1.0, 0.0, 0.0, 1.0, 0.0, 0.0)\"><rect height=\"0.95\" style=\"vector-effect: non-scaling-stroke;\" width=\"0.95\" x=\"-0.475\" y=\"-0.475\" /></g></g></g></g><g><g /><g transform=\"matrix(1.0, 0.0, 0.0, 1.0, 0.371875, 4.5)\"><g style=\"fill: #00e3ff;stroke: black;stroke-width: 0.6;\" transform=\"matrix(1.0, 0.0, 0.0, 1.0, 0.0, 0.0)\"><circle cx=\"0.0\" cy=\"0.0\" r=\"0.1\" style=\"vector-effect: non-scaling-stroke\" /></g></g></g></g></g></g><g /></g></g></g><g transform=\"matrix(1.0, 0.0, 0.0, 1.0, -0.0, -7.0001)\"><g><g><g style=\"stroke: black;stroke-width: 1.5;\" transform=\"matrix(1.0, 0.0, 0.0, 1.0, 0.0, 0.0)\"><g /></g><g transform=\"matrix(1.0, 0.0, 0.0, 1.0, 0.0, 0.25)\"><g style=\"fill: #000000;stroke: black;stroke-width: 0.0;\" transform=\"matrix(1.0, 0.0, 0.0, 1.0, 0.0, 0.0)\"><text style=\"text-align:center; text-anchor:middle; dominant-baseline:middle;font-family:sans-serif; font-weight: bold;font-size:0.5px;vector-effect: non-scaling-stroke;\" transform=\"translate(-5e-05, 0)\">Block 0 0</text></g></g></g><g transform=\"matrix(1.0, 0.0, 0.0, 1.0, 0.0, 0.5001)\"><g style=\"stroke: black;stroke-width: 1.5;\" transform=\"matrix(1.0, 0.0, 0.0, 1.0, 0.0, 0.0)\"><g /></g></g></g></g></g></g></g></g><g transform=\"matrix(1.0, 0.0, 0.0, 1.0, 8.0, 0.0)\"><g style=\"stroke: black;stroke-width: 1.5;\" transform=\"matrix(1.0, 0.0, 0.0, 1.0, 0.0, 0.0)\"><g /></g></g></g></g><g /></g><g style=\"stroke: #808080;stroke-width: 1.5;fill-opacity: 0.0;\" transform=\"matrix(1.0, 0.0, 0.0, 1.0, 0.0, 0.0)\"><rect height=\"16.20012\" rx=\"0.5\" ry=\"0.5\" style=\"vector-effect: non-scaling-stroke;\" width=\"10.799999999999999\" x=\"-5.3999999999999995\" y=\"-8.10006\" /></g></g><g /></g></g></g></g></g></g><g /></g></g></g></g><g /></g></g></g></g></svg>"
          },
          "metadata": {},
          "execution_count": 7
        }
      ],
      "source": [
        "def conv_spec(a, b):\n",
        "    out = np.zeros(*a.shape)\n",
        "    len = b.shape[0]\n",
        "    for i in range(a.shape[0]):\n",
        "        out[i] = sum([a[i + j] * b[j] for j in range(len) if i + j < a.shape[0]])\n",
        "    return out\n",
        "\n",
        "\n",
        "MAX_CONV = 4\n",
        "TPB = 8\n",
        "TPB_MAX_CONV = TPB + MAX_CONV\n",
        "def conv_test(cuda):\n",
        "    def call(out, a, b, a_size, b_size) -> None:\n",
        "        shared = cuda.shared.array(TPB_MAX_CONV, numba.float32)\n",
        "        i = cuda.blockIdx.x * cuda.blockDim.x + cuda.threadIdx.x\n",
        "        local_i = cuda.threadIdx.x\n",
        "        a_b_size = min(a_size - cuda.blockIdx.x * TPB, TPB)\n",
        "        if local_i < a_b_size:\n",
        "          shared[local_i] = a[i]\n",
        "        # load b\n",
        "        elif local_i < a_b_size + b_size:\n",
        "          shared[local_i] = b[local_i - a_b_size]\n",
        "        # load remaining b\n",
        "        b_rem = a_b_size + b_size - TPB\n",
        "        if local_i < b_rem:\n",
        "          shared[local_i + a_b_size + b_size - b_rem ] = b[b_size - b_rem + local_i]\n",
        "        cuda.syncthreads()\n",
        "        if local_i < a_size - cuda.blockIdx.x * TPB:\n",
        "          acc = 0.0\n",
        "          for k in range(local_i, min(a_b_size, local_i+b_size)):\n",
        "            acc += shared[k] * shared[k - local_i + a_b_size]\n",
        "          out[i] = acc\n",
        "\n",
        "        # FILL ME IN (roughly 17 lines)\n",
        "\n",
        "\n",
        "    return call\n",
        "\n",
        "\n",
        "# Test 1\n",
        "\n",
        "SIZE = 6\n",
        "CONV = 3\n",
        "out = np.zeros(SIZE)\n",
        "a = np.arange(SIZE)\n",
        "b = np.arange(CONV)\n",
        "problem = CudaProblem(\n",
        "    \"1D Conv (Simple)\",\n",
        "    conv_test,\n",
        "    [a, b],\n",
        "    out,\n",
        "    [SIZE, CONV],\n",
        "    Coord(1, 1),\n",
        "    Coord(TPB, 1),\n",
        "    spec=conv_spec,\n",
        ")\n",
        "problem.show()"
      ]
    },
    {
      "cell_type": "code",
      "source": [],
      "metadata": {
        "id": "HBMTxA6IwTD3"
      },
      "id": "HBMTxA6IwTD3",
      "execution_count": null,
      "outputs": []
    },
    {
      "cell_type": "code",
      "source": [],
      "metadata": {
        "id": "pUUUvIpDwTSM"
      },
      "id": "pUUUvIpDwTSM",
      "execution_count": null,
      "outputs": []
    },
    {
      "cell_type": "code",
      "execution_count": 8,
      "id": "ffb88cd0",
      "metadata": {
        "execution": {
          "iopub.execute_input": "2022-08-07T21:24:43.329452Z",
          "iopub.status.busy": "2022-08-07T21:24:43.328685Z",
          "iopub.status.idle": "2022-08-07T21:24:43.368279Z",
          "shell.execute_reply": "2022-08-07T21:24:43.367480Z"
        },
        "id": "ffb88cd0",
        "outputId": "f3c7fa67-ff61-490b-a8f6-7270d5c0bc0a",
        "colab": {
          "base_uri": "https://localhost:8080/",
          "height": 657
        }
      },
      "outputs": [
        {
          "output_type": "error",
          "ename": "CudaSupportError",
          "evalue": "Error at driver init: \n\nCUDA driver library cannot be found.\nIf you are sure that a CUDA driver is installed,\ntry setting environment variable NUMBA_CUDA_DRIVER\nwith the file path of the CUDA driver shared library.\n:",
          "traceback": [
            "\u001b[0;31m---------------------------------------------------------------------------\u001b[0m",
            "\u001b[0;31mCudaSupportError\u001b[0m                          Traceback (most recent call last)",
            "\u001b[0;32m/tmp/ipython-input-8-1697992962.py\u001b[0m in \u001b[0;36m<cell line: 0>\u001b[0;34m()\u001b[0m\n\u001b[0;32m----> 1\u001b[0;31m \u001b[0mproblem\u001b[0m\u001b[0;34m.\u001b[0m\u001b[0mcheck\u001b[0m\u001b[0;34m(\u001b[0m\u001b[0;34m)\u001b[0m\u001b[0;34m\u001b[0m\u001b[0;34m\u001b[0m\u001b[0m\n\u001b[0m",
            "\u001b[0;32m/content/lib.py\u001b[0m in \u001b[0;36mcheck\u001b[0;34m(self)\u001b[0m\n\u001b[1;32m    398\u001b[0m \u001b[0;34m\u001b[0m\u001b[0m\n\u001b[1;32m    399\u001b[0m     \u001b[0;32mdef\u001b[0m \u001b[0mcheck\u001b[0m\u001b[0;34m(\u001b[0m\u001b[0mself\u001b[0m\u001b[0;34m)\u001b[0m\u001b[0;34m:\u001b[0m\u001b[0;34m\u001b[0m\u001b[0;34m\u001b[0m\u001b[0m\n\u001b[0;32m--> 400\u001b[0;31m         \u001b[0mx\u001b[0m \u001b[0;34m=\u001b[0m \u001b[0mself\u001b[0m\u001b[0;34m.\u001b[0m\u001b[0mrun_cuda\u001b[0m\u001b[0;34m(\u001b[0m\u001b[0;34m)\u001b[0m\u001b[0;34m\u001b[0m\u001b[0;34m\u001b[0m\u001b[0m\n\u001b[0m\u001b[1;32m    401\u001b[0m         \u001b[0my\u001b[0m \u001b[0;34m=\u001b[0m \u001b[0mself\u001b[0m\u001b[0;34m.\u001b[0m\u001b[0mspec\u001b[0m\u001b[0;34m(\u001b[0m\u001b[0;34m*\u001b[0m\u001b[0mself\u001b[0m\u001b[0;34m.\u001b[0m\u001b[0minputs\u001b[0m\u001b[0;34m)\u001b[0m\u001b[0;34m\u001b[0m\u001b[0;34m\u001b[0m\u001b[0m\n\u001b[1;32m    402\u001b[0m         \u001b[0;32mtry\u001b[0m\u001b[0;34m:\u001b[0m\u001b[0;34m\u001b[0m\u001b[0;34m\u001b[0m\u001b[0m\n",
            "\u001b[0;32m/content/lib.py\u001b[0m in \u001b[0;36mrun_cuda\u001b[0;34m(self)\u001b[0m\n\u001b[1;32m    340\u001b[0m         \u001b[0mfn\u001b[0m \u001b[0;34m=\u001b[0m \u001b[0mfn\u001b[0m\u001b[0;34m(\u001b[0m\u001b[0mnumba\u001b[0m\u001b[0;34m.\u001b[0m\u001b[0mcuda\u001b[0m\u001b[0;34m)\u001b[0m\u001b[0;34m\u001b[0m\u001b[0;34m\u001b[0m\u001b[0m\n\u001b[1;32m    341\u001b[0m         \u001b[0mjitfn\u001b[0m \u001b[0;34m=\u001b[0m \u001b[0mnumba\u001b[0m\u001b[0;34m.\u001b[0m\u001b[0mcuda\u001b[0m\u001b[0;34m.\u001b[0m\u001b[0mjit\u001b[0m\u001b[0;34m(\u001b[0m\u001b[0mfn\u001b[0m\u001b[0;34m)\u001b[0m\u001b[0;34m\u001b[0m\u001b[0;34m\u001b[0m\u001b[0m\n\u001b[0;32m--> 342\u001b[0;31m         jitfn[self.blockspergrid.tuple(), self.threadsperblock.tuple()](\n\u001b[0m\u001b[1;32m    343\u001b[0m             \u001b[0mself\u001b[0m\u001b[0;34m.\u001b[0m\u001b[0mout\u001b[0m\u001b[0;34m,\u001b[0m \u001b[0;34m*\u001b[0m\u001b[0mself\u001b[0m\u001b[0;34m.\u001b[0m\u001b[0minputs\u001b[0m\u001b[0;34m,\u001b[0m \u001b[0;34m*\u001b[0m\u001b[0mself\u001b[0m\u001b[0;34m.\u001b[0m\u001b[0margs\u001b[0m\u001b[0;34m\u001b[0m\u001b[0;34m\u001b[0m\u001b[0m\n\u001b[1;32m    344\u001b[0m         )\n",
            "\u001b[0;32m/usr/local/lib/python3.11/dist-packages/numba_cuda/numba/cuda/dispatcher.py\u001b[0m in \u001b[0;36m__call__\u001b[0;34m(self, *args)\u001b[0m\n\u001b[1;32m    606\u001b[0m \u001b[0;34m\u001b[0m\u001b[0m\n\u001b[1;32m    607\u001b[0m     \u001b[0;32mdef\u001b[0m \u001b[0m__call__\u001b[0m\u001b[0;34m(\u001b[0m\u001b[0mself\u001b[0m\u001b[0;34m,\u001b[0m \u001b[0;34m*\u001b[0m\u001b[0margs\u001b[0m\u001b[0;34m)\u001b[0m\u001b[0;34m:\u001b[0m\u001b[0;34m\u001b[0m\u001b[0;34m\u001b[0m\u001b[0m\n\u001b[0;32m--> 608\u001b[0;31m         return self.dispatcher.call(args, self.griddim, self.blockdim,\n\u001b[0m\u001b[1;32m    609\u001b[0m                                     self.stream, self.sharedmem)\n\u001b[1;32m    610\u001b[0m \u001b[0;34m\u001b[0m\u001b[0m\n",
            "\u001b[0;32m/usr/local/lib/python3.11/dist-packages/numba_cuda/numba/cuda/dispatcher.py\u001b[0m in \u001b[0;36mcall\u001b[0;34m(self, args, griddim, blockdim, stream, sharedmem)\u001b[0m\n\u001b[1;32m    748\u001b[0m             \u001b[0mkernel\u001b[0m \u001b[0;34m=\u001b[0m \u001b[0mnext\u001b[0m\u001b[0;34m(\u001b[0m\u001b[0miter\u001b[0m\u001b[0;34m(\u001b[0m\u001b[0mself\u001b[0m\u001b[0;34m.\u001b[0m\u001b[0moverloads\u001b[0m\u001b[0;34m.\u001b[0m\u001b[0mvalues\u001b[0m\u001b[0;34m(\u001b[0m\u001b[0;34m)\u001b[0m\u001b[0;34m)\u001b[0m\u001b[0;34m)\u001b[0m\u001b[0;34m\u001b[0m\u001b[0;34m\u001b[0m\u001b[0m\n\u001b[1;32m    749\u001b[0m         \u001b[0;32melse\u001b[0m\u001b[0;34m:\u001b[0m\u001b[0;34m\u001b[0m\u001b[0;34m\u001b[0m\u001b[0m\n\u001b[0;32m--> 750\u001b[0;31m             \u001b[0mkernel\u001b[0m \u001b[0;34m=\u001b[0m \u001b[0m_dispatcher\u001b[0m\u001b[0;34m.\u001b[0m\u001b[0mDispatcher\u001b[0m\u001b[0;34m.\u001b[0m\u001b[0m_cuda_call\u001b[0m\u001b[0;34m(\u001b[0m\u001b[0mself\u001b[0m\u001b[0;34m,\u001b[0m \u001b[0;34m*\u001b[0m\u001b[0margs\u001b[0m\u001b[0;34m)\u001b[0m\u001b[0;34m\u001b[0m\u001b[0;34m\u001b[0m\u001b[0m\n\u001b[0m\u001b[1;32m    751\u001b[0m \u001b[0;34m\u001b[0m\u001b[0m\n\u001b[1;32m    752\u001b[0m         \u001b[0mkernel\u001b[0m\u001b[0;34m.\u001b[0m\u001b[0mlaunch\u001b[0m\u001b[0;34m(\u001b[0m\u001b[0margs\u001b[0m\u001b[0;34m,\u001b[0m \u001b[0mgriddim\u001b[0m\u001b[0;34m,\u001b[0m \u001b[0mblockdim\u001b[0m\u001b[0;34m,\u001b[0m \u001b[0mstream\u001b[0m\u001b[0;34m,\u001b[0m \u001b[0msharedmem\u001b[0m\u001b[0;34m)\u001b[0m\u001b[0;34m\u001b[0m\u001b[0;34m\u001b[0m\u001b[0m\n",
            "\u001b[0;32m/usr/local/lib/python3.11/dist-packages/numba_cuda/numba/cuda/dispatcher.py\u001b[0m in \u001b[0;36m_compile_for_args\u001b[0;34m(self, *args, **kws)\u001b[0m\n\u001b[1;32m    756\u001b[0m         \u001b[0;32massert\u001b[0m \u001b[0;32mnot\u001b[0m \u001b[0mkws\u001b[0m\u001b[0;34m\u001b[0m\u001b[0;34m\u001b[0m\u001b[0m\n\u001b[1;32m    757\u001b[0m         \u001b[0margtypes\u001b[0m \u001b[0;34m=\u001b[0m \u001b[0;34m[\u001b[0m\u001b[0mself\u001b[0m\u001b[0;34m.\u001b[0m\u001b[0mtypeof_pyval\u001b[0m\u001b[0;34m(\u001b[0m\u001b[0ma\u001b[0m\u001b[0;34m)\u001b[0m \u001b[0;32mfor\u001b[0m \u001b[0ma\u001b[0m \u001b[0;32min\u001b[0m \u001b[0margs\u001b[0m\u001b[0;34m]\u001b[0m\u001b[0;34m\u001b[0m\u001b[0;34m\u001b[0m\u001b[0m\n\u001b[0;32m--> 758\u001b[0;31m         \u001b[0;32mreturn\u001b[0m \u001b[0mself\u001b[0m\u001b[0;34m.\u001b[0m\u001b[0mcompile\u001b[0m\u001b[0;34m(\u001b[0m\u001b[0mtuple\u001b[0m\u001b[0;34m(\u001b[0m\u001b[0margtypes\u001b[0m\u001b[0;34m)\u001b[0m\u001b[0;34m)\u001b[0m\u001b[0;34m\u001b[0m\u001b[0;34m\u001b[0m\u001b[0m\n\u001b[0m\u001b[1;32m    759\u001b[0m \u001b[0;34m\u001b[0m\u001b[0m\n\u001b[1;32m    760\u001b[0m     \u001b[0;32mdef\u001b[0m \u001b[0mtypeof_pyval\u001b[0m\u001b[0;34m(\u001b[0m\u001b[0mself\u001b[0m\u001b[0;34m,\u001b[0m \u001b[0mval\u001b[0m\u001b[0;34m)\u001b[0m\u001b[0;34m:\u001b[0m\u001b[0;34m\u001b[0m\u001b[0;34m\u001b[0m\u001b[0m\n",
            "\u001b[0;32m/usr/local/lib/python3.11/dist-packages/numba_cuda/numba/cuda/dispatcher.py\u001b[0m in \u001b[0;36mcompile\u001b[0;34m(self, sig)\u001b[0m\n\u001b[1;32m   1001\u001b[0m                 \u001b[0;32mraise\u001b[0m \u001b[0mRuntimeError\u001b[0m\u001b[0;34m(\u001b[0m\u001b[0;34m\"Compilation disabled\"\u001b[0m\u001b[0;34m)\u001b[0m\u001b[0;34m\u001b[0m\u001b[0;34m\u001b[0m\u001b[0m\n\u001b[1;32m   1002\u001b[0m \u001b[0;34m\u001b[0m\u001b[0m\n\u001b[0;32m-> 1003\u001b[0;31m             \u001b[0mkernel\u001b[0m \u001b[0;34m=\u001b[0m \u001b[0m_Kernel\u001b[0m\u001b[0;34m(\u001b[0m\u001b[0mself\u001b[0m\u001b[0;34m.\u001b[0m\u001b[0mpy_func\u001b[0m\u001b[0;34m,\u001b[0m \u001b[0margtypes\u001b[0m\u001b[0;34m,\u001b[0m \u001b[0;34m**\u001b[0m\u001b[0mself\u001b[0m\u001b[0;34m.\u001b[0m\u001b[0mtargetoptions\u001b[0m\u001b[0;34m)\u001b[0m\u001b[0;34m\u001b[0m\u001b[0;34m\u001b[0m\u001b[0m\n\u001b[0m\u001b[1;32m   1004\u001b[0m             \u001b[0;31m# We call bind to force codegen, so that there is a cubin to cache\u001b[0m\u001b[0;34m\u001b[0m\u001b[0;34m\u001b[0m\u001b[0m\n\u001b[1;32m   1005\u001b[0m             \u001b[0mkernel\u001b[0m\u001b[0;34m.\u001b[0m\u001b[0mbind\u001b[0m\u001b[0;34m(\u001b[0m\u001b[0;34m)\u001b[0m\u001b[0;34m\u001b[0m\u001b[0;34m\u001b[0m\u001b[0m\n",
            "\u001b[0;32m/usr/local/lib/python3.11/dist-packages/numba/core/compiler_lock.py\u001b[0m in \u001b[0;36m_acquire_compile_lock\u001b[0;34m(*args, **kwargs)\u001b[0m\n\u001b[1;32m     33\u001b[0m         \u001b[0;32mdef\u001b[0m \u001b[0m_acquire_compile_lock\u001b[0m\u001b[0;34m(\u001b[0m\u001b[0;34m*\u001b[0m\u001b[0margs\u001b[0m\u001b[0;34m,\u001b[0m \u001b[0;34m**\u001b[0m\u001b[0mkwargs\u001b[0m\u001b[0;34m)\u001b[0m\u001b[0;34m:\u001b[0m\u001b[0;34m\u001b[0m\u001b[0;34m\u001b[0m\u001b[0m\n\u001b[1;32m     34\u001b[0m             \u001b[0;32mwith\u001b[0m \u001b[0mself\u001b[0m\u001b[0;34m:\u001b[0m\u001b[0;34m\u001b[0m\u001b[0;34m\u001b[0m\u001b[0m\n\u001b[0;32m---> 35\u001b[0;31m                 \u001b[0;32mreturn\u001b[0m \u001b[0mfunc\u001b[0m\u001b[0;34m(\u001b[0m\u001b[0;34m*\u001b[0m\u001b[0margs\u001b[0m\u001b[0;34m,\u001b[0m \u001b[0;34m**\u001b[0m\u001b[0mkwargs\u001b[0m\u001b[0;34m)\u001b[0m\u001b[0;34m\u001b[0m\u001b[0;34m\u001b[0m\u001b[0m\n\u001b[0m\u001b[1;32m     36\u001b[0m         \u001b[0;32mreturn\u001b[0m \u001b[0m_acquire_compile_lock\u001b[0m\u001b[0;34m\u001b[0m\u001b[0;34m\u001b[0m\u001b[0m\n\u001b[1;32m     37\u001b[0m \u001b[0;34m\u001b[0m\u001b[0m\n",
            "\u001b[0;32m/usr/local/lib/python3.11/dist-packages/numba_cuda/numba/cuda/dispatcher.py\u001b[0m in \u001b[0;36m__init__\u001b[0;34m(self, py_func, argtypes, link, debug, lineinfo, inline, fastmath, extensions, max_registers, lto, opt, device)\u001b[0m\n\u001b[1;32m    102\u001b[0m             \u001b[0mnvvm_options\u001b[0m\u001b[0;34m[\u001b[0m\u001b[0;34m'g'\u001b[0m\u001b[0;34m]\u001b[0m \u001b[0;34m=\u001b[0m \u001b[0;32mNone\u001b[0m\u001b[0;34m\u001b[0m\u001b[0;34m\u001b[0m\u001b[0m\n\u001b[1;32m    103\u001b[0m \u001b[0;34m\u001b[0m\u001b[0m\n\u001b[0;32m--> 104\u001b[0;31m         \u001b[0mcc\u001b[0m \u001b[0;34m=\u001b[0m \u001b[0mget_current_device\u001b[0m\u001b[0;34m(\u001b[0m\u001b[0;34m)\u001b[0m\u001b[0;34m.\u001b[0m\u001b[0mcompute_capability\u001b[0m\u001b[0;34m\u001b[0m\u001b[0;34m\u001b[0m\u001b[0m\n\u001b[0m\u001b[1;32m    105\u001b[0m         cres = compile_cuda(self.py_func, types.void, self.argtypes,\n\u001b[1;32m    106\u001b[0m                             \u001b[0mdebug\u001b[0m\u001b[0;34m=\u001b[0m\u001b[0mself\u001b[0m\u001b[0;34m.\u001b[0m\u001b[0mdebug\u001b[0m\u001b[0;34m,\u001b[0m\u001b[0;34m\u001b[0m\u001b[0;34m\u001b[0m\u001b[0m\n",
            "\u001b[0;32m/usr/local/lib/python3.11/dist-packages/numba_cuda/numba/cuda/api.py\u001b[0m in \u001b[0;36mget_current_device\u001b[0;34m()\u001b[0m\n\u001b[1;32m    442\u001b[0m \u001b[0;32mdef\u001b[0m \u001b[0mget_current_device\u001b[0m\u001b[0;34m(\u001b[0m\u001b[0;34m)\u001b[0m\u001b[0;34m:\u001b[0m\u001b[0;34m\u001b[0m\u001b[0;34m\u001b[0m\u001b[0m\n\u001b[1;32m    443\u001b[0m     \u001b[0;34m\"Get current device associated with the current thread\"\u001b[0m\u001b[0;34m\u001b[0m\u001b[0;34m\u001b[0m\u001b[0m\n\u001b[0;32m--> 444\u001b[0;31m     \u001b[0;32mreturn\u001b[0m \u001b[0mcurrent_context\u001b[0m\u001b[0;34m(\u001b[0m\u001b[0;34m)\u001b[0m\u001b[0;34m.\u001b[0m\u001b[0mdevice\u001b[0m\u001b[0;34m\u001b[0m\u001b[0;34m\u001b[0m\u001b[0m\n\u001b[0m\u001b[1;32m    445\u001b[0m \u001b[0;34m\u001b[0m\u001b[0m\n\u001b[1;32m    446\u001b[0m \u001b[0;34m\u001b[0m\u001b[0m\n",
            "\u001b[0;32m/usr/local/lib/python3.11/dist-packages/numba_cuda/numba/cuda/cudadrv/devices.py\u001b[0m in \u001b[0;36mget_context\u001b[0;34m(devnum)\u001b[0m\n\u001b[1;32m    218\u001b[0m     \u001b[0;32mreturn\u001b[0m \u001b[0mthe\u001b[0m \u001b[0mCUDA\u001b[0m \u001b[0mcontext\u001b[0m\u001b[0;34m.\u001b[0m\u001b[0;34m\u001b[0m\u001b[0;34m\u001b[0m\u001b[0m\n\u001b[1;32m    219\u001b[0m     \"\"\"\n\u001b[0;32m--> 220\u001b[0;31m     \u001b[0;32mreturn\u001b[0m \u001b[0m_runtime\u001b[0m\u001b[0;34m.\u001b[0m\u001b[0mget_or_create_context\u001b[0m\u001b[0;34m(\u001b[0m\u001b[0mdevnum\u001b[0m\u001b[0;34m)\u001b[0m\u001b[0;34m\u001b[0m\u001b[0;34m\u001b[0m\u001b[0m\n\u001b[0m\u001b[1;32m    221\u001b[0m \u001b[0;34m\u001b[0m\u001b[0m\n\u001b[1;32m    222\u001b[0m \u001b[0;34m\u001b[0m\u001b[0m\n",
            "\u001b[0;32m/usr/local/lib/python3.11/dist-packages/numba_cuda/numba/cuda/cudadrv/devices.py\u001b[0m in \u001b[0;36mget_or_create_context\u001b[0;34m(self, devnum)\u001b[0m\n\u001b[1;32m    136\u001b[0m             \u001b[0mattached_ctx\u001b[0m \u001b[0;34m=\u001b[0m \u001b[0mself\u001b[0m\u001b[0;34m.\u001b[0m\u001b[0m_get_attached_context\u001b[0m\u001b[0;34m(\u001b[0m\u001b[0;34m)\u001b[0m\u001b[0;34m\u001b[0m\u001b[0;34m\u001b[0m\u001b[0m\n\u001b[1;32m    137\u001b[0m             \u001b[0;32mif\u001b[0m \u001b[0mattached_ctx\u001b[0m \u001b[0;32mis\u001b[0m \u001b[0;32mNone\u001b[0m\u001b[0;34m:\u001b[0m\u001b[0;34m\u001b[0m\u001b[0;34m\u001b[0m\u001b[0m\n\u001b[0;32m--> 138\u001b[0;31m                 \u001b[0;32mreturn\u001b[0m \u001b[0mself\u001b[0m\u001b[0;34m.\u001b[0m\u001b[0m_get_or_create_context_uncached\u001b[0m\u001b[0;34m(\u001b[0m\u001b[0mdevnum\u001b[0m\u001b[0;34m)\u001b[0m\u001b[0;34m\u001b[0m\u001b[0;34m\u001b[0m\u001b[0m\n\u001b[0m\u001b[1;32m    139\u001b[0m             \u001b[0;32melse\u001b[0m\u001b[0;34m:\u001b[0m\u001b[0;34m\u001b[0m\u001b[0;34m\u001b[0m\u001b[0m\n\u001b[1;32m    140\u001b[0m                 \u001b[0;32mreturn\u001b[0m \u001b[0mattached_ctx\u001b[0m\u001b[0;34m\u001b[0m\u001b[0;34m\u001b[0m\u001b[0m\n",
            "\u001b[0;32m/usr/local/lib/python3.11/dist-packages/numba_cuda/numba/cuda/cudadrv/devices.py\u001b[0m in \u001b[0;36m_get_or_create_context_uncached\u001b[0;34m(self, devnum)\u001b[0m\n\u001b[1;32m    151\u001b[0m             \u001b[0;31m# Try to get the active context in the CUDA stack or\u001b[0m\u001b[0;34m\u001b[0m\u001b[0;34m\u001b[0m\u001b[0m\n\u001b[1;32m    152\u001b[0m             \u001b[0;31m# activate GPU-0 with the primary context\u001b[0m\u001b[0;34m\u001b[0m\u001b[0;34m\u001b[0m\u001b[0m\n\u001b[0;32m--> 153\u001b[0;31m             \u001b[0;32mwith\u001b[0m \u001b[0mdriver\u001b[0m\u001b[0;34m.\u001b[0m\u001b[0mget_active_context\u001b[0m\u001b[0;34m(\u001b[0m\u001b[0;34m)\u001b[0m \u001b[0;32mas\u001b[0m \u001b[0mac\u001b[0m\u001b[0;34m:\u001b[0m\u001b[0;34m\u001b[0m\u001b[0;34m\u001b[0m\u001b[0m\n\u001b[0m\u001b[1;32m    154\u001b[0m                 \u001b[0;32mif\u001b[0m \u001b[0;32mnot\u001b[0m \u001b[0mac\u001b[0m\u001b[0;34m:\u001b[0m\u001b[0;34m\u001b[0m\u001b[0;34m\u001b[0m\u001b[0m\n\u001b[1;32m    155\u001b[0m                     \u001b[0;32mreturn\u001b[0m \u001b[0mself\u001b[0m\u001b[0;34m.\u001b[0m\u001b[0m_activate_context_for\u001b[0m\u001b[0;34m(\u001b[0m\u001b[0;36m0\u001b[0m\u001b[0;34m)\u001b[0m\u001b[0;34m\u001b[0m\u001b[0;34m\u001b[0m\u001b[0m\n",
            "\u001b[0;32m/usr/local/lib/python3.11/dist-packages/numba_cuda/numba/cuda/cudadrv/driver.py\u001b[0m in \u001b[0;36m__enter__\u001b[0;34m(self)\u001b[0m\n\u001b[1;32m    493\u001b[0m             \u001b[0;32melse\u001b[0m\u001b[0;34m:\u001b[0m\u001b[0;34m\u001b[0m\u001b[0;34m\u001b[0m\u001b[0m\n\u001b[1;32m    494\u001b[0m                 \u001b[0mhctx\u001b[0m \u001b[0;34m=\u001b[0m \u001b[0mdrvapi\u001b[0m\u001b[0;34m.\u001b[0m\u001b[0mcu_context\u001b[0m\u001b[0;34m(\u001b[0m\u001b[0;36m0\u001b[0m\u001b[0;34m)\u001b[0m\u001b[0;34m\u001b[0m\u001b[0;34m\u001b[0m\u001b[0m\n\u001b[0;32m--> 495\u001b[0;31m                 \u001b[0mdriver\u001b[0m\u001b[0;34m.\u001b[0m\u001b[0mcuCtxGetCurrent\u001b[0m\u001b[0;34m(\u001b[0m\u001b[0mbyref\u001b[0m\u001b[0;34m(\u001b[0m\u001b[0mhctx\u001b[0m\u001b[0;34m)\u001b[0m\u001b[0;34m)\u001b[0m\u001b[0;34m\u001b[0m\u001b[0;34m\u001b[0m\u001b[0m\n\u001b[0m\u001b[1;32m    496\u001b[0m                 \u001b[0mhctx\u001b[0m \u001b[0;34m=\u001b[0m \u001b[0mhctx\u001b[0m \u001b[0;32mif\u001b[0m \u001b[0mhctx\u001b[0m\u001b[0;34m.\u001b[0m\u001b[0mvalue\u001b[0m \u001b[0;32melse\u001b[0m \u001b[0;32mNone\u001b[0m\u001b[0;34m\u001b[0m\u001b[0;34m\u001b[0m\u001b[0m\n\u001b[1;32m    497\u001b[0m \u001b[0;34m\u001b[0m\u001b[0m\n",
            "\u001b[0;32m/usr/local/lib/python3.11/dist-packages/numba_cuda/numba/cuda/cudadrv/driver.py\u001b[0m in \u001b[0;36m__getattr__\u001b[0;34m(self, fname)\u001b[0m\n\u001b[1;32m    293\u001b[0m \u001b[0;34m\u001b[0m\u001b[0m\n\u001b[1;32m    294\u001b[0m         \u001b[0;32mif\u001b[0m \u001b[0mself\u001b[0m\u001b[0;34m.\u001b[0m\u001b[0minitialization_error\u001b[0m \u001b[0;32mis\u001b[0m \u001b[0;32mnot\u001b[0m \u001b[0;32mNone\u001b[0m\u001b[0;34m:\u001b[0m\u001b[0;34m\u001b[0m\u001b[0;34m\u001b[0m\u001b[0m\n\u001b[0;32m--> 295\u001b[0;31m             raise CudaSupportError(\"Error at driver init: \\n%s:\" %\n\u001b[0m\u001b[1;32m    296\u001b[0m                                    self.initialization_error)\n\u001b[1;32m    297\u001b[0m \u001b[0;34m\u001b[0m\u001b[0m\n",
            "\u001b[0;31mCudaSupportError\u001b[0m: Error at driver init: \n\nCUDA driver library cannot be found.\nIf you are sure that a CUDA driver is installed,\ntry setting environment variable NUMBA_CUDA_DRIVER\nwith the file path of the CUDA driver shared library.\n:",
            "",
            "\u001b[0;31m---------------------------------------------------------------------------\u001b[0;32m\nNOTE: If your import is failing due to a missing package, you can\nmanually install dependencies using either !pip or !apt.\n\nTo view examples of installing some common dependencies, click the\n\"Open Examples\" button below.\n\u001b[0;31m---------------------------------------------------------------------------\u001b[0m\n"
          ],
          "errorDetails": {
            "actions": [
              {
                "action": "open_url",
                "actionText": "Open Examples",
                "url": "/notebooks/snippets/importing_libraries.ipynb"
              }
            ]
          }
        }
      ],
      "source": [
        "problem.check()"
      ]
    },
    {
      "cell_type": "code",
      "source": [],
      "metadata": {
        "id": "sHM3fUmdXVxb"
      },
      "id": "sHM3fUmdXVxb",
      "execution_count": null,
      "outputs": []
    },
    {
      "cell_type": "markdown",
      "id": "fd6ffcb3",
      "metadata": {
        "id": "fd6ffcb3"
      },
      "source": [
        "Test 2"
      ]
    },
    {
      "cell_type": "code",
      "execution_count": null,
      "id": "60853445",
      "metadata": {
        "execution": {
          "iopub.execute_input": "2022-08-07T21:24:43.372330Z",
          "iopub.status.busy": "2022-08-07T21:24:43.371893Z",
          "iopub.status.idle": "2022-08-07T21:24:43.587696Z",
          "shell.execute_reply": "2022-08-07T21:24:43.586874Z"
        },
        "id": "60853445"
      },
      "outputs": [],
      "source": [
        "out = np.zeros(15)\n",
        "a = np.arange(15)\n",
        "b = np.arange(4)\n",
        "problem = CudaProblem(\n",
        "    \"1D Conv (Full)\",\n",
        "    conv_test,\n",
        "    [a, b],\n",
        "    out,\n",
        "    [15, 4],\n",
        "    Coord(2, 1),\n",
        "    Coord(TPB, 1),\n",
        "    spec=conv_spec,\n",
        ")\n",
        "problem.show()"
      ]
    },
    {
      "cell_type": "code",
      "execution_count": null,
      "id": "80a29f20",
      "metadata": {
        "execution": {
          "iopub.execute_input": "2022-08-07T21:24:43.592341Z",
          "iopub.status.busy": "2022-08-07T21:24:43.591898Z",
          "iopub.status.idle": "2022-08-07T21:24:43.632088Z",
          "shell.execute_reply": "2022-08-07T21:24:43.631270Z"
        },
        "id": "80a29f20"
      },
      "outputs": [],
      "source": [
        "problem.check()"
      ]
    },
    {
      "cell_type": "markdown",
      "id": "2d5f53d7",
      "metadata": {
        "id": "2d5f53d7"
      },
      "source": [
        "## Puzzle 12 - Prefix Sum\n",
        "\n",
        "Implement a kernel that computes a sum over `a` and stores it in `out`.\n",
        "If the size of `a` is greater than the block size, only store the sum of\n",
        "each block."
      ]
    },
    {
      "cell_type": "markdown",
      "id": "2e41aec0",
      "metadata": {
        "id": "2e41aec0"
      },
      "source": [
        "We will do this using the [parallel prefix sum](https://en.wikipedia.org/wiki/Prefix_sum) algorithm in shared memory.\n",
        "That is, each step of the algorithm should sum together half the remaining numbers.\n",
        "Follow this diagram:"
      ]
    },
    {
      "cell_type": "markdown",
      "id": "9c6a47dd",
      "metadata": {
        "id": "9c6a47dd"
      },
      "source": [
        "![](https://user-images.githubusercontent.com/35882/178757889-1c269623-93af-4a2e-a7e9-22cd55a42e38.png)"
      ]
    },
    {
      "cell_type": "code",
      "execution_count": null,
      "id": "130a0a8d",
      "metadata": {
        "execution": {
          "iopub.execute_input": "2022-08-07T21:24:43.636349Z",
          "iopub.status.busy": "2022-08-07T21:24:43.635880Z",
          "iopub.status.idle": "2022-08-07T21:24:43.714064Z",
          "shell.execute_reply": "2022-08-07T21:24:43.713293Z"
        },
        "id": "130a0a8d"
      },
      "outputs": [],
      "source": [
        "TPB = 8\n",
        "def sum_spec(a):\n",
        "    out = np.zeros((a.shape[0] + TPB - 1) // TPB)\n",
        "    for j, i in enumerate(range(0, a.shape[-1], TPB)):\n",
        "        out[j] = a[i : i + TPB].sum()\n",
        "    return out\n",
        "\n",
        "\n",
        "def sum_test(cuda):\n",
        "    def call(out, a, size: int) -> None:\n",
        "        cache = cuda.shared.array(TPB, numba.float32)\n",
        "        i = cuda.blockIdx.x * cuda.blockDim.x + cuda.threadIdx.x\n",
        "        local_i = cuda.threadIdx.x\n",
        "        # FILL ME IN (roughly 12 lines)\n",
        "\n",
        "    return call\n",
        "\n",
        "\n",
        "# Test 1\n",
        "\n",
        "SIZE = 8\n",
        "out = np.zeros(1)\n",
        "inp = np.arange(SIZE)\n",
        "problem = CudaProblem(\n",
        "    \"Sum (Simple)\",\n",
        "    sum_test,\n",
        "    [inp],\n",
        "    out,\n",
        "    [SIZE],\n",
        "    Coord(1, 1),\n",
        "    Coord(TPB, 1),\n",
        "    spec=sum_spec,\n",
        ")\n",
        "problem.show()"
      ]
    },
    {
      "cell_type": "code",
      "execution_count": null,
      "id": "e03a0c71",
      "metadata": {
        "execution": {
          "iopub.execute_input": "2022-08-07T21:24:43.717874Z",
          "iopub.status.busy": "2022-08-07T21:24:43.717439Z",
          "iopub.status.idle": "2022-08-07T21:24:43.762084Z",
          "shell.execute_reply": "2022-08-07T21:24:43.761264Z"
        },
        "id": "e03a0c71"
      },
      "outputs": [],
      "source": [
        "problem.check()"
      ]
    },
    {
      "cell_type": "markdown",
      "id": "ccd86af0",
      "metadata": {
        "id": "ccd86af0"
      },
      "source": [
        "Test 2"
      ]
    },
    {
      "cell_type": "code",
      "execution_count": null,
      "id": "89b021a9",
      "metadata": {
        "execution": {
          "iopub.execute_input": "2022-08-07T21:24:43.766261Z",
          "iopub.status.busy": "2022-08-07T21:24:43.765816Z",
          "iopub.status.idle": "2022-08-07T21:24:43.906583Z",
          "shell.execute_reply": "2022-08-07T21:24:43.905757Z"
        },
        "id": "89b021a9"
      },
      "outputs": [],
      "source": [
        "SIZE = 15\n",
        "out = np.zeros(2)\n",
        "inp = np.arange(SIZE)\n",
        "problem = CudaProblem(\n",
        "    \"Sum (Full)\",\n",
        "    sum_test,\n",
        "    [inp],\n",
        "    out,\n",
        "    [SIZE],\n",
        "    Coord(2, 1),\n",
        "    Coord(TPB, 1),\n",
        "    spec=sum_spec,\n",
        ")\n",
        "problem.show()"
      ]
    },
    {
      "cell_type": "code",
      "execution_count": null,
      "id": "16dad418",
      "metadata": {
        "execution": {
          "iopub.execute_input": "2022-08-07T21:24:43.910655Z",
          "iopub.status.busy": "2022-08-07T21:24:43.910219Z",
          "iopub.status.idle": "2022-08-07T21:24:43.955778Z",
          "shell.execute_reply": "2022-08-07T21:24:43.954979Z"
        },
        "id": "16dad418"
      },
      "outputs": [],
      "source": [
        "problem.check()"
      ]
    },
    {
      "cell_type": "markdown",
      "id": "162146c3",
      "metadata": {
        "id": "162146c3"
      },
      "source": [
        "## Puzzle 13 - Axis Sum\n",
        "\n",
        "Implement a kernel that computes a sum over each column of `a` and stores it in `out`."
      ]
    },
    {
      "cell_type": "code",
      "execution_count": null,
      "id": "e87fd5df",
      "metadata": {
        "execution": {
          "iopub.execute_input": "2022-08-07T21:24:43.959820Z",
          "iopub.status.busy": "2022-08-07T21:24:43.959380Z",
          "iopub.status.idle": "2022-08-07T21:24:44.280640Z",
          "shell.execute_reply": "2022-08-07T21:24:44.279832Z"
        },
        "id": "e87fd5df"
      },
      "outputs": [],
      "source": [
        "TPB = 8\n",
        "def sum_spec(a):\n",
        "    out = np.zeros((a.shape[0], (a.shape[1] + TPB - 1) // TPB))\n",
        "    for j, i in enumerate(range(0, a.shape[-1], TPB)):\n",
        "        out[..., j] = a[..., i : i + TPB].sum(-1)\n",
        "    return out\n",
        "\n",
        "\n",
        "def axis_sum_test(cuda):\n",
        "    def call(out, a, size: int) -> None:\n",
        "        cache = cuda.shared.array(TPB, numba.float32)\n",
        "        i = cuda.blockIdx.x * cuda.blockDim.x + cuda.threadIdx.x\n",
        "        local_i = cuda.threadIdx.x\n",
        "        batch = cuda.blockIdx.y\n",
        "        # FILL ME IN (roughly 12 lines)\n",
        "\n",
        "    return call\n",
        "\n",
        "\n",
        "BATCH = 4\n",
        "SIZE = 6\n",
        "out = np.zeros((BATCH, 1))\n",
        "inp = np.arange(BATCH * SIZE).reshape((BATCH, SIZE))\n",
        "problem = CudaProblem(\n",
        "    \"Axis Sum\",\n",
        "    axis_sum_test,\n",
        "    [inp],\n",
        "    out,\n",
        "    [SIZE],\n",
        "    Coord(1, BATCH),\n",
        "    Coord(TPB, 1),\n",
        "    spec=sum_spec,\n",
        ")\n",
        "problem.show()"
      ]
    },
    {
      "cell_type": "code",
      "execution_count": null,
      "id": "c3326563",
      "metadata": {
        "execution": {
          "iopub.execute_input": "2022-08-07T21:24:44.289173Z",
          "iopub.status.busy": "2022-08-07T21:24:44.288667Z",
          "iopub.status.idle": "2022-08-07T21:24:44.336305Z",
          "shell.execute_reply": "2022-08-07T21:24:44.335469Z"
        },
        "lines_to_end_of_cell_marker": 0,
        "lines_to_next_cell": 1,
        "id": "c3326563"
      },
      "outputs": [],
      "source": [
        "problem.check()"
      ]
    },
    {
      "cell_type": "markdown",
      "id": "300312e8",
      "metadata": {
        "id": "300312e8"
      },
      "source": [
        "## Puzzle 14 - Matrix Multiply!\n",
        "\n",
        "Implement a kernel that multiplies square matrices `a` and `b` and\n",
        "stores the result in `out`.\n",
        "\n",
        "*Tip: The most efficient algorithm here will copy a block into\n",
        " shared memory before computing each of the individual row-column\n",
        " dot products. This is easy to do if the matrix fits in shared\n",
        " memory.  Do that case first. Then update your code to compute\n",
        " a partial dot-product and iteratively move the part you\n",
        " copied into shared memory.* You should be able to do the hard case\n",
        " in 6 global reads."
      ]
    },
    {
      "cell_type": "code",
      "execution_count": null,
      "id": "252db1c3",
      "metadata": {
        "execution": {
          "iopub.execute_input": "2022-08-07T21:24:44.340330Z",
          "iopub.status.busy": "2022-08-07T21:24:44.339875Z",
          "iopub.status.idle": "2022-08-07T21:24:44.433833Z",
          "shell.execute_reply": "2022-08-07T21:24:44.433028Z"
        },
        "id": "252db1c3"
      },
      "outputs": [],
      "source": [
        "def matmul_spec(a, b):\n",
        "    return a @ b\n",
        "\n",
        "\n",
        "TPB = 3\n",
        "def mm_oneblock_test(cuda):\n",
        "    def call(out, a, b, size: int) -> None:\n",
        "        a_shared = cuda.shared.array((TPB, TPB), numba.float32)\n",
        "        b_shared = cuda.shared.array((TPB, TPB), numba.float32)\n",
        "\n",
        "        i = cuda.blockIdx.x * cuda.blockDim.x + cuda.threadIdx.x\n",
        "        j = cuda.blockIdx.y * cuda.blockDim.y + cuda.threadIdx.y\n",
        "        local_i = cuda.threadIdx.x\n",
        "        local_j = cuda.threadIdx.y\n",
        "        # FILL ME IN (roughly 14 lines)\n",
        "\n",
        "    return call\n",
        "\n",
        "# Test 1\n",
        "\n",
        "SIZE = 2\n",
        "out = np.zeros((SIZE, SIZE))\n",
        "inp1 = np.arange(SIZE * SIZE).reshape((SIZE, SIZE))\n",
        "inp2 = np.arange(SIZE * SIZE).reshape((SIZE, SIZE)).T\n",
        "\n",
        "problem = CudaProblem(\n",
        "    \"Matmul (Simple)\",\n",
        "    mm_oneblock_test,\n",
        "    [inp1, inp2],\n",
        "    out,\n",
        "    [SIZE],\n",
        "    Coord(1, 1),\n",
        "    Coord(TPB, TPB),\n",
        "    spec=matmul_spec,\n",
        ")\n",
        "problem.show(sparse=True)"
      ]
    },
    {
      "cell_type": "code",
      "execution_count": null,
      "id": "cb812973",
      "metadata": {
        "execution": {
          "iopub.execute_input": "2022-08-07T21:24:44.437576Z",
          "iopub.status.busy": "2022-08-07T21:24:44.437142Z",
          "iopub.status.idle": "2022-08-07T21:24:44.502001Z",
          "shell.execute_reply": "2022-08-07T21:24:44.501163Z"
        },
        "id": "cb812973"
      },
      "outputs": [],
      "source": [
        "problem.check()"
      ]
    },
    {
      "cell_type": "markdown",
      "id": "f119be2d",
      "metadata": {
        "id": "f119be2d"
      },
      "source": [
        "Test 2"
      ]
    },
    {
      "cell_type": "code",
      "execution_count": null,
      "id": "e713d056",
      "metadata": {
        "execution": {
          "iopub.execute_input": "2022-08-07T21:24:44.506178Z",
          "iopub.status.busy": "2022-08-07T21:24:44.505708Z",
          "iopub.status.idle": "2022-08-07T21:24:47.932059Z",
          "shell.execute_reply": "2022-08-07T21:24:47.931153Z"
        },
        "id": "e713d056"
      },
      "outputs": [],
      "source": [
        "SIZE = 8\n",
        "out = np.zeros((SIZE, SIZE))\n",
        "inp1 = np.arange(SIZE * SIZE).reshape((SIZE, SIZE))\n",
        "inp2 = np.arange(SIZE * SIZE).reshape((SIZE, SIZE)).T\n",
        "\n",
        "problem = CudaProblem(\n",
        "    \"Matmul (Full)\",\n",
        "    mm_oneblock_test,\n",
        "    [inp1, inp2],\n",
        "    out,\n",
        "    [SIZE],\n",
        "    Coord(3, 3),\n",
        "    Coord(TPB, TPB),\n",
        "    spec=matmul_spec,\n",
        ")\n",
        "problem.show(sparse=True)"
      ]
    },
    {
      "cell_type": "code",
      "execution_count": null,
      "id": "61bda17c",
      "metadata": {
        "execution": {
          "iopub.execute_input": "2022-08-07T21:24:47.956298Z",
          "iopub.status.busy": "2022-08-07T21:24:47.955822Z",
          "iopub.status.idle": "2022-08-07T21:24:48.019620Z",
          "shell.execute_reply": "2022-08-07T21:24:48.018792Z"
        },
        "id": "61bda17c"
      },
      "outputs": [],
      "source": [
        "problem.check()"
      ]
    }
  ],
  "metadata": {
    "jupytext": {
      "cell_metadata_filter": "-all"
    },
    "kernelspec": {
      "display_name": "Python 3",
      "name": "python3"
    },
    "language_info": {
      "codemirror_mode": {
        "name": "ipython",
        "version": 3
      },
      "file_extension": ".py",
      "mimetype": "text/x-python",
      "name": "python",
      "nbconvert_exporter": "python",
      "pygments_lexer": "ipython3",
      "version": "3.8.10"
    },
    "colab": {
      "provenance": [],
      "gpuType": "T4"
    },
    "accelerator": "GPU"
  },
  "nbformat": 4,
  "nbformat_minor": 5
}